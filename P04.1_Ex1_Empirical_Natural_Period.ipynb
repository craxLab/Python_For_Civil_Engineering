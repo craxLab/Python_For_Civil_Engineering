{
 "cells": [
  {
   "cell_type": "markdown",
   "metadata": {},
   "source": [
    "## Computer Programming with Python\n",
    "\n",
    "#### Instructor : Dr. Aydin Demir\n",
    "\n",
    "www.aydindemir.com | GitHub & Instagram: @craxLab | Web: www.craxLab.com\n",
    "\n",
    "---"
   ]
  },
  {
   "cell_type": "markdown",
   "metadata": {},
   "source": [
    "# Example 1A:\n",
    "\n",
    "Turkish Seismic Code for Buildings - 2018\n",
    "\n",
    "<img src=\"./Figures/Examples/EmpiricalPeriod.png\" align=\"left\"/>"
   ]
  },
  {
   "cell_type": "code",
   "execution_count": 5,
   "metadata": {},
   "outputs": [
    {
     "name": "stdout",
     "output_type": "stream",
     "text": [
      "\n",
      "SEÇENEKLER:\n",
      "Betonarme çerçeve: 1\n",
      "Çelik çerçeve: 2\n",
      "Diğer tüm binalar: 3\n",
      "Programdan çıkmak için q veya Q harfine basınız\n",
      "Bina türünü yukarıdaki seçeneklere göre giriniz:5\n",
      "Hata: yanlış seçim yaptınız\n",
      "\n",
      "SEÇENEKLER:\n",
      "Betonarme çerçeve: 1\n",
      "Çelik çerçeve: 2\n",
      "Diğer tüm binalar: 3\n",
      "Programdan çıkmak için q veya Q harfine basınız\n",
      "Bina türünü yukarıdaki seçeneklere göre giriniz:kdfdfkdf\n",
      "Hata: yanlış seçim yaptınız\n",
      "\n",
      "SEÇENEKLER:\n",
      "Betonarme çerçeve: 1\n",
      "Çelik çerçeve: 2\n",
      "Diğer tüm binalar: 3\n",
      "Programdan çıkmak için q veya Q harfine basınız\n",
      "Bina türünü yukarıdaki seçeneklere göre giriniz:q\n",
      "Programdan çıkıldı.\n"
     ]
    }
   ],
   "source": [
    "# Ampirik hakim doğal titreşim periyodun hesabı\n",
    "def periyot(Hn, Ct):\n",
    "    TpA = Ct*Hn**(3/4)\n",
    "    return TpA\n",
    "\n",
    "while True:\n",
    "    print(\"\\nSEÇENEKLER:\")\n",
    "    print(\"Betonarme çerçeve: 1\")\n",
    "    print(\"Çelik çerçeve: 2\")\n",
    "    print(\"Diğer tüm binalar: 3\")\n",
    "    print(\"Programdan çıkmak için q veya Q harfine basınız\")\n",
    "    \n",
    "    binaTuru = input(\"Bina türünü yukarıdaki seçeneklere göre giriniz:\")\n",
    "    \n",
    "    if binaTuru == \"q\" or binaTuru == \"Q\":\n",
    "        print(\"Programdan çıkıldı.\")\n",
    "        break\n",
    "    elif binaTuru == \"1\":\n",
    "        print(\"Betonarme çerçeve seçildi.\")\n",
    "        Ct = 0.1\n",
    "    elif binaTuru == \"2\":\n",
    "        print(\"Çelik çerçeve seçildi.\")\n",
    "        Ct = 0.08\n",
    "    elif binaTuru == \"3\":\n",
    "        print(\"Diğer bina türü seçildi.\")\n",
    "        Ct = 0.07\n",
    "    else:\n",
    "        print(\"Hata: yanlış seçim yaptınız\")\n",
    "        continue\n",
    "        \n",
    "    \n",
    "    binaHn = input(\"\\nBina yüksekliğini giriniz [m]:\")\n",
    "    \n",
    "    if binaTuru == \"q\" or binaTuru == \"Q\":\n",
    "        print(\"Programdan çıkıldı.\")\n",
    "        break\n",
    "        \n",
    "    TpA = periyot(float(binaHn), Ct)\n",
    "    \n",
    "    print(f\"Ampirik hakim doğal titreşim periyou, TpA= {TpA} s\")"
   ]
  },
  {
   "cell_type": "markdown",
   "metadata": {},
   "source": [
    "---\n",
    "\n",
    "# Example 1B:\n",
    "\n",
    "Yatay elastik tasarım spektral ivmesinin (Sae(T)) , Ampirik hakim doğal titreşim periyoduna (TpA) bağlı olarak yerçekimi ivmesi [m/s^2] cinsinden bulunması"
   ]
  },
  {
   "cell_type": "markdown",
   "metadata": {},
   "source": [
    "## Elastic Horizontal Acceleration Design Spectrum according to TEC-2018\n",
    "\n",
    "![](./Figures/DesignSpectrum/Ex_Design_SpectrumHor2.png)\n",
    "![](./Figures/DesignSpectrum/Ex_Design_SpectrumHor1.png)"
   ]
  },
  {
   "cell_type": "code",
   "execution_count": 6,
   "metadata": {},
   "outputs": [],
   "source": [
    "# Fonksiyonlar:\n",
    "def periyot(Hn, Ct):\n",
    "    TpA = Ct*Hn**(3/4)\n",
    "    return TpA\n",
    "\n",
    "def spectrum(Ti, Ta, Sds, Tb, Tl, Sd1):\n",
    "    if Ti > 0 or Ti <= Ta:\n",
    "        Saei = (0.4+0.6*Ti/Ta)*Sds\n",
    "    elif Ti > Ta or Ti <= Tb:\n",
    "        Saei = Sds\n",
    "    elif Ti > Tb or Ti <= Tl:\n",
    "        Saei = Sd1/Ti\n",
    "    else:\n",
    "        Saei = Sd1*Tl/Ti**2\n",
    "    return Saei"
   ]
  },
  {
   "cell_type": "code",
   "execution_count": 10,
   "metadata": {},
   "outputs": [
    {
     "name": "stdout",
     "output_type": "stream",
     "text": [
      "\n",
      "SEÇENEKLER:\n",
      "Betonarme çerçeve: 1\n",
      "Çelik çerçeve: 2\n",
      "Diğer tüm binalar: 3\n",
      "Programdan çıkmak için q veya Q harfine basınız\n",
      "Bina türünü yukarıdaki seçeneklere göre giriniz:1\n",
      "Betonarme çerçeve seçildi.\n",
      "\n",
      "Bina yüksekliğini giriniz [m]:10\n",
      "Ampirik hakim doğal titreşim periyou, TpA= 0.5623413251903492 s\n",
      "Yatay elastik tasarım spekral ivme, Sae(T)= 29.503214390906102 m/s2\n",
      "\n",
      "SEÇENEKLER:\n",
      "Betonarme çerçeve: 1\n",
      "Çelik çerçeve: 2\n",
      "Diğer tüm binalar: 3\n",
      "Programdan çıkmak için q veya Q harfine basınız\n",
      "Bina türünü yukarıdaki seçeneklere göre giriniz:q\n",
      "Programdan çıkıldı.\n"
     ]
    }
   ],
   "source": [
    "# TBDY 2019'a göre \"Yatay Elastik Tasarım Spektrumu\" hesabı\n",
    "Ss = 1.518 ; Fs = 0.800 ; S1 = 0.417 ; F1 = 2.366\n",
    "\n",
    "Sds = Ss*Fs\n",
    "Sd1 = S1*F1\n",
    "Ta = 0.2*Sd1/Sds\n",
    "Tb = Sd1/Sds\n",
    "Tl = 6\n",
    "\n",
    "while True:\n",
    "    print(\"\\nSEÇENEKLER:\")\n",
    "    print(\"Betonarme çerçeve: 1\")\n",
    "    print(\"Çelik çerçeve: 2\")\n",
    "    print(\"Diğer tüm binalar: 3\")\n",
    "    print(\"Programdan çıkmak için q veya Q harfine basınız\")\n",
    "    \n",
    "    binaTuru = input(\"Bina türünü yukarıdaki seçeneklere göre giriniz:\")\n",
    "    \n",
    "    if binaTuru == \"q\" or binaTuru == \"Q\":\n",
    "        print(\"Programdan çıkıldı.\")\n",
    "        break\n",
    "    elif binaTuru == \"1\":\n",
    "        print(\"Betonarme çerçeve seçildi.\")\n",
    "        Ct = 0.1\n",
    "    elif binaTuru == \"2\":\n",
    "        print(\"Çelik çerçeve seçildi.\")\n",
    "        Ct = 0.08\n",
    "    elif binaTuru == \"3\":\n",
    "        print(\"Diğer bina türü seçildi.\")\n",
    "        Ct = 0.07\n",
    "    else:\n",
    "        print(\"Hata: yanlış seçim yaptınız\")\n",
    "        continue\n",
    "        \n",
    "    \n",
    "    binaHn = input(\"\\nBina yüksekliğini giriniz [m]:\")\n",
    "    \n",
    "    if binaTuru == \"q\" or binaTuru == \"Q\":\n",
    "        print(\"Programdan çıkıldı.\")\n",
    "        break\n",
    "        \n",
    "    TpA = periyot(float(binaHn), Ct)\n",
    "    \n",
    "    Sae = spectrum(TpA, Ta, Sds, Tb, Tl, Sd1)*9.81\n",
    "    \n",
    "    print(f\"Ampirik hakim doğal titreşim periyou, TpA= {TpA} s\")\n",
    "    print(f\"Yatay elastik tasarım spekral ivme, Sae(T)= {Sae} m/s2\")"
   ]
  }
 ],
 "metadata": {
  "hide_input": false,
  "kernelspec": {
   "display_name": "Python 3 (ipykernel)",
   "language": "python",
   "name": "python3"
  },
  "language_info": {
   "codemirror_mode": {
    "name": "ipython",
    "version": 3
   },
   "file_extension": ".py",
   "mimetype": "text/x-python",
   "name": "python",
   "nbconvert_exporter": "python",
   "pygments_lexer": "ipython3",
   "version": "3.9.13"
  },
  "varInspector": {
   "cols": {
    "lenName": 16,
    "lenType": 16,
    "lenVar": 40
   },
   "kernels_config": {
    "python": {
     "delete_cmd_postfix": "",
     "delete_cmd_prefix": "del ",
     "library": "var_list.py",
     "varRefreshCmd": "print(var_dic_list())"
    },
    "r": {
     "delete_cmd_postfix": ") ",
     "delete_cmd_prefix": "rm(",
     "library": "var_list.r",
     "varRefreshCmd": "cat(var_dic_list()) "
    }
   },
   "types_to_exclude": [
    "module",
    "function",
    "builtin_function_or_method",
    "instance",
    "_Feature"
   ],
   "window_display": false
  }
 },
 "nbformat": 4,
 "nbformat_minor": 4
}
