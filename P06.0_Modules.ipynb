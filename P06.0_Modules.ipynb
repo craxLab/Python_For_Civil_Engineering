{
 "cells": [
  {
   "cell_type": "markdown",
   "metadata": {},
   "source": [
    "## INM 439 - PYTHON APPLICATIONS IN STRUCTURAL ENGINEERING\n",
    "### Dr. Aydın DEMİR \n",
    "aydindemir@sakarya.edu.tr      \n",
    "www.aydindemir.com"
   ]
  },
  {
   "cell_type": "markdown",
   "metadata": {},
   "source": [
    "### The topics of the week:\n",
    "\n",
    "- Modules in Python:\n",
    "---"
   ]
  },
  {
   "cell_type": "markdown",
   "metadata": {},
   "source": [
    "## What is a Module?\n",
    "\n",
    "- Consider a module as a package to be the same as a **code library**.\n",
    "\n",
    "- A file containing a set of functions you want to include in your application.\n",
    "\n",
    "- There are many free modules can be used in Python which can be easly find on the internet.\n",
    "\n",
    "### Some useful modules in Python to solve civil engineering problems:\n",
    "\n",
    "### https://www.scipy.org/\n",
    "\n",
    "![](./Figures/modules.png)\n",
    "\n",
    "---"
   ]
  },
  {
   "cell_type": "markdown",
   "metadata": {},
   "source": [
    "## Install and Use a Module\n",
    "\n",
    "You can install a **module** as below;\n",
    "\n",
    "- Open Anaconda Command prompt as administrator from start menu\n",
    "- write one of the following expressions.\n",
    "\n",
    "<font color=blue>conda install numpy<font>\n",
    "\n",
    ",or\n",
    "\n",
    "<font color=blue>pip install numpy<font>\n",
    "\n",
    "- SciPy, Numpy, Matplotlib are already installed in Anaconda environment.\n",
    "\n",
    "![](./Figures/anaconda_packages.png)"
   ]
  },
  {
   "cell_type": "markdown",
   "metadata": {},
   "source": [
    "### Now we can use the module, by using the **import** statement:\n",
    "\n",
    "Syntax: import module_name\n",
    "\n",
    "**How to import matplotlib ?**"
   ]
  },
  {
   "cell_type": "code",
   "execution_count": null,
   "metadata": {},
   "outputs": [],
   "source": [
    "import matplotlib.pyplot"
   ]
  },
  {
   "cell_type": "markdown",
   "metadata": {},
   "source": [
    ": **plt** stands for an abbreviation in order to keep code standardized and make it easier to understand and faster to run."
   ]
  },
  {
   "cell_type": "code",
   "execution_count": null,
   "metadata": {},
   "outputs": [],
   "source": [
    "import matplotlib.pyplot as plt"
   ]
  },
  {
   "cell_type": "markdown",
   "metadata": {},
   "source": [
    "### Use a Module\n",
    "\n",
    "Now we can use the module we just created, by using the **import** statement:\n",
    "\n",
    "Syntax: moduleName.function()/variable\n",
    "\n",
    "**Example:** call X-Y scatter graph plot function in the matplotlib module;"
   ]
  },
  {
   "cell_type": "code",
   "execution_count": null,
   "metadata": {},
   "outputs": [],
   "source": [
    "plt.plot(t,ivme)"
   ]
  },
  {
   "cell_type": "markdown",
   "metadata": {},
   "source": [
    "### Create a User Defined (UDF) Module\n",
    "\n",
    "To create a module just save the code you want in a file with the file extension .py:\n",
    "\n",
    "\n",
    "**Importing Jupyter Notebooks as Modules:**\n",
    "\n",
    "It is a common problem that people want to import code from Jupyter Notebooks. This is made difficult by the fact that Notebooks are not plain Python files, and thus cannot be imported by the regular Python machinery.\n",
    "\n",
    "https://jupyter-notebook.readthedocs.io/en/stable/examples/Notebook/Importing%20Notebooks.html"
   ]
  },
  {
   "cell_type": "markdown",
   "metadata": {},
   "source": [
    "**Example:**\n",
    "\n",
    "Import the module named MyModule, and call the \"welcome\" function:\n",
    "\n",
    "<img src=\"./Figures/mymodule.png\" align=\"left\"/>"
   ]
  },
  {
   "cell_type": "code",
   "execution_count": 1,
   "metadata": {},
   "outputs": [
    {
     "name": "stdout",
     "output_type": "stream",
     "text": [
      "Sakarya\n",
      "1\n"
     ]
    }
   ],
   "source": [
    "import P06_MyModule\n",
    "\n",
    "print(P06_MyModule.city)\n",
    "print(P06_MyModule.x)"
   ]
  },
  {
   "cell_type": "code",
   "execution_count": 2,
   "metadata": {},
   "outputs": [
    {
     "name": "stdout",
     "output_type": "stream",
     "text": [
      "6\n"
     ]
    }
   ],
   "source": [
    "print(P06_MyModule.x + 5)"
   ]
  },
  {
   "cell_type": "code",
   "execution_count": 3,
   "metadata": {},
   "outputs": [
    {
     "name": "stdout",
     "output_type": "stream",
     "text": [
      "Welcome home Ahmet !...\n"
     ]
    }
   ],
   "source": [
    "P06_MyModule.welcome(\"Ahmet\")"
   ]
  },
  {
   "cell_type": "markdown",
   "metadata": {},
   "source": [
    "OR; other structure:"
   ]
  },
  {
   "cell_type": "code",
   "execution_count": 4,
   "metadata": {},
   "outputs": [
    {
     "name": "stdout",
     "output_type": "stream",
     "text": [
      "Welcome home Ahmet !...\n"
     ]
    }
   ],
   "source": [
    "import P06_MyModule as my\n",
    "\n",
    "my.welcome(\"Ahmet\")"
   ]
  },
  {
   "cell_type": "markdown",
   "metadata": {},
   "source": [
    "**To import everything in a module:**\n",
    "\n",
    "No need to use moduleName. prefix.\n",
    "\n",
    "Syntax: from moduleName import *\n",
    "\n",
    "Note: The use of \"import MyModule\" method is better to keep the namespace clean. It keeps your code more readable, when you see a call like np.sum(array) you are reminded that you should work with an numpy array. The second reason is that many of the numpy functions have identical names as functions in other modules like scipy... If you use both its always clear which one you are using."
   ]
  },
  {
   "cell_type": "code",
   "execution_count": 5,
   "metadata": {},
   "outputs": [
    {
     "name": "stdout",
     "output_type": "stream",
     "text": [
      "Welcome home Ayşe !...\n"
     ]
    }
   ],
   "source": [
    "from P06_MyModule import welcome\n",
    "\n",
    "welcome(\"Ayşe\")"
   ]
  },
  {
   "cell_type": "code",
   "execution_count": null,
   "metadata": {},
   "outputs": [],
   "source": [
    "from P06_MyModule import *\n",
    "\n",
    "welcome(\"Ayşe\")"
   ]
  },
  {
   "cell_type": "code",
   "execution_count": null,
   "metadata": {},
   "outputs": [],
   "source": []
  },
  {
   "cell_type": "markdown",
   "metadata": {},
   "source": [
    "---\n",
    "## Import Jupyter Notebooks\n",
    "import "
   ]
  },
  {
   "cell_type": "code",
   "execution_count": 7,
   "metadata": {},
   "outputs": [
    {
     "name": "stdout",
     "output_type": "stream",
     "text": [
      "Requirement already satisfied: import-ipynb in c:\\users\\admin\\anaconda3\\lib\\site-packages (0.1.4)\n",
      "Requirement already satisfied: nbformat in c:\\users\\admin\\anaconda3\\lib\\site-packages (from import-ipynb) (5.5.0)\n",
      "Requirement already satisfied: IPython in c:\\users\\admin\\anaconda3\\lib\\site-packages (from import-ipynb) (7.31.1)\n",
      "Requirement already satisfied: backcall in c:\\users\\admin\\anaconda3\\lib\\site-packages (from IPython->import-ipynb) (0.2.0)\n",
      "Requirement already satisfied: jedi>=0.16 in c:\\users\\admin\\anaconda3\\lib\\site-packages (from IPython->import-ipynb) (0.18.1)\n",
      "Requirement already satisfied: decorator in c:\\users\\admin\\anaconda3\\lib\\site-packages (from IPython->import-ipynb) (5.1.1)\n",
      "Requirement already satisfied: pickleshare in c:\\users\\admin\\anaconda3\\lib\\site-packages (from IPython->import-ipynb) (0.7.5)\n",
      "Requirement already satisfied: colorama in c:\\users\\admin\\anaconda3\\lib\\site-packages (from IPython->import-ipynb) (0.4.5)\n",
      "Requirement already satisfied: prompt-toolkit!=3.0.0,!=3.0.1,<3.1.0,>=2.0.0 in c:\\users\\admin\\anaconda3\\lib\\site-packages (from IPython->import-ipynb) (3.0.20)\n",
      "Requirement already satisfied: traitlets>=4.2 in c:\\users\\admin\\anaconda3\\lib\\site-packages (from IPython->import-ipynb) (5.1.1)\n",
      "Requirement already satisfied: matplotlib-inline in c:\\users\\admin\\anaconda3\\lib\\site-packages (from IPython->import-ipynb) (0.1.6)\n",
      "Requirement already satisfied: setuptools>=18.5 in c:\\users\\admin\\anaconda3\\lib\\site-packages (from IPython->import-ipynb) (63.4.1)\n",
      "Requirement already satisfied: pygments in c:\\users\\admin\\anaconda3\\lib\\site-packages (from IPython->import-ipynb) (2.11.2)\n",
      "Requirement already satisfied: fastjsonschema in c:\\users\\admin\\anaconda3\\lib\\site-packages (from nbformat->import-ipynb) (2.16.2)\n",
      "Requirement already satisfied: jsonschema>=2.6 in c:\\users\\admin\\anaconda3\\lib\\site-packages (from nbformat->import-ipynb) (4.16.0)\n",
      "Requirement already satisfied: jupyter_core in c:\\users\\admin\\anaconda3\\lib\\site-packages (from nbformat->import-ipynb) (4.11.1)\n",
      "Requirement already satisfied: parso<0.9.0,>=0.8.0 in c:\\users\\admin\\anaconda3\\lib\\site-packages (from jedi>=0.16->IPython->import-ipynb) (0.8.3)\n",
      "Requirement already satisfied: attrs>=17.4.0 in c:\\users\\admin\\anaconda3\\lib\\site-packages (from jsonschema>=2.6->nbformat->import-ipynb) (21.4.0)\n",
      "Requirement already satisfied: pyrsistent!=0.17.0,!=0.17.1,!=0.17.2,>=0.14.0 in c:\\users\\admin\\anaconda3\\lib\\site-packages (from jsonschema>=2.6->nbformat->import-ipynb) (0.18.0)\n",
      "Requirement already satisfied: wcwidth in c:\\users\\admin\\anaconda3\\lib\\site-packages (from prompt-toolkit!=3.0.0,!=3.0.1,<3.1.0,>=2.0.0->IPython->import-ipynb) (0.2.5)\n",
      "Requirement already satisfied: pywin32>=1.0 in c:\\users\\admin\\anaconda3\\lib\\site-packages (from jupyter_core->nbformat->import-ipynb) (302)\n"
     ]
    }
   ],
   "source": [
    "# Method 1\n",
    "# Install ipynb from your command prompt\n",
    "!pip install import-ipynb"
   ]
  },
  {
   "cell_type": "code",
   "execution_count": null,
   "metadata": {},
   "outputs": [],
   "source": [
    "# Import in your notebook file\n",
    "import import_ipynb\n",
    "\n",
    "# Now use regular import command to import your file\n",
    "import MyOtherNotebook\n",
    "from filename import ClassName"
   ]
  },
  {
   "cell_type": "code",
   "execution_count": null,
   "metadata": {},
   "outputs": [],
   "source": [
    "# Method 2\n",
    "%run YourNotebookfile.ipynb\n",
    "%run YourNotebookfile.ipynb import Add"
   ]
  },
  {
   "cell_type": "markdown",
   "metadata": {},
   "source": [
    "***Example:***"
   ]
  },
  {
   "cell_type": "code",
   "execution_count": 13,
   "metadata": {},
   "outputs": [
    {
     "name": "stdout",
     "output_type": "stream",
     "text": [
      "Welcome home Hasan !...\n"
     ]
    }
   ],
   "source": [
    "# Import in your notebook file\n",
    "import import_ipynb\n",
    "import P06_Mymodule2 as my\n",
    "\n",
    "my.welcome(\"Hasan\")"
   ]
  },
  {
   "cell_type": "code",
   "execution_count": null,
   "metadata": {},
   "outputs": [],
   "source": [
    "# Import in your notebook file\n",
    "import import_ipynb\n",
    "\n"
   ]
  },
  {
   "cell_type": "code",
   "execution_count": null,
   "metadata": {
    "scrolled": true
   },
   "outputs": [],
   "source": [
    "# Import in your notebook file\n",
    "import import_ipynb\n",
    "\n"
   ]
  }
 ],
 "metadata": {
  "hide_input": false,
  "kernelspec": {
   "display_name": "Python 3 (ipykernel)",
   "language": "python",
   "name": "python3"
  },
  "language_info": {
   "codemirror_mode": {
    "name": "ipython",
    "version": 3
   },
   "file_extension": ".py",
   "mimetype": "text/x-python",
   "name": "python",
   "nbconvert_exporter": "python",
   "pygments_lexer": "ipython3",
   "version": "3.9.13"
  },
  "varInspector": {
   "cols": {
    "lenName": 16,
    "lenType": 16,
    "lenVar": 40
   },
   "kernels_config": {
    "python": {
     "delete_cmd_postfix": "",
     "delete_cmd_prefix": "del ",
     "library": "var_list.py",
     "varRefreshCmd": "print(var_dic_list())"
    },
    "r": {
     "delete_cmd_postfix": ") ",
     "delete_cmd_prefix": "rm(",
     "library": "var_list.r",
     "varRefreshCmd": "cat(var_dic_list()) "
    }
   },
   "types_to_exclude": [
    "module",
    "function",
    "builtin_function_or_method",
    "instance",
    "_Feature"
   ],
   "window_display": false
  }
 },
 "nbformat": 4,
 "nbformat_minor": 4
}
