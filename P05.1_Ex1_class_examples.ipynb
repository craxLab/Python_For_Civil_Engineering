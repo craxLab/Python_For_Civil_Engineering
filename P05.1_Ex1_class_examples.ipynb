{
 "cells": [
  {
   "cell_type": "markdown",
   "metadata": {},
   "source": [
    "## Computer Programming with Python\n",
    "\n",
    "#### Instructor : Dr. Aydin Demir\n",
    "\n",
    "www.aydindemir.com | GitHub & Instagram: @craxLab | Web: www.craxLab.com\n",
    "\n",
    "---"
   ]
  },
  {
   "cell_type": "markdown",
   "metadata": {},
   "source": [
    "**Example 1:**\n",
    "\n",
    "Bu örnekte, HydraulicEngineering sınıfı, FluidProperties sınıfından kalıtım alır. Bu, sıvının özelliklerini (yoğunluk ve viskozite) tek bir yerde tanımlayıp, bu bilgileri birçok farklı sınıf içinde tekrar kullanmanıza olanak tanır.\n",
    "\n",
    "Evet, burada bir hidrolik mühendisliği sınıfı verildi. HydraulicEngineering sınıfı, FluidProperties sınıfından kalıtım alır ve akışkanın yoğunluğu ve viskozitesi gibi özellikleri tek bir yerde tanımlar. HydraulicEngineering sınıfı, pressure_drop ve Reynolds_number metodlarını içerir, bu metodlar bir boru içindeki akışkanın basınç düşümünü ve Reynolds sayısını hesaplar."
   ]
  },
  {
   "cell_type": "code",
   "execution_count": 3,
   "metadata": {},
   "outputs": [],
   "source": [
    "class FluidProperties:\n",
    "    def __init__(self, fluid_density, viscosity):\n",
    "        self.fluid_density = fluid_density\n",
    "        self.viscosity = viscosity\n",
    "\n",
    "class HydraulicEngineering(FluidProperties):\n",
    "    def __init__(self, fluid_density, viscosity, pipe_diameter, flow_rate):\n",
    "        FluidProperties.__init__(self, fluid_density, viscosity)\n",
    "        self.pipe_diameter = pipe_diameter\n",
    "        self.flow_rate = flow_rate\n",
    "    \n",
    "    def pressure_drop(self):\n",
    "        return (128 * self.fluid_density * self.flow_rate**2) / (self.pipe_diameter**5)\n",
    "    \n",
    "    def Reynolds_number(self):\n",
    "        return (self.fluid_density * self.flow_rate * self.pipe_diameter) / (self.viscosity)\n"
   ]
  },
  {
   "cell_type": "markdown",
   "metadata": {},
   "source": [
    "Bu kod, HydraulicEngineering sınıfından bir nesne oluşturur ve pressure_drop ve Reynolds_number metodlarını çağırarak sonuçlarını yazdırır."
   ]
  },
  {
   "cell_type": "code",
   "execution_count": 4,
   "metadata": {},
   "outputs": [
    {
     "name": "stdout",
     "output_type": "stream",
     "text": [
      "Pressure Drop: 51199999999.999985 Pa\n",
      "Reynolds Number: 200000.0\n"
     ]
    }
   ],
   "source": [
    "# Create an instance of the HydraulicEngineering class\n",
    "pipe = HydraulicEngineering(1000, 0.001, 0.1, 2)\n",
    "\n",
    "# Calculate the pressure drop\n",
    "pressure_drop = pipe.pressure_drop()\n",
    "print(\"Pressure Drop:\", pressure_drop, \"Pa\")\n",
    "\n",
    "# Calculate the Reynolds number\n",
    "Reynolds_number = pipe.Reynolds_number()\n",
    "print(\"Reynolds Number:\", Reynolds_number)"
   ]
  }
 ],
 "metadata": {
  "hide_input": false,
  "kernelspec": {
   "display_name": "Python 3 (ipykernel)",
   "language": "python",
   "name": "python3"
  },
  "language_info": {
   "codemirror_mode": {
    "name": "ipython",
    "version": 3
   },
   "file_extension": ".py",
   "mimetype": "text/x-python",
   "name": "python",
   "nbconvert_exporter": "python",
   "pygments_lexer": "ipython3",
   "version": "3.9.13"
  },
  "varInspector": {
   "cols": {
    "lenName": 16,
    "lenType": 16,
    "lenVar": 40
   },
   "kernels_config": {
    "python": {
     "delete_cmd_postfix": "",
     "delete_cmd_prefix": "del ",
     "library": "var_list.py",
     "varRefreshCmd": "print(var_dic_list())"
    },
    "r": {
     "delete_cmd_postfix": ") ",
     "delete_cmd_prefix": "rm(",
     "library": "var_list.r",
     "varRefreshCmd": "cat(var_dic_list()) "
    }
   },
   "types_to_exclude": [
    "module",
    "function",
    "builtin_function_or_method",
    "instance",
    "_Feature"
   ],
   "window_display": false
  }
 },
 "nbformat": 4,
 "nbformat_minor": 4
}
