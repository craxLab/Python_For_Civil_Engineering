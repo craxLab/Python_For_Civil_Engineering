{
 "cells": [
  {
   "cell_type": "markdown",
   "id": "09f64d01",
   "metadata": {},
   "source": [
    "## Computer Programming with Python\n",
    "\n",
    "#### Instructor : Dr. Aydin Demir\n",
    "\n",
    "www.aydindemir.com | GitHub & Instagram: @craxLab | Web: www.craxLab.com\n",
    "\n",
    "---"
   ]
  },
  {
   "cell_type": "markdown",
   "id": "6173a524",
   "metadata": {},
   "source": [
    "## Read and Plot AFAD Ground Motion (Earthquake) Records"
   ]
  },
  {
   "cell_type": "code",
   "execution_count": null,
   "id": "6b0aa5b1",
   "metadata": {},
   "outputs": [],
   "source": [
    "import numpy as np\n",
    "import matplotlib.pyplot as plt\n",
    "import pandas as pd"
   ]
  },
  {
   "cell_type": "code",
   "execution_count": null,
   "id": "0ddc412b",
   "metadata": {},
   "outputs": [],
   "source": [
    "# Open the file and read the data   \n",
    "EQfile = \"data/AFAD/19990817000139_8101_mp_Acc_E.asc\" # Name of the file\n",
    "with open(EQfile, mode='r') as file: \n",
    "    lines = file.readlines()\n",
    "\n",
    "print(lines)"
   ]
  },
  {
   "cell_type": "code",
   "execution_count": null,
   "id": "e7191e4b",
   "metadata": {
    "scrolled": false
   },
   "outputs": [],
   "source": [
    "# split the lines (rows)\n",
    "rows = []\n",
    "for line in lines:\n",
    "    row = line.split(sep=\" \")  # Seperator between texts\n",
    "    rows.append(row)\n",
    "    \n",
    "print(rows)"
   ]
  },
  {
   "cell_type": "code",
   "execution_count": null,
   "id": "586513fa",
   "metadata": {},
   "outputs": [],
   "source": [
    "# read the data and unit conversion: new unit [g]\n",
    "headerNo = 64\n",
    "data = []\n",
    "for datai in rows[headerNo:]:\n",
    "    for i in datai:\n",
    "        i = float(i)*0.01/9.81   # [g] unit conversion: 1 gal(cm/s^2) = 0.01 m/s^2\n",
    "        data.append(i)\n",
    "        \n",
    "print(data)"
   ]
  },
  {
   "cell_type": "code",
   "execution_count": null,
   "id": "45e8e549",
   "metadata": {},
   "outputs": [],
   "source": [
    "# time axis\n",
    "dt = .0050\n",
    "# dt = float(rows[28][1])\n",
    "npts = len(data)\n",
    "dur = dt*npts\n",
    "print(f\"total duration of the record: {np.round(dur,3)} s\")\n",
    "time = np.arange(0,dur,dt)\n",
    "\n",
    "print(time)"
   ]
  },
  {
   "cell_type": "code",
   "execution_count": null,
   "id": "4698454e",
   "metadata": {
    "scrolled": false
   },
   "outputs": [],
   "source": [
    "# plot curve\n",
    "plt.plot(time, data, color=\"b\")\n",
    "plt.title('AFAD ACC')\n",
    "plt.xlabel('Time (s)')\n",
    "plt.ylabel('Acc (g)')\n",
    "plt.grid()\n",
    "plt.show()"
   ]
  },
  {
   "cell_type": "markdown",
   "id": "57927ec3",
   "metadata": {},
   "source": [
    "### Write the results into a file"
   ]
  },
  {
   "cell_type": "code",
   "execution_count": null,
   "id": "537bebef",
   "metadata": {},
   "outputs": [],
   "source": [
    "# write the results into a text file\n",
    "file = open(\"data/Output/outputEQ.txt\", \"w\")\n",
    "file.write(\"Time (s)\\tAcc (g)\\n\")\n",
    "for ix in range(len(data)):\n",
    "    file.write(f\"{np.round(time[ix],3)}\\t{data[ix]}\\n\")\n",
    "file.close()"
   ]
  },
  {
   "cell_type": "code",
   "execution_count": null,
   "id": "316e6f1f",
   "metadata": {},
   "outputs": [],
   "source": [
    "# write the results into an excel file\n",
    "time_acc = pd.DataFrame(time, columns=[\"Time (s)\"]) # Create a dataframe with time column\n",
    "time_acc[\"Acc (g)\"] = data # add a new column\n",
    "time_acc.to_excel(\"Data/Output/outputEQ.xlsx\", index=False)"
   ]
  },
  {
   "cell_type": "markdown",
   "id": "d621caeb",
   "metadata": {},
   "source": [
    "**Example:**"
   ]
  },
  {
   "cell_type": "code",
   "execution_count": null,
   "id": "341efddb",
   "metadata": {},
   "outputs": [],
   "source": [
    "# read data from excel\n",
    "dataxy = pd.read_excel(\"data/Student List.xls\")\n",
    "display(dataxy)"
   ]
  }
 ],
 "metadata": {
  "hide_input": false,
  "kernelspec": {
   "display_name": "Python 3 (ipykernel)",
   "language": "python",
   "name": "python3"
  },
  "language_info": {
   "codemirror_mode": {
    "name": "ipython",
    "version": 3
   },
   "file_extension": ".py",
   "mimetype": "text/x-python",
   "name": "python",
   "nbconvert_exporter": "python",
   "pygments_lexer": "ipython3",
   "version": "3.9.13"
  },
  "varInspector": {
   "cols": {
    "lenName": 16,
    "lenType": 16,
    "lenVar": 40
   },
   "kernels_config": {
    "python": {
     "delete_cmd_postfix": "",
     "delete_cmd_prefix": "del ",
     "library": "var_list.py",
     "varRefreshCmd": "print(var_dic_list())"
    },
    "r": {
     "delete_cmd_postfix": ") ",
     "delete_cmd_prefix": "rm(",
     "library": "var_list.r",
     "varRefreshCmd": "cat(var_dic_list()) "
    }
   },
   "types_to_exclude": [
    "module",
    "function",
    "builtin_function_or_method",
    "instance",
    "_Feature"
   ],
   "window_display": false
  }
 },
 "nbformat": 4,
 "nbformat_minor": 5
}
