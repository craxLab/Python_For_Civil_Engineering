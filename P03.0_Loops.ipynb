{
 "cells": [
  {
   "cell_type": "markdown",
   "metadata": {},
   "source": [
    "## Computer Programming with Python\n",
    "\n",
    "#### Instructor : Dr. Aydin Demir\n",
    "\n",
    "www.aydindemir.com | GitHub & Instagram: @craxLab | Web: www.craxLab.com\n",
    "\n",
    "---"
   ]
  },
  {
   "cell_type": "markdown",
   "metadata": {},
   "source": [
    "### _The topics of the week !_\n",
    "\n",
    "- Loops\n",
    "\n",
    "    - The **_\" for \"_** loop\n",
    "    - **_\" break \"_**, **_\" continue \"_**, **_\" pass \"_** statements\n",
    "    - The **_\" while \"_** statement\n",
    "    - Nested Loops"
   ]
  },
  {
   "cell_type": "markdown",
   "metadata": {},
   "source": [
    "---\n",
    "\n",
    "### The **_\" for \"_**  loop\n",
    "\n",
    "Loops are another type of flow control structure in programming language. By using loop conditions, a code can be repeated multiple times under specific conditions.\n",
    "\n",
    "<img src=\"./Figures/for-loop.png\" align=\"left\"/>"
   ]
  },
  {
   "cell_type": "markdown",
   "metadata": {},
   "source": [
    "#### The syntax of for loop in python is given below.\n",
    "\n",
    "for iterating_var in sequence:    \n",
    ">statement(s)    "
   ]
  },
  {
   "cell_type": "markdown",
   "metadata": {},
   "source": [
    "Iterate each character of string:"
   ]
  },
  {
   "cell_type": "code",
   "execution_count": null,
   "metadata": {},
   "outputs": [],
   "source": [
    "city = \"Sakarya\"\n",
    "print(city[0])\n",
    "print(city[1])\n",
    "print(city[2])\n",
    "print(city[3])\n",
    "print(city[4])\n",
    "print(city[5])\n",
    "print(city[6])"
   ]
  },
  {
   "cell_type": "markdown",
   "metadata": {},
   "source": [
    "Iterate each character of string wiht a for loop:"
   ]
  },
  {
   "cell_type": "code",
   "execution_count": null,
   "metadata": {},
   "outputs": [],
   "source": [
    "for harf in city:\n",
    "    print(harf)"
   ]
  },
  {
   "cell_type": "markdown",
   "metadata": {},
   "source": [
    "define a list of values and iterate each of the values:"
   ]
  },
  {
   "cell_type": "code",
   "execution_count": null,
   "metadata": {},
   "outputs": [],
   "source": [
    "bahar = [\"INM210\", \"INM350\",\"INM510\"]\n",
    "for ders in bahar:\n",
    "    print(f\"Dersim:{ders}\")"
   ]
  },
  {
   "cell_type": "markdown",
   "metadata": {},
   "source": [
    "Find the summation of the numbers in a list:"
   ]
  },
  {
   "cell_type": "code",
   "execution_count": null,
   "metadata": {},
   "outputs": [],
   "source": [
    "sayilar = [1,2,3,4,8,9,-5,-10,6]\n",
    "toplam = 0\n",
    "for sayi in sayilar:\n",
    "    toplam = sayi + toplam\n",
    "    print(\"Ara toplam:\", toplam)\n",
    "    \n",
    "print(\"Genel toplam: \", toplam)"
   ]
  },
  {
   "cell_type": "markdown",
   "metadata": {},
   "source": [
    "for loop with else statement:"
   ]
  },
  {
   "cell_type": "code",
   "execution_count": null,
   "metadata": {},
   "outputs": [],
   "source": [
    "sayilar = [1,2,3,4,8,9,-5,-10,6]\n",
    "toplam = 0\n",
    "for sayi in sayilar:\n",
    "    toplam = sayi + toplam\n",
    "    print(\"Ara toplam:\", toplam)\n",
    "else:\n",
    "    print(\"Toplama işlemi tamamlandı\")"
   ]
  },
  {
   "cell_type": "code",
   "execution_count": null,
   "metadata": {},
   "outputs": [],
   "source": [
    "sayilar = [1,2,3,4,8,9,-5,-10,6]\n",
    "toplam = 0\n",
    "for sayi in sayilar:\n",
    "    toplam = sayi + toplam\n",
    "#     print(\"Ara toplam:\", toplam)\n",
    "else:\n",
    "    print(\"Toplama işlemi tamamlandı\")\n",
    "\n",
    "print(\"Genel toplam: \", toplam)  "
   ]
  },
  {
   "cell_type": "markdown",
   "metadata": {},
   "source": [
    "### For loop using range() function\n",
    "\n",
    "<img src=\"./Figures/sequence_as.gif\" align=\"left\"/>"
   ]
  },
  {
   "cell_type": "markdown",
   "metadata": {},
   "source": [
    "The range() function is used to generate the sequence of the numbers such as 1, 2, 3, 4, 5, 6, 7...\n",
    "\n",
    "If we pass the range(10), it will generate the numbers from 0 to 9. \n",
    "\n",
    "\n",
    "The syntax of the range() function is given below:\n",
    "\n",
    "*range(start, stop, step size)*\n",
    "\n",
    "The start; represents the beginning of the iteration.\n",
    "\n",
    "The stop; represents that the loop will iterate till stop-1. The range(1,5) will generate numbers 1 to 4 iterations. It is optional.\n",
    "\n",
    "The step size; is used to skip the specific numbers from the iteration. It is optional to use. By default, the step size is 1.\n",
    "\n",
    "- **_Only integer values can be used in range() function._**"
   ]
  },
  {
   "cell_type": "markdown",
   "metadata": {},
   "source": [
    "**Consider the following examples:**\n",
    "\n",
    "<img src=\"./Figures/sequence.png\" align=\"left\"/>"
   ]
  },
  {
   "cell_type": "code",
   "execution_count": null,
   "metadata": {},
   "outputs": [],
   "source": [
    "x = range(21)\n",
    "# print(range(0,20,1))\n",
    "\n",
    "for xi in x:\n",
    "    print(xi)"
   ]
  },
  {
   "cell_type": "code",
   "execution_count": null,
   "metadata": {},
   "outputs": [],
   "source": [
    "x = range(2, 27,6)\n",
    "\n",
    "for xi in x:\n",
    "    print(xi)"
   ]
  },
  {
   "cell_type": "code",
   "execution_count": null,
   "metadata": {},
   "outputs": [],
   "source": [
    "ters = range(50,29,-5)\n",
    "\n",
    "for t in ters:\n",
    "    print(t)"
   ]
  },
  {
   "cell_type": "code",
   "execution_count": null,
   "metadata": {},
   "outputs": [],
   "source": []
  },
  {
   "cell_type": "code",
   "execution_count": null,
   "metadata": {},
   "outputs": [],
   "source": [
    "T = range(100)\n",
    "print(T)"
   ]
  },
  {
   "cell_type": "code",
   "execution_count": null,
   "metadata": {},
   "outputs": [],
   "source": []
  },
  {
   "cell_type": "markdown",
   "metadata": {},
   "source": [
    "Check type of range() function"
   ]
  },
  {
   "cell_type": "code",
   "execution_count": null,
   "metadata": {},
   "outputs": [],
   "source": [
    "type(T)"
   ]
  },
  {
   "cell_type": "markdown",
   "metadata": {},
   "source": [
    "range() function can be used to create basic loop as below;"
   ]
  },
  {
   "cell_type": "code",
   "execution_count": null,
   "metadata": {},
   "outputs": [],
   "source": []
  },
  {
   "cell_type": "markdown",
   "metadata": {},
   "source": [
    "OR, similiarly:"
   ]
  },
  {
   "cell_type": "code",
   "execution_count": null,
   "metadata": {},
   "outputs": [],
   "source": []
  },
  {
   "cell_type": "markdown",
   "metadata": {},
   "source": [
    "combine range() and len() functions, tries the range() function to the length of a list"
   ]
  },
  {
   "cell_type": "code",
   "execution_count": null,
   "metadata": {},
   "outputs": [],
   "source": [
    "bahar = [\"INM210\", \"INM350\",\"INM510\"]\n",
    "for ders in range(len(bahar)):\n",
    "    print(f\"Dersim:{ders}\")"
   ]
  },
  {
   "cell_type": "markdown",
   "metadata": {},
   "source": [
    "to write horizontaly "
   ]
  },
  {
   "cell_type": "code",
   "execution_count": null,
   "metadata": {},
   "outputs": [],
   "source": []
  },
  {
   "cell_type": "markdown",
   "metadata": {},
   "source": [
    "create two column list output with for loop"
   ]
  },
  {
   "cell_type": "code",
   "execution_count": null,
   "metadata": {},
   "outputs": [],
   "source": [
    "sayilar = [0,1,2,3,4,5,6,7,8,10,.......]\n",
    "\n",
    "for sayi in sayilar:\n",
    "    print(\"Sonuç:\", sayi*2)"
   ]
  },
  {
   "cell_type": "code",
   "execution_count": null,
   "metadata": {},
   "outputs": [],
   "source": [
    "for sayi in range(100):\n",
    "    print(\"Sonuç:\", sayi*2)"
   ]
  },
  {
   "cell_type": "markdown",
   "metadata": {},
   "source": [
    "---\n",
    "#### _**.keys( )**_ function in dictionaries\n",
    "\n",
    "Do the same iteration in a dictionary using \".keys()\" function, which goes through each item in the dictionary."
   ]
  },
  {
   "cell_type": "code",
   "execution_count": null,
   "metadata": {},
   "outputs": [],
   "source": [
    "dersler = {\"INM210\":5, \"INM255\":3, \"INM315\":3}\n",
    "for kredi in dersler.keys():\n",
    "    print(dersler[kredi])"
   ]
  },
  {
   "cell_type": "code",
   "execution_count": null,
   "metadata": {},
   "outputs": [],
   "source": [
    "dersler[\"INM210\"]"
   ]
  },
  {
   "cell_type": "markdown",
   "metadata": {},
   "source": [
    "---\n",
    "#### _**enumerate( )**_ function\n",
    "\n",
    "enumerate() function is another way to access a list and returns both item and index"
   ]
  },
  {
   "cell_type": "code",
   "execution_count": null,
   "metadata": {},
   "outputs": [],
   "source": [
    "bahar = [\"INM210\", \"INM350\",\"INM510\"]\n",
    "\n",
    "for index, ders in enumerate(bahar):\n",
    "    print(f\"Dersin kodu: {ders}, indeks no: {index}\")"
   ]
  },
  {
   "cell_type": "markdown",
   "metadata": {},
   "source": [
    "---\n",
    "### The **_\" while \"_** statement\n",
    "\n",
    "- A while loop statement is used to repeatedly iterate a block of target statement as long as the given expression is True. \n",
    "\n",
    "- If the condition becomes False, the code will pass that line and will follow the loop. \n",
    "\n",
    "- The while loop generally prefers for the conditions that we don't know the number of times to iterate.\n",
    "\n",
    "<img src=\"./Figures/while-loop.png\" align=\"left\"/>"
   ]
  },
  {
   "cell_type": "markdown",
   "metadata": {},
   "source": [
    "print \"Civil Engineer\" as long as a < 5"
   ]
  },
  {
   "cell_type": "code",
   "execution_count": null,
   "metadata": {},
   "outputs": [],
   "source": [
    "for a in range(6):\n",
    "    print(\"civil engineer\")"
   ]
  },
  {
   "cell_type": "code",
   "execution_count": null,
   "metadata": {},
   "outputs": [],
   "source": [
    "a = 0\n",
    "while a < 6:\n",
    "    print(\"civil engineer\")\n",
    "    a = a +1"
   ]
  },
  {
   "cell_type": "markdown",
   "metadata": {},
   "source": [
    "Print items in a list till they exist (only in reverse order):"
   ]
  },
  {
   "cell_type": "code",
   "execution_count": null,
   "metadata": {},
   "outputs": [],
   "source": [
    "a = [1,3,5,7]\n",
    "while a:\n",
    "    print(a.pop())"
   ]
  },
  {
   "cell_type": "markdown",
   "metadata": {},
   "source": [
    "Lets use \"else\" with \"while\" loop"
   ]
  },
  {
   "cell_type": "code",
   "execution_count": null,
   "metadata": {},
   "outputs": [],
   "source": [
    "x = 0\n",
    "while x<3:\n",
    "    print(x,\"3 ten küçüktür\")\n",
    "    x = x+1\n",
    "else:\n",
    "    print(\"while döngüsü tamamlandı\")\n",
    "#     print(x,\"3 ten küçük değildir.\")\n"
   ]
  },
  {
   "cell_type": "markdown",
   "metadata": {},
   "source": [
    "calculate the summation of all numbers between 0 and 'digit', till 'digit' = 10"
   ]
  },
  {
   "cell_type": "code",
   "execution_count": null,
   "metadata": {},
   "outputs": [],
   "source": [
    "toplam = 0\n",
    "x = 0\n",
    "while x <=10:\n",
    "    toplam = toplam + x\n",
    "    x = x + 1\n",
    "    \n",
    "print(\"Genel toplam:\", toplam)"
   ]
  },
  {
   "cell_type": "markdown",
   "metadata": {},
   "source": [
    "---\n",
    "### Loop flow control: continue, break and pass Statements\n",
    "\n",
    "Using a for loop and a while loop in Python allows you to repeat tasks in an efficient manner.\n",
    "\n",
    "Sometimes you may want the task to skip a single iteration or even exit the loop. You can do this actions with continue, break and pass statements.\n",
    "\n",
    "![](./Figures/continue_break_pass.png)\n",
    "\n",
    "Source: https://pythontut.com/continue-break-pass"
   ]
  },
  {
   "cell_type": "markdown",
   "metadata": {},
   "source": [
    "### _break_ Statement\n",
    "\n",
    "This statement terminates the current loop and proceed with next statement after the loop. \n",
    "\n",
    "It can be used with both for and while loops. \n",
    "\n",
    "![](./Figures/break_flow_chart.png)\n",
    "\n",
    "Source: https://pythontut.com/continue-break-pass"
   ]
  },
  {
   "cell_type": "markdown",
   "metadata": {},
   "source": [
    "print out all the numbers till its equal 5"
   ]
  },
  {
   "cell_type": "code",
   "execution_count": null,
   "metadata": {},
   "outputs": [],
   "source": [
    "for sayi in range(11):\n",
    "    if sayi == 5:\n",
    "        break\n",
    "    print(sayi)"
   ]
  },
  {
   "cell_type": "markdown",
   "metadata": {},
   "source": [
    "break the code when the condition \"a = 5\""
   ]
  },
  {
   "cell_type": "code",
   "execution_count": null,
   "metadata": {},
   "outputs": [],
   "source": [
    "a = 11\n",
    "while a>0:\n",
    "    print(f\"şuanki sayı: {a}\")\n",
    "    a = a-1\n",
    "    if a==5:\n",
    "        break"
   ]
  },
  {
   "cell_type": "markdown",
   "metadata": {},
   "source": [
    "**The else Statement Used with Loops After a break Statement**\n",
    "\n",
    "The else statement lets you execute code when a for loop ends."
   ]
  },
  {
   "cell_type": "code",
   "execution_count": null,
   "metadata": {},
   "outputs": [],
   "source": [
    "listem = [1,2,4,5,7,2,12,5]\n",
    "\n",
    "for i in listem:\n",
    "    if i > 5:\n",
    "        print(f\"{i} sayısı 5 den büyüktür\")\n",
    "else:\n",
    "    print(\"şart sağlandı\")"
   ]
  },
  {
   "cell_type": "markdown",
   "metadata": {},
   "source": [
    "If the for loop is terminated using a break statement, the else statement won’t be executed."
   ]
  },
  {
   "cell_type": "code",
   "execution_count": null,
   "metadata": {},
   "outputs": [],
   "source": [
    "listem = [1,2,4,5,7,2,12,5]\n",
    "\n",
    "for i in listem:\n",
    "    if i > 5:\n",
    "        print(f\"{i} sayısı 5 den büyüktür\")\n",
    "        break\n",
    "else:\n",
    "    print(\"şart sağlandı\")"
   ]
  },
  {
   "cell_type": "markdown",
   "metadata": {},
   "source": [
    "### _continue_ Statement\n",
    "\n",
    "This statement returns the control to the beginning of the loop and skip all the remaining statements. And, control moves to the beginning of the loop. It can be used with both for and while loops.\n",
    "\n",
    "![](./Figures/continue_flow_chart.png)\n",
    "\n",
    "Source: https://pythontut.com/continue-break-pass"
   ]
  },
  {
   "cell_type": "markdown",
   "metadata": {},
   "source": [
    "not print out the '5'"
   ]
  },
  {
   "cell_type": "code",
   "execution_count": null,
   "metadata": {},
   "outputs": [],
   "source": [
    "for sayi in range(11):\n",
    "    if sayi==5:\n",
    "        continue\n",
    "    print(sayi)"
   ]
  },
  {
   "cell_type": "markdown",
   "metadata": {},
   "source": [
    "keep doing the condition again as long as \"a > 0\""
   ]
  },
  {
   "cell_type": "code",
   "execution_count": null,
   "metadata": {},
   "outputs": [],
   "source": [
    "a = 11\n",
    "while a > 0:\n",
    "    if a ==5:\n",
    "        a = a-1\n",
    "        continue\n",
    "    print(f\"şuanki sayi: {a}\")\n",
    "    a = a-1"
   ]
  },
  {
   "cell_type": "markdown",
   "metadata": {},
   "source": [
    "### _pass_ Statement\n",
    "\n",
    "The pass statement is used to write empty statements, functions or classes. It is a \"null\" opretion which means nothing happens when its executed. "
   ]
  },
  {
   "cell_type": "markdown",
   "metadata": {},
   "source": [
    "not print out the '5'"
   ]
  },
  {
   "cell_type": "code",
   "execution_count": null,
   "metadata": {},
   "outputs": [],
   "source": [
    "for sayi in range(10):\n",
    "    if sayi == 5:\n",
    "        pass\n",
    "    \n",
    "    print(f\"şuanki sayı: {sayi}\")"
   ]
  },
  {
   "cell_type": "markdown",
   "metadata": {},
   "source": [
    "### _\"continue\"_ vs. _\"pass\"_\n",
    "\n",
    "Even though at first the continue and pass statements might seem similar, they do completely different things. The continue statement skips the current iteration of a loop whereas pass does nothing at all. The pass statement is a placeholder for code. The example below can be useful to understand the differences:"
   ]
  },
  {
   "cell_type": "code",
   "execution_count": null,
   "metadata": {},
   "outputs": [],
   "source": [
    "listem = [1,2,3,4]\n",
    "\n",
    "for i in listem:\n",
    "    if i ==2:\n",
    "        continue\n",
    "    print(i)\n",
    "\n",
    "for i in listem:\n",
    "    if i ==2:\n",
    "        pass\n",
    "    print(i)"
   ]
  },
  {
   "cell_type": "markdown",
   "metadata": {},
   "source": [
    "---\n",
    "### The Infinite Loop\n",
    "\n",
    "* The loop starts with **_while True:_** statement\n",
    "\n",
    "* Loop will never terminate until it is stopped by **_break_** statement."
   ]
  },
  {
   "cell_type": "markdown",
   "metadata": {},
   "source": [
    "**Example:** Bir sayının karakökünü (square root) bulmak:"
   ]
  },
  {
   "cell_type": "code",
   "execution_count": 6,
   "metadata": {},
   "outputs": [
    {
     "name": "stdout",
     "output_type": "stream",
     "text": [
      "programdan çıkmak için q basınız.\n",
      "Bir sayı giriniz:45\n",
      "45 sayısının karekökü = 6.708203932499369\n",
      "Bir sayı giriniz:65\n",
      "65 sayısının karekökü = 8.06225774829855\n",
      "Bir sayı giriniz:-48\n",
      "hatalı sayı girdiniz\n",
      "Bir sayı giriniz:q\n",
      "Programdan çıkıldı.\n"
     ]
    }
   ],
   "source": [
    "print(\"programdan çıkmak için q basınız.\")\n",
    "\n",
    "while True:\n",
    "    i = input(\"Bir sayı giriniz:\")\n",
    "    \n",
    "    if i==\"q\" or i==\"Q\":\n",
    "        print(\"Programdan çıkıldı.\")\n",
    "        break\n",
    "    elif float(i)<0:\n",
    "        print(\"hatalı sayı girdiniz\")\n",
    "        continue\n",
    "    \n",
    "    k  = float(i)**0.5\n",
    "    \n",
    "    print(f\"{i} sayısının karekökü = {k}\")"
   ]
  },
  {
   "cell_type": "markdown",
   "metadata": {},
   "source": [
    "---\n",
    "### The Nested Loops\n",
    "\n",
    "#### _Nested while/for_\n",
    "\n",
    "A loop inside another loop is called _\"Nested Loop\"_, which is allowed in Python. If you have while/for loop inside any loop, this is also allowed."
   ]
  },
  {
   "cell_type": "markdown",
   "metadata": {},
   "source": [
    "Lets find prime numbers (asal sayılar) between 1 to 50"
   ]
  },
  {
   "cell_type": "code",
   "execution_count": null,
   "metadata": {},
   "outputs": [],
   "source": []
  },
  {
   "cell_type": "markdown",
   "metadata": {},
   "source": [
    "---\n",
    "### .append() method in \"for\" and \"while\" loops\n",
    "\n",
    "To store results of an every step of a loop structure.\n",
    "\n",
    "append() method is used to add a new item to a list.\n",
    "\n",
    "Before the loop structure, It should be created an empty list."
   ]
  },
  {
   "cell_type": "markdown",
   "metadata": {},
   "source": [
    "**Example:** Find the frequencies of a given period range and store them in a list.\n",
    "\n",
    "<img src=\"./Figures/Examples/Tfw.png\" align=\"left\"/>"
   ]
  },
  {
   "cell_type": "markdown",
   "metadata": {},
   "source": [
    "*Wihtout .append() method:*"
   ]
  },
  {
   "cell_type": "code",
   "execution_count": 11,
   "metadata": {},
   "outputs": [
    {
     "name": "stdout",
     "output_type": "stream",
     "text": [
      "Ti=1 sn\n",
      "Ti=2 sn\n",
      "Ti=3 sn\n",
      "Ti=4 sn\n",
      "Ti=5 sn\n",
      "Ti=6 sn\n",
      "Ti=7 sn\n",
      "Ti=8 sn\n",
      "Ti=9 sn\n",
      "Ti=10 sn\n",
      "Ti=11 sn\n",
      "Ti=12 sn\n",
      "Ti=13 sn\n",
      "Ti=14 sn\n",
      "Ti=15 sn\n",
      "Ti=16 sn\n",
      "Ti=17 sn\n",
      "Ti=18 sn\n",
      "Ti=19 sn\n",
      "f=0.05263157894736842 Hz\n",
      "w=0.3305263157894737 rad/s\n"
     ]
    }
   ],
   "source": [
    "T = range(1,20)\n",
    "\n",
    "for Ti in T:\n",
    "    print(f\"Ti={Ti} sn\")\n",
    "    f = 1/Ti\n",
    "    w = 2*3.14/Ti\n",
    "\n",
    "print(f\"f={f} Hz\")\n",
    "print(f\"w={w} rad/s\")"
   ]
  },
  {
   "cell_type": "markdown",
   "metadata": {},
   "source": [
    "*Wiht .append() method:*"
   ]
  },
  {
   "cell_type": "code",
   "execution_count": 12,
   "metadata": {},
   "outputs": [
    {
     "name": "stdout",
     "output_type": "stream",
     "text": [
      "Ti=1 sn\n",
      "Ti=2 sn\n",
      "Ti=3 sn\n",
      "Ti=4 sn\n",
      "Ti=5 sn\n",
      "Ti=6 sn\n",
      "Ti=7 sn\n",
      "Ti=8 sn\n",
      "Ti=9 sn\n",
      "Ti=10 sn\n",
      "Ti=11 sn\n",
      "Ti=12 sn\n",
      "Ti=13 sn\n",
      "Ti=14 sn\n",
      "Ti=15 sn\n",
      "Ti=16 sn\n",
      "Ti=17 sn\n",
      "Ti=18 sn\n",
      "Ti=19 sn\n",
      "f=[1.0, 0.5, 0.3333333333333333, 0.25, 0.2, 0.16666666666666666, 0.14285714285714285, 0.125, 0.1111111111111111, 0.1, 0.09090909090909091, 0.08333333333333333, 0.07692307692307693, 0.07142857142857142, 0.06666666666666667, 0.0625, 0.058823529411764705, 0.05555555555555555, 0.05263157894736842] Hz\n",
      "w=[6.28, 3.14, 2.0933333333333333, 1.57, 1.256, 1.0466666666666666, 0.8971428571428571, 0.785, 0.6977777777777778, 0.628, 0.5709090909090909, 0.5233333333333333, 0.48307692307692307, 0.44857142857142857, 0.4186666666666667, 0.3925, 0.3694117647058824, 0.3488888888888889, 0.3305263157894737] rad/s\n"
     ]
    }
   ],
   "source": [
    "T = range(1,20)\n",
    "\n",
    "f = []\n",
    "w = []\n",
    "for Ti in T:\n",
    "    print(f\"Ti={Ti} sn\")\n",
    "    fi = 1/Ti\n",
    "    f.append(fi)\n",
    "    wi = 2*3.14/Ti\n",
    "    w.append(wi)\n",
    "\n",
    "\n",
    "print(f\"f={f} Hz\")\n",
    "print(f\"w={w} rad/s\")"
   ]
  },
  {
   "cell_type": "markdown",
   "metadata": {},
   "source": [
    "---\n",
    "**Example:** Albert Einstein'in üç günde çözdüğü soru:\n",
    "\n",
    "1 ile 30000 arasında 11'e tam bölünebilen ve aynı zamanda 2, 3, 4, 5, 6, 7, 8, 9, 10 ile bölümünden kalanı 1 olan kaç tane sayı vardır?\n",
    "\n",
    "<img src=\"./Figures/Examples/einstein.jpg\" align=\"left\"/>"
   ]
  },
  {
   "cell_type": "code",
   "execution_count": null,
   "metadata": {},
   "outputs": [],
   "source": [
    "Sonuc = []\n",
    "for i in range(1,30001):\n",
    "    if i%2==1 and i%3==1 and i%4==1 and i%5==1 and i%6==1 and i%7==1 and i%8==1 and i%9==1  and i%10==1 and i%11==0:\n",
    "        Sonuc.append(i)\n",
    "\n",
    "print(Sonuc)"
   ]
  },
  {
   "cell_type": "markdown",
   "metadata": {
    "jupyter": {
     "source_hidden": true
    }
   },
   "source": [
    "**Example:** Fibonacci Serisi yazmak.\n",
    "\n",
    "Fibonaci dizisi, her sayının kendinden öncekiyle toplanması sonucu oluşan bir sayı dizisidir. \n",
    "\n",
    "<img src=\"./Figures/Examples/Fibonacci2.png\" align=\"left\"/>"
   ]
  },
  {
   "cell_type": "markdown",
   "metadata": {
    "jupyter": {
     "source_hidden": true
    }
   },
   "source": [
    "Bu şekilde devam eden bu dizide sayılar birbirleriyle oranlandığında altın oran ortaya çıkar, yani bir sayı kendisinden önceki sayıya bölündüğünde altın orana gittikçe yaklaşan bir dizi elde edilir. Fibonacci sayı dizisindeki sayıların birbirleriyle oranı olan ve altın oran denilen 1,618 sayısı ise doğada, sanatta ve hayatın her alanında görülen ve estetik ile bağdaştırılan bir sayıdır. Ayrıca Pascal Üçgeninde de fibonacci sayı dizisi bulunmaktadır.\n",
    "Kaynak: teknikicerik.com\n",
    "\n",
    "![](./Figures/Ch05/Fibonacci.png)\n",
    "\n",
    "Kaynak: teknikicerik.com , ardamavi.com"
   ]
  },
  {
   "cell_type": "code",
   "execution_count": null,
   "metadata": {},
   "outputs": [],
   "source": [
    "seri_no = 10\n",
    "\n",
    "ilk = 1\n",
    "ikinci = 1\n",
    "fibonacci = [ilk,ikinci]\n",
    "for i in range(seri_no):\n",
    "    ilk, ikinci = ikinci, ilk + ikinci\n",
    "    fibonacci.append(ikinci)\n",
    "\n",
    "print(fibonacci)"
   ]
  },
  {
   "cell_type": "markdown",
   "metadata": {},
   "source": [
    "**Example:**\n",
    "Faktoriyel Bulma Programı\n",
    "\n",
    "<img src=\"./Figures/Examples/Faktoriyel.jpg\" align=\"left\"/>"
   ]
  },
  {
   "cell_type": "code",
   "execution_count": null,
   "metadata": {},
   "outputs": [],
   "source": [
    "print(\"Programdan çıkmak için 'q' ya basınız.\")\n",
    "\n",
    "while True:\n",
    "    sayi =  input(\"Sayıyı giriniz:\")\n",
    "    if (sayi == \"q\"):\n",
    "        print(\"\\nProgramdan çıkıldı.\")\n",
    "        break\n",
    "\n",
    "        sayi = int(sayi)\n",
    "    \n",
    "    faktoriyel = 1\n",
    "    for i in range(2,sayi+1):\n",
    "        faktoriyel *= i\n",
    "\n",
    "    print(sayi, \"sayısının Faktoriyeli=\",faktoriyel)"
   ]
  }
 ],
 "metadata": {
  "hide_input": false,
  "kernelspec": {
   "display_name": "Python 3 (ipykernel)",
   "language": "python",
   "name": "python3"
  },
  "language_info": {
   "codemirror_mode": {
    "name": "ipython",
    "version": 3
   },
   "file_extension": ".py",
   "mimetype": "text/x-python",
   "name": "python",
   "nbconvert_exporter": "python",
   "pygments_lexer": "ipython3",
   "version": "3.9.13"
  },
  "varInspector": {
   "cols": {
    "lenName": 16,
    "lenType": 16,
    "lenVar": 40
   },
   "kernels_config": {
    "python": {
     "delete_cmd_postfix": "",
     "delete_cmd_prefix": "del ",
     "library": "var_list.py",
     "varRefreshCmd": "print(var_dic_list())"
    },
    "r": {
     "delete_cmd_postfix": ") ",
     "delete_cmd_prefix": "rm(",
     "library": "var_list.r",
     "varRefreshCmd": "cat(var_dic_list()) "
    }
   },
   "types_to_exclude": [
    "module",
    "function",
    "builtin_function_or_method",
    "instance",
    "_Feature"
   ],
   "window_display": false
  }
 },
 "nbformat": 4,
 "nbformat_minor": 4
}
