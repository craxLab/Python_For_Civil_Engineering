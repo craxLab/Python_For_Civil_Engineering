{
 "cells": [
  {
   "cell_type": "markdown",
   "metadata": {},
   "source": [
    "## Computer Programming with Python\n",
    "\n",
    "#### Instructor : Dr. Aydin Demir\n",
    "\n",
    "aydindemir@sakarya.edu.tr | www.aydindemir.com | GitHub & Instagram: @craxLab | Web: www.craxLab.com\n",
    "\n",
    "---"
   ]
  },
  {
   "cell_type": "markdown",
   "metadata": {},
   "source": [
    "# Example 1:\n",
    "\n",
    "## Local soil classes according to TEC-2018\n",
    "\n",
    "![](./Figures/Examples/soilclass1.jpg)\n",
    "![](./Figures/Examples/soilclass2.jpg)"
   ]
  },
  {
   "cell_type": "markdown",
   "metadata": {},
   "source": [
    "**YEREL ZEMİN SINIFLARININ BELİRLENMESİ**"
   ]
  },
  {
   "cell_type": "code",
   "execution_count": 7,
   "metadata": {},
   "outputs": [
    {
     "name": "stdout",
     "output_type": "stream",
     "text": [
      "Kayma dalgası hızını, Vs yi giriniz:-125\n",
      "Girilen Kayma dalgası hızı: -125.0 m/sn\n",
      "Yanlış değr girdiniz\n"
     ]
    }
   ],
   "source": [
    "Vs = float(input(\"Kayma dalgası hızını, Vs yi giriniz:\"))\n",
    "print(f\"Girilen Kayma dalgası hızı: {Vs} m/sn\")\n",
    "\n",
    "if Vs>0 and Vs <= 180:\n",
    "    print(\"Zemin sınıfı: ZE\")\n",
    "elif Vs>180 and Vs <= 360:\n",
    "    print(\"Zemin sınıfı: ZD\")\n",
    "elif Vs>360 and Vs <= 760:\n",
    "    print(\"Zemin sınıfı: ZC\")\n",
    "elif Vs>760 and Vs <= 1500:\n",
    "    print(\"Zemin sınıfı: ZB\")\n",
    "elif Vs > 1500:\n",
    "    print(\"Zemin sınıfı: ZA\")\n",
    "else:\n",
    "    print(\"Yanlış değer girdiniz\")"
   ]
  }
 ],
 "metadata": {
  "hide_input": false,
  "kernelspec": {
   "display_name": "Python 3 (ipykernel)",
   "language": "python",
   "name": "python3"
  },
  "language_info": {
   "codemirror_mode": {
    "name": "ipython",
    "version": 3
   },
   "file_extension": ".py",
   "mimetype": "text/x-python",
   "name": "python",
   "nbconvert_exporter": "python",
   "pygments_lexer": "ipython3",
   "version": "3.9.13"
  },
  "varInspector": {
   "cols": {
    "lenName": 16,
    "lenType": 16,
    "lenVar": 40
   },
   "kernels_config": {
    "python": {
     "delete_cmd_postfix": "",
     "delete_cmd_prefix": "del ",
     "library": "var_list.py",
     "varRefreshCmd": "print(var_dic_list())"
    },
    "r": {
     "delete_cmd_postfix": ") ",
     "delete_cmd_prefix": "rm(",
     "library": "var_list.r",
     "varRefreshCmd": "cat(var_dic_list()) "
    }
   },
   "types_to_exclude": [
    "module",
    "function",
    "builtin_function_or_method",
    "instance",
    "_Feature"
   ],
   "window_display": false
  }
 },
 "nbformat": 4,
 "nbformat_minor": 4
}
