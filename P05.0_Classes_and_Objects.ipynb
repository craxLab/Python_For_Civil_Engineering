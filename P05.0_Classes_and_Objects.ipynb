{
 "cells": [
  {
   "cell_type": "markdown",
   "metadata": {},
   "source": [
    "## Computer Programming with Python\n",
    "\n",
    "#### Instructor : Dr. Aydin Demir\n",
    "\n",
    "www.aydindemir.com | GitHub & Instagram: @craxLab | Web: www.craxLab.com\n",
    "\n",
    "---"
   ]
  },
  {
   "cell_type": "markdown",
   "metadata": {},
   "source": [
    "### _The topics of the week !_\n",
    "\n",
    "- Object Oriented Programming\n",
    "    - CLASSES & OBJECTS\n",
    "\n",
    "\n",
    "Python is an object oriented programming language. **_Object Oriented Programming_** can be thought of as simply adapting real life to programming. For example, let's imagine that we prepared building stock software. For this, \"reinforced concrete\", \"steel\" and \"masonry\" must be created as **_objects_**. In order to realize such a system by programming, we actually need to define the structure of each object and then produce objects from these structures. When we look around, we see that each item is actually an object. These objects have different properties (**_attributes_**) and functions (**_methods_**).\n",
    "\n",
    "In order to create our own data types and to produce objects from these data types, we first need to define the structure in which we will produce the objects. This structure is called **_\"class\"_**. Classes are a structure where we define the properties and methods of objects while creating our **_objects_**. The property of \"Reinforced Concrete\" object can be exemplified as strength and its function can be exemplified as modulus of elasticity.\n",
    "\n",
    "Classes are used to define groups or sets with common properties. For example, all cars have features such as a brand, model, price, color.\n",
    "\n",
    "**_\" CLASS \"_ a code template for creating objects.**\n",
    "\n",
    "**_\" OBJECT \"_ the instance of the class**"
   ]
  },
  {
   "cell_type": "markdown",
   "metadata": {},
   "source": [
    "### Class definition\n",
    "Python uses word \"class\" to define an empty class with no functionalities"
   ]
  },
  {
   "cell_type": "code",
   "execution_count": 1,
   "metadata": {},
   "outputs": [],
   "source": [
    "class MyClass_Name: # class name\n",
    "    '''This is a docstring line for description'''\n",
    "    \n",
    "    # Define a class variable\n",
    "    school_name = 'Sakarya University'\n",
    "    \n",
    "    # note: \"self\" refers to whatever the objects runing in this class\n",
    "    #      so, \"self\" must be added as a default argument in every \"method (function)\" and \"constructor\"\n",
    "    \n",
    "    # define a \"constructor or initializer\" to create \"attributes or instance variables (class variables)\"\n",
    "    # In order to define object attributes, We need __init__() function and self.\n",
    "    def __init__(self, name):  # constructor or initializer\n",
    "        self.name = name       # attributes or instance variables (class variables)\n",
    "        \n",
    "    # define a \"method\" (class functions)\n",
    "    def introduce(self):\n",
    "        print(\"My name is \" + self.name) # this in Java\n",
    "\n",
    "        \n",
    "# Create \"objects\" by using the \"constructor\"       \n",
    "Object1 = MyClass_Name(\"Ali\")"
   ]
  },
  {
   "cell_type": "markdown",
   "metadata": {},
   "source": [
    "---\n",
    "**Example:**\n",
    "\n",
    "![](./Figures/robots.jpg)"
   ]
  },
  {
   "cell_type": "code",
   "execution_count": 2,
   "metadata": {},
   "outputs": [],
   "source": [
    "class Robot:\n",
    "    \n",
    "    # Define class variables\n",
    "    company = \"Honda\"\n",
    "    \n",
    "    # Define costructor\n",
    "    def __init__(self, name, color, yr):\n",
    "        self.name = name\n",
    "        self.color = color\n",
    "        self.year =  yr\n",
    "        \n",
    "    # Define a function (method)\n",
    "    def introdude(self):\n",
    "        print(f\"Benim adım:{self.name}, rengim: {self.color}, Yapım tarihim: {self.year }\")"
   ]
  },
  {
   "cell_type": "code",
   "execution_count": 3,
   "metadata": {},
   "outputs": [],
   "source": [
    "# Create objects\n",
    "r1 = Robot(\"Tom\", \"red\", 2020)\n",
    "r2 = Robot(\"Marc\", \"blue\", 2021)\n",
    "r3 = Robot(\"Bob\", \"green\", 2020)"
   ]
  },
  {
   "cell_type": "code",
   "execution_count": 4,
   "metadata": {},
   "outputs": [
    {
     "name": "stdout",
     "output_type": "stream",
     "text": [
      "Marc\n",
      "red\n",
      "2020\n",
      "Benim adım:Tom, rengim: red, Yapım tarihim: 2020\n",
      "Benim adım:Marc, rengim: blue, Yapım tarihim: 2021\n",
      "Benim adım:Bob, rengim: green, Yapım tarihim: 2020\n"
     ]
    }
   ],
   "source": [
    "print(r2.name)\n",
    "print(r1.color)\n",
    "print(r3.year)\n",
    "r1.introdude()\n",
    "r2.introdude()\n",
    "r3.introdude()"
   ]
  },
  {
   "cell_type": "markdown",
   "metadata": {},
   "source": [
    "---\n",
    "**Example:** Connect two classes\n",
    "\n",
    "Think that you are working in customer service at a robot company. You keep the records of customers, their robots, and the robots' current status as broken or not."
   ]
  },
  {
   "cell_type": "code",
   "execution_count": 5,
   "metadata": {},
   "outputs": [],
   "source": [
    "class Person:\n",
    "    def __init__(self, nm, age, ro, st):\n",
    "        self.name = nm\n",
    "        self.age = age\n",
    "        self.status = st\n",
    "        self.robot_owned = ro\n",
    "        \n",
    "    def broken(self):\n",
    "        self.status = True\n",
    "        \n",
    "    def notbroken(self):\n",
    "        self.status = False\n",
    "        \n",
    "p1  =  Person(\"Ayşe\", 15, r2, False)\n",
    "p2  =  Person(\"Ali\", 13, r1, False)\n",
    "p3  =  Person(\"Mehmet\", 15, r3, True)"
   ]
  },
  {
   "cell_type": "code",
   "execution_count": 6,
   "metadata": {},
   "outputs": [
    {
     "name": "stdout",
     "output_type": "stream",
     "text": [
      "Ayşe\n",
      "13\n",
      "<__main__.Robot object at 0x000001E69AEC5DC0>\n",
      "False\n"
     ]
    }
   ],
   "source": [
    "print(p1.name)\n",
    "print(p2.age)\n",
    "print(p3.robot_owned)\n",
    "print(p1.status)"
   ]
  },
  {
   "cell_type": "code",
   "execution_count": 7,
   "metadata": {},
   "outputs": [
    {
     "name": "stdout",
     "output_type": "stream",
     "text": [
      "Benim adım:Bob, rengim: green, Yapım tarihim: 2020\n"
     ]
    }
   ],
   "source": [
    "p3.robot_owned.introdude()"
   ]
  },
  {
   "cell_type": "code",
   "execution_count": 8,
   "metadata": {},
   "outputs": [
    {
     "name": "stdout",
     "output_type": "stream",
     "text": [
      "False\n",
      "True\n"
     ]
    }
   ],
   "source": [
    "print(p2.status)\n",
    "\n",
    "p2.broken()\n",
    "print(p2.status)"
   ]
  },
  {
   "cell_type": "markdown",
   "metadata": {},
   "source": [
    "---\n",
    "In object oriented programming languages, the most effective tool is; when you write it once you can call it more than ones."
   ]
  },
  {
   "cell_type": "code",
   "execution_count": 9,
   "metadata": {},
   "outputs": [
    {
     "data": {
      "text/plain": [
       "<__main__.Person at 0x1e69aee3c40>"
      ]
     },
     "execution_count": 9,
     "metadata": {},
     "output_type": "execute_result"
    }
   ],
   "source": [
    "p3"
   ]
  },
  {
   "cell_type": "code",
   "execution_count": 10,
   "metadata": {},
   "outputs": [
    {
     "data": {
      "text/plain": [
       "['__class__',\n",
       " '__delattr__',\n",
       " '__dict__',\n",
       " '__dir__',\n",
       " '__doc__',\n",
       " '__eq__',\n",
       " '__format__',\n",
       " '__ge__',\n",
       " '__getattribute__',\n",
       " '__gt__',\n",
       " '__hash__',\n",
       " '__init__',\n",
       " '__init_subclass__',\n",
       " '__le__',\n",
       " '__lt__',\n",
       " '__module__',\n",
       " '__ne__',\n",
       " '__new__',\n",
       " '__reduce__',\n",
       " '__reduce_ex__',\n",
       " '__repr__',\n",
       " '__setattr__',\n",
       " '__sizeof__',\n",
       " '__str__',\n",
       " '__subclasshook__',\n",
       " '__weakref__',\n",
       " 'broken',\n",
       " 'notbroken']"
      ]
     },
     "execution_count": 10,
     "metadata": {},
     "output_type": "execute_result"
    }
   ],
   "source": [
    "dir(Person)"
   ]
  },
  {
   "cell_type": "markdown",
   "metadata": {},
   "source": [
    "---\n",
    "\n",
    "### Example: Concrete Classes in TS-500\n",
    "\n",
    "![](./Figures/Examples/betonsiniflari.jpg)"
   ]
  },
  {
   "cell_type": "code",
   "execution_count": 11,
   "metadata": {},
   "outputs": [],
   "source": [
    "class Concrete:\n",
    "    def __init__(self, cl, fck, fctk):\n",
    "        self.name = cl\n",
    "        self.fck =  fck\n",
    "        self.fctk = fctk\n",
    "        self.Ec = 5700*(self.fck)**(1/2)\n",
    "        \n",
    "    def printConcProp(self):\n",
    "        print(f\"Concrete class: {self.name}, fck={self.fck} MPa, fctk={self.fctk} MPa, Ec={self.Ec} MPa\")\n",
    "        \n",
    "C16 = Concrete(\"C16\", 16, 1.4)\n",
    "C18 = Concrete(\"C18\", 18, 1.5)\n",
    "C20 = Concrete(\"C20\", 20, 1.6)\n",
    "C25 = Concrete(\"C25\", 25, 1.8)"
   ]
  },
  {
   "cell_type": "code",
   "execution_count": 12,
   "metadata": {},
   "outputs": [
    {
     "name": "stdout",
     "output_type": "stream",
     "text": [
      "16\n",
      "1.6\n",
      "28500.0\n"
     ]
    }
   ],
   "source": [
    "print(C16.fck)\n",
    "print(C20.fctk)\n",
    "print(C25.Ec)"
   ]
  },
  {
   "cell_type": "code",
   "execution_count": 13,
   "metadata": {},
   "outputs": [
    {
     "name": "stdout",
     "output_type": "stream",
     "text": [
      "Concrete class: C18, fck=18 MPa, fctk=1.5 MPa, Ec=24183.051916579923 MPa\n"
     ]
    }
   ],
   "source": [
    "C18.printConcProp()"
   ]
  },
  {
   "cell_type": "code",
   "execution_count": 20,
   "metadata": {},
   "outputs": [],
   "source": [
    "class Column:\n",
    "    \n",
    "    def __init__(self, n, w, h, m):\n",
    "        self.name = n   # section name\n",
    "        self.width = w # seciton width\n",
    "        self.height = h\n",
    "        self.material = m\n",
    "        self.area = self.width*self.height \n",
    "        \n",
    "    def momentInertia(self):\n",
    "        Ix = self.width*self.height**3/12\n",
    "        Iy = self.height*self.width**3/12\n",
    "        return Ix, Iy\n",
    "    \n",
    "S1 = Column(\"C25x50\", 25, 50, C20)\n",
    "S2 = Column(\"C30x60\", 30, 60, C25)"
   ]
  },
  {
   "cell_type": "code",
   "execution_count": 21,
   "metadata": {},
   "outputs": [
    {
     "name": "stdout",
     "output_type": "stream",
     "text": [
      "1800\n",
      "<__main__.Concrete object at 0x000001E69AF08A00>\n",
      "Concrete class: C20, fck=20 MPa, fctk=1.6 MPa, Ec=25491.174943497605 MPa\n"
     ]
    }
   ],
   "source": [
    "print(S2.area)\n",
    "print(S1.material)\n",
    "S1.material.printConcProp()"
   ]
  },
  {
   "cell_type": "code",
   "execution_count": 22,
   "metadata": {},
   "outputs": [
    {
     "name": "stdout",
     "output_type": "stream",
     "text": [
      "260416.66666666666 65104.166666666664\n"
     ]
    }
   ],
   "source": [
    "S1Ix, S1Iy = S1.momentInertia()\n",
    "print(S1Ix, S1Iy)"
   ]
  },
  {
   "cell_type": "code",
   "execution_count": 17,
   "metadata": {},
   "outputs": [
    {
     "name": "stdout",
     "output_type": "stream",
     "text": [
      "28500.0\n"
     ]
    }
   ],
   "source": [
    "print(S2.material.Ec)"
   ]
  },
  {
   "cell_type": "markdown",
   "metadata": {},
   "source": [
    "---\n",
    "### Python Inheritance\n",
    "Inheritance allows us to define a class that inherits all the methods and properties from another class.\n",
    "\n",
    "**Parent class** is the class being inherited from, also called base class.\n",
    "\n",
    "**Child class** is the class that inherits from another class, also called derived class.\n",
    "\n",
    "https://www.w3schools.com/python/python_inheritance.asp"
   ]
  },
  {
   "cell_type": "markdown",
   "metadata": {},
   "source": [
    "***Example:***"
   ]
  },
  {
   "cell_type": "code",
   "execution_count": 23,
   "metadata": {},
   "outputs": [],
   "source": [
    "# Parent class\n",
    "class Concrete:\n",
    "    def __init__(self, cl, fck, fctk):\n",
    "        self.cl = cl\n",
    "        self.fck =  fck\n",
    "        self.fctk = fctk\n",
    "        self.Ec = 5700*(self.fck)**(1/2)\n",
    "        \n",
    "    def printConcProp(self):\n",
    "        print(f\"Concrete class: {self.name}, fck={self.fck} MPa, fctk={self.fctk} MPa, Ec={self.Ec} MPa\")\n",
    "        \n",
    "C16 = Concrete(\"C16\", 16, 1.4)\n",
    "C18 = Concrete(\"C18\", 18, 1.5)\n",
    "C20 = Concrete(\"C20\", 20, 1.6)\n",
    "C25 = Concrete(\"C25\", 25, 1.8)"
   ]
  },
  {
   "cell_type": "code",
   "execution_count": 24,
   "metadata": {},
   "outputs": [
    {
     "name": "stdout",
     "output_type": "stream",
     "text": [
      "C25x50\n",
      "60\n",
      "(260416.66666666666, 65104.166666666664)\n"
     ]
    }
   ],
   "source": [
    "# Child class \n",
    "class Column(Concrete):\n",
    "    \n",
    "    def __init__(self, n, w, h, cl, fck, fctk):\n",
    "        super().__init__(cl, fck, fctk)\n",
    "        self.name = n   # section name\n",
    "        self.width = w # seciton width\n",
    "        self.height = h\n",
    "        self.area = self.width*self.height\n",
    "        \n",
    "    def momentInertia(self):\n",
    "        Ix = self.width*self.height**3/12\n",
    "        Iy = self.height*self.width**3/12\n",
    "        return Ix, Iy\n",
    "    \n",
    "S1 = Column(\"C25x50\", 25, 50, \"C25\", 20, 1.6)\n",
    "S2 = Column(\"C30x60\", 30, 60, \"C20\", 18, 1.5)\n",
    "\n",
    "# From child class\n",
    "print(S1.name)\n",
    "print(S2.height)\n",
    "print(S1.momentInertia())"
   ]
  },
  {
   "cell_type": "code",
   "execution_count": 25,
   "metadata": {},
   "outputs": [
    {
     "name": "stdout",
     "output_type": "stream",
     "text": [
      "C25\n",
      "25491.174943497605\n",
      "Concrete class: C30x60, fck=18 MPa, fctk=1.5 MPa, Ec=24183.051916579923 MPa\n"
     ]
    }
   ],
   "source": [
    "# From parent class\n",
    "print(S1.cl)\n",
    "print(S1.Ec)\n",
    "S2.printConcProp()"
   ]
  }
 ],
 "metadata": {
  "hide_input": false,
  "kernelspec": {
   "display_name": "Python 3 (ipykernel)",
   "language": "python",
   "name": "python3"
  },
  "language_info": {
   "codemirror_mode": {
    "name": "ipython",
    "version": 3
   },
   "file_extension": ".py",
   "mimetype": "text/x-python",
   "name": "python",
   "nbconvert_exporter": "python",
   "pygments_lexer": "ipython3",
   "version": "3.9.13"
  },
  "varInspector": {
   "cols": {
    "lenName": 16,
    "lenType": 16,
    "lenVar": 40
   },
   "kernels_config": {
    "python": {
     "delete_cmd_postfix": "",
     "delete_cmd_prefix": "del ",
     "library": "var_list.py",
     "varRefreshCmd": "print(var_dic_list())"
    },
    "r": {
     "delete_cmd_postfix": ") ",
     "delete_cmd_prefix": "rm(",
     "library": "var_list.r",
     "varRefreshCmd": "cat(var_dic_list()) "
    }
   },
   "types_to_exclude": [
    "module",
    "function",
    "builtin_function_or_method",
    "instance",
    "_Feature"
   ],
   "window_display": false
  }
 },
 "nbformat": 4,
 "nbformat_minor": 4
}
