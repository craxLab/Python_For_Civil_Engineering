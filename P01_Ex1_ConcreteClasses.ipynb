{
 "cells": [
  {
   "cell_type": "markdown",
   "metadata": {},
   "source": [
    "## Computer Programming with Python\n",
    "\n",
    "#### Instructor : Dr. Aydin Demir\n",
    "\n",
    "GitHub & Instagram: @craxLab | Web: www.craxLab.com\n",
    "\n",
    "---"
   ]
  },
  {
   "cell_type": "markdown",
   "metadata": {},
   "source": [
    "## Example: Concrete Classes in TS-500\n",
    "\n",
    "![](./Figures/Examples/betonsiniflari.jpg)"
   ]
  },
  {
   "cell_type": "code",
   "execution_count": 2,
   "metadata": {},
   "outputs": [
    {
     "data": {
      "text/plain": [
       "{'C16': {'fck_sil': 16, 'fck_kup': 20, 'fctk': 1.4, 'Ec': 27000},\n",
       " 'C18': {'fck_sil': 18, 'fck_kup': 22, 'fctk': 1.5, 'Ec': 27500},\n",
       " 'C20': {'fck_sil': 20, 'fck_kup': 25, 'fctk': 1.6, 'Ec': 28000},\n",
       " 'C25': {'fck_sil': 25, 'fck_kup': 30, 'fctk': 1.8, 'Ec': 30000},\n",
       " 'C30': {'fck_sil': 30, 'fck_kup': 37, 'fctk': 1.9, 'Ec': 32000},\n",
       " 'C35': {'fck_sil': 35, 'fck_kup': 45, 'fctk': 2.1, 'Ec': 33000},\n",
       " 'C40': {'fck_sil': 40, 'fck_kup': 50, 'fctk': 2.2, 'Ec': 34000},\n",
       " 'C45': {'fck_sil': 45, 'fck_kup': 55, 'fctk': 2.3, 'Ec': 36000},\n",
       " 'C50': {'fck_sil': 50, 'fck_kup': 60, 'fctk': 2.5, 'Ec': 37000}}"
      ]
     },
     "execution_count": 2,
     "metadata": {},
     "output_type": "execute_result"
    }
   ],
   "source": [
    "concrete = {\n",
    "    \"C16\":{\"fck_sil\":16, \"fck_kup\":20, \"fctk\":1.4, \"Ec\":27000},\n",
    "    \"C18\":{\"fck_sil\":18, \"fck_kup\":22, \"fctk\":1.5, \"Ec\":27500},\n",
    "    \"C20\":{\"fck_sil\":20, \"fck_kup\":25, \"fctk\":1.6, \"Ec\":28000},\n",
    "    \"C25\":{\"fck_sil\":25, \"fck_kup\":30, \"fctk\":1.8, \"Ec\":30000},\n",
    "    \"C30\":{\"fck_sil\":30, \"fck_kup\":37, \"fctk\":1.9, \"Ec\":32000},\n",
    "    \"C35\":{\"fck_sil\":35, \"fck_kup\":45, \"fctk\":2.1, \"Ec\":33000},\n",
    "    \"C40\":{\"fck_sil\":40, \"fck_kup\":50, \"fctk\":2.2, \"Ec\":34000},\n",
    "    \"C45\":{\"fck_sil\":45, \"fck_kup\":55, \"fctk\":2.3, \"Ec\":36000},\n",
    "    \"C50\":{\"fck_sil\":50, \"fck_kup\":60, \"fctk\":2.5, \"Ec\":37000},\n",
    "}\n",
    "\n",
    "concrete"
   ]
  },
  {
   "cell_type": "code",
   "execution_count": 12,
   "metadata": {},
   "outputs": [
    {
     "name": "stdout",
     "output_type": "stream",
     "text": [
      "Bir beton sınıfı giriniz:C50\n",
      "Beton sınıf:C50, fck(silindir): 50 MPa, fck(küp): 60 MPa, çekme dayanımı: 2.5 MPa, Elastisite modulü: 37000 MPa\n"
     ]
    }
   ],
   "source": [
    "beton = input(\"Bir beton sınıfı giriniz:\")\n",
    "\n",
    "fck1 = concrete[beton][\"fck_sil\"]\n",
    "fck2 = concrete[beton][\"fck_kup\"]\n",
    "fctk = concrete[beton][\"fctk\"]\n",
    "Ec = concrete[beton][\"Ec\"]\n",
    "\n",
    "print(f\"Beton sınıf:{beton}, fck(silindir): {fck1} MPa, fck(küp): {fck2} MPa, çekme dayanımı: {fctk} MPa, Elastisite modulü: {Ec} MPa\")"
   ]
  }
 ],
 "metadata": {
  "hide_input": false,
  "kernelspec": {
   "display_name": "Python 3 (ipykernel)",
   "language": "python",
   "name": "python3"
  },
  "language_info": {
   "codemirror_mode": {
    "name": "ipython",
    "version": 3
   },
   "file_extension": ".py",
   "mimetype": "text/x-python",
   "name": "python",
   "nbconvert_exporter": "python",
   "pygments_lexer": "ipython3",
   "version": "3.9.13"
  },
  "varInspector": {
   "cols": {
    "lenName": 16,
    "lenType": 16,
    "lenVar": 40
   },
   "kernels_config": {
    "python": {
     "delete_cmd_postfix": "",
     "delete_cmd_prefix": "del ",
     "library": "var_list.py",
     "varRefreshCmd": "print(var_dic_list())"
    },
    "r": {
     "delete_cmd_postfix": ") ",
     "delete_cmd_prefix": "rm(",
     "library": "var_list.r",
     "varRefreshCmd": "cat(var_dic_list()) "
    }
   },
   "types_to_exclude": [
    "module",
    "function",
    "builtin_function_or_method",
    "instance",
    "_Feature"
   ],
   "window_display": false
  }
 },
 "nbformat": 4,
 "nbformat_minor": 4
}
