{
 "cells": [
  {
   "cell_type": "markdown",
   "metadata": {},
   "source": [
    "## Computer Programming with Python\n",
    "\n",
    "#### Instructor : Dr. Aydin Demir\n",
    "\n",
    "aydindemir@sakarya.edu.tr | www.aydindemir.com | GitHub & Instagram: @craxLab | Web: www.craxLab.com\n",
    "\n",
    "---"
   ]
  },
  {
   "cell_type": "markdown",
   "metadata": {},
   "source": [
    "# Example 2:\n",
    "\n",
    "## Elastic Horizontal Acceleration Design Spectrum according to TEC-2018\n",
    "\n",
    "![](./Figures/DesignSpectrum/Ex_Design_SpectrumHor2.png)\n",
    "![](./Figures/DesignSpectrum/Ex_Design_SpectrumHor1.png)"
   ]
  },
  {
   "cell_type": "markdown",
   "metadata": {},
   "source": [
    "**Calculation of Sae for a single period value, T :**"
   ]
  },
  {
   "cell_type": "code",
   "execution_count": 1,
   "metadata": {},
   "outputs": [
    {
     "name": "stdout",
     "output_type": "stream",
     "text": [
      "Bir bina periyodu (T) giriniz: -2.5\n",
      "Hatalı değer girdiniz\n",
      "Ta=0.16248715415019763 sn ve Tb=0.812435770750988 sn\n"
     ]
    },
    {
     "ename": "NameError",
     "evalue": "name 'Sae' is not defined",
     "output_type": "error",
     "traceback": [
      "\u001b[1;31m---------------------------------------------------------------------------\u001b[0m",
      "\u001b[1;31mNameError\u001b[0m                                 Traceback (most recent call last)",
      "\u001b[1;32m~\\AppData\\Local\\Temp\\ipykernel_8384\\2517272316.py\u001b[0m in \u001b[0;36m<module>\u001b[1;34m\u001b[0m\n\u001b[0;32m     21\u001b[0m \u001b[1;33m\u001b[0m\u001b[0m\n\u001b[0;32m     22\u001b[0m \u001b[0mprint\u001b[0m\u001b[1;33m(\u001b[0m\u001b[1;34mf\"Ta={Ta} sn ve Tb={Tb} sn\"\u001b[0m\u001b[1;33m)\u001b[0m\u001b[1;33m\u001b[0m\u001b[1;33m\u001b[0m\u001b[0m\n\u001b[1;32m---> 23\u001b[1;33m \u001b[0mprint\u001b[0m\u001b[1;33m(\u001b[0m\u001b[1;34mf\"Spektral ivme, Sae = {Sae} [g]\"\u001b[0m\u001b[1;33m)\u001b[0m\u001b[1;33m\u001b[0m\u001b[1;33m\u001b[0m\u001b[0m\n\u001b[0m",
      "\u001b[1;31mNameError\u001b[0m: name 'Sae' is not defined"
     ]
    }
   ],
   "source": [
    "Ss = 1.518 ; Fs = 0.8 ; S1=0.417 ; F1 = 2.366\n",
    "\n",
    "T = float(input(\"Bir bina periyodu (T) giriniz: \"))\n",
    "\n",
    "# Hesaplamalar\n",
    "Sds = Ss*Fs\n",
    "Sd1 = S1*F1\n",
    "Ta = 0.2*Sd1/Sds ; Tb = Sd1/Sds\n",
    "Tl = 6\n",
    "\n",
    "if T >= 0 and T <= Ta:\n",
    "    Sae = (0.4+0.6*T/Ta)*Sds\n",
    "elif T > Ta and T <= Tb:\n",
    "    Sae = Sds\n",
    "elif T > Tb and T <= Tl:\n",
    "    Sae = Sd1/T\n",
    "elif T >Tl:\n",
    "    Sae = Sd1*Tl/(T**2)\n",
    "else:\n",
    "    print(\"Hatalı değer girdiniz\")\n",
    "\n",
    "print(f\"Ta={Ta} sn ve Tb={Tb} sn\")\n",
    "print(f\"Spektral ivme, Sae = {Sae} [g]\")"
   ]
  }
 ],
 "metadata": {
  "hide_input": false,
  "kernelspec": {
   "display_name": "Python 3 (ipykernel)",
   "language": "python",
   "name": "python3"
  },
  "language_info": {
   "codemirror_mode": {
    "name": "ipython",
    "version": 3
   },
   "file_extension": ".py",
   "mimetype": "text/x-python",
   "name": "python",
   "nbconvert_exporter": "python",
   "pygments_lexer": "ipython3",
   "version": "3.9.13"
  },
  "varInspector": {
   "cols": {
    "lenName": 16,
    "lenType": 16,
    "lenVar": 40
   },
   "kernels_config": {
    "python": {
     "delete_cmd_postfix": "",
     "delete_cmd_prefix": "del ",
     "library": "var_list.py",
     "varRefreshCmd": "print(var_dic_list())"
    },
    "r": {
     "delete_cmd_postfix": ") ",
     "delete_cmd_prefix": "rm(",
     "library": "var_list.r",
     "varRefreshCmd": "cat(var_dic_list()) "
    }
   },
   "types_to_exclude": [
    "module",
    "function",
    "builtin_function_or_method",
    "instance",
    "_Feature"
   ],
   "window_display": false
  }
 },
 "nbformat": 4,
 "nbformat_minor": 4
}
