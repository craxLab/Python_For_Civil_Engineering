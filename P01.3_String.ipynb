{
 "cells": [
  {
   "cell_type": "markdown",
   "metadata": {},
   "source": [
    "## Computer Programming with Python\n",
    "\n",
    "#### Instructor : Dr. Aydin Demir\n",
    "\n",
    "aydindemir@sakarya.edu.tr | www.aydindemir.com | GitHub & Instagram: @craxLab | Web: www.craxLab.com\n",
    "\n",
    "---"
   ]
  },
  {
   "cell_type": "markdown",
   "metadata": {},
   "source": [
    "# STRING\n",
    "\n",
    "#### <font color=green>!!! A string is a sequence of characters !!!</font>\n",
    "\n",
    "A character is simply a symbol. Actually computers deal with numbers (binary), not with characters. All characters you may see on the screen are stored and manipulated as a combination of zeros (0) and ones (1), internally. Converting the character to a number is called encoding (ASCII, Unicode etc.) and the visa versa is decoding. To sum up, a string is a series of Unicode characters.\n",
    "\n",
    "String is one of the most used datatypes in Python with its operational features."
   ]
  },
  {
   "cell_type": "markdown",
   "metadata": {},
   "source": [
    "### Creating String in Python\n",
    "\n",
    "We can create a string by enclosing the characters in single-quotes, double-quotes or triple-quotes. \n",
    "\n",
    "Python also provides triple-quotes to represent the string, but it is generally used for multiline string or docstrings."
   ]
  },
  {
   "cell_type": "markdown",
   "metadata": {},
   "source": [
    "**_Using single quotes:_**"
   ]
  },
  {
   "cell_type": "code",
   "execution_count": 2,
   "metadata": {},
   "outputs": [
    {
     "name": "stdout",
     "output_type": "stream",
     "text": [
      "Civil Engineer\n"
     ]
    }
   ],
   "source": [
    "metin = 'Civil Engineer'\n",
    "print(metin)"
   ]
  },
  {
   "cell_type": "markdown",
   "metadata": {},
   "source": [
    "**_Using double quotes:_**"
   ]
  },
  {
   "cell_type": "code",
   "execution_count": 1,
   "metadata": {},
   "outputs": [
    {
     "name": "stdout",
     "output_type": "stream",
     "text": [
      "Civil Engineer\n"
     ]
    }
   ],
   "source": [
    "metin = \"Civil Engineer\"\n",
    "print(metin)"
   ]
  },
  {
   "cell_type": "markdown",
   "metadata": {},
   "source": [
    "**_Using triple quotes to write a multiple line string_**"
   ]
  },
  {
   "cell_type": "code",
   "execution_count": 5,
   "metadata": {},
   "outputs": [
    {
     "name": "stdout",
     "output_type": "stream",
     "text": [
      "Sakarya Üniversitesi\n",
      "mühendislik fakültesi\n",
      "inşaat mühendisliği bölümü\n",
      "\n"
     ]
    }
   ],
   "source": [
    "metin2 =\"\"\"Sakarya Üniversitesi\n",
    "mühendislik fakültesi\n",
    "inşaat mühendisliği bölümü\n",
    "\"\"\"\n",
    "print(metin2)"
   ]
  },
  {
   "cell_type": "markdown",
   "metadata": {},
   "source": [
    "---\n",
    "### How to access characters in string?\n",
    "\n",
    "**Method of indexing** can be used to access the characters in a string. Indexing could be think as pointing between characters. \n",
    "\n",
    "Index starts from 0. The left edge of the character numbered as 0, increases from left to right and the right edge of the character starts with -1, e.g. -1 refers to the last character, -2 refers to the second last character and so on.\n",
    "\n",
    "We can do the **negative slicing** in the string; it starts from the rightmost character, which is indicated as -1. The second rightmost index indicates -2, and so on. \n",
    "\n",
    "\n",
    "The **slice operator [ ]** is used to access the individual characters of the string. \n",
    "\n",
    "However, we can use the **: (colon) operator** in Python to access the substring from the given string. \n",
    "\n",
    "**Syntax:** [Start_index : Finish_index+1 : Increment]\n",
    "\n",
    "Consider the following image:\n",
    "\n",
    "<img src=\"./Figures/hello.png\" align=\"left\"/>"
   ]
  },
  {
   "cell_type": "markdown",
   "metadata": {},
   "source": [
    "---\n",
    "### Example:\n",
    "\n",
    "<img src=\"./Figures/civil_engineer.jpg\" align=\"left\"/>"
   ]
  },
  {
   "cell_type": "markdown",
   "metadata": {},
   "source": [
    "**_Lets assign CIVIL ENGINEER as a string to a variable:_**"
   ]
  },
  {
   "cell_type": "code",
   "execution_count": 6,
   "metadata": {},
   "outputs": [
    {
     "name": "stdout",
     "output_type": "stream",
     "text": [
      "CIVIL ENGINEER\n"
     ]
    }
   ],
   "source": [
    "job = \"CIVIL ENGINEER\"\n",
    "print(job)"
   ]
  },
  {
   "cell_type": "markdown",
   "metadata": {},
   "source": [
    "**_first character:_**"
   ]
  },
  {
   "cell_type": "code",
   "execution_count": 7,
   "metadata": {},
   "outputs": [
    {
     "name": "stdout",
     "output_type": "stream",
     "text": [
      "C\n"
     ]
    }
   ],
   "source": [
    "print(job[0])"
   ]
  },
  {
   "cell_type": "markdown",
   "metadata": {},
   "source": [
    "**_last character:_**"
   ]
  },
  {
   "cell_type": "code",
   "execution_count": 8,
   "metadata": {},
   "outputs": [
    {
     "name": "stdout",
     "output_type": "stream",
     "text": [
      "R\n"
     ]
    }
   ],
   "source": [
    "print(job[-1])"
   ]
  },
  {
   "cell_type": "markdown",
   "metadata": {},
   "source": [
    "**_slicing 3rd to 10th character (10th character not included):_**"
   ]
  },
  {
   "cell_type": "code",
   "execution_count": 9,
   "metadata": {},
   "outputs": [
    {
     "name": "stdout",
     "output_type": "stream",
     "text": [
      "IL ENGI\n"
     ]
    }
   ],
   "source": [
    "print(job[3:10])"
   ]
  },
  {
   "cell_type": "markdown",
   "metadata": {},
   "source": [
    "**_slicing 6th to 2nd last character:_**"
   ]
  },
  {
   "cell_type": "code",
   "execution_count": 10,
   "metadata": {},
   "outputs": [
    {
     "name": "stdout",
     "output_type": "stream",
     "text": [
      "ENGINE\n"
     ]
    }
   ],
   "source": [
    "print(job[6:-2])"
   ]
  },
  {
   "cell_type": "markdown",
   "metadata": {},
   "source": [
    "**_the elements from initial index to last index with increment of 2 index:_**"
   ]
  },
  {
   "cell_type": "code",
   "execution_count": 11,
   "metadata": {},
   "outputs": [
    {
     "name": "stdout",
     "output_type": "stream",
     "text": [
      "CVLEGNE\n"
     ]
    }
   ],
   "source": [
    "print(job[::2])"
   ]
  },
  {
   "cell_type": "markdown",
   "metadata": {},
   "source": [
    "**_the elements from 4th index to last index with increment of 3 index:_**"
   ]
  },
  {
   "cell_type": "code",
   "execution_count": 12,
   "metadata": {},
   "outputs": [
    {
     "name": "stdout",
     "output_type": "stream",
     "text": [
      "LNNR\n"
     ]
    }
   ],
   "source": [
    "print(job[4::3])"
   ]
  },
  {
   "cell_type": "markdown",
   "metadata": {},
   "source": [
    "**_the elements from 4th index to 12th index with increment of 3 index:_**"
   ]
  },
  {
   "cell_type": "code",
   "execution_count": 13,
   "metadata": {},
   "outputs": [
    {
     "name": "stdout",
     "output_type": "stream",
     "text": [
      "LNN\n"
     ]
    }
   ],
   "source": [
    "print(job[4:13:3])"
   ]
  },
  {
   "cell_type": "markdown",
   "metadata": {},
   "source": [
    "**_Reverse a string. It starts from the end towards the first taking each element:_**"
   ]
  },
  {
   "cell_type": "code",
   "execution_count": 14,
   "metadata": {},
   "outputs": [
    {
     "name": "stdout",
     "output_type": "stream",
     "text": [
      "REENIGNE LIVIC\n"
     ]
    }
   ],
   "source": [
    "print(job[::-1])"
   ]
  },
  {
   "cell_type": "markdown",
   "metadata": {},
   "source": [
    "## IndexError and TypeError"
   ]
  },
  {
   "cell_type": "markdown",
   "metadata": {},
   "source": [
    "* Accessing an index out of the range will cause an <font color=orange>IndexError</font>. \n",
    "* The index must be an integer, otherwhise, this will result into <font color=orange>TypeError</font>."
   ]
  },
  {
   "cell_type": "markdown",
   "metadata": {},
   "source": [
    "**_index must be in range error:_**"
   ]
  },
  {
   "cell_type": "code",
   "execution_count": 18,
   "metadata": {},
   "outputs": [
    {
     "ename": "IndexError",
     "evalue": "string index out of range",
     "output_type": "error",
     "traceback": [
      "\u001b[1;31m---------------------------------------------------------------------------\u001b[0m",
      "\u001b[1;31mIndexError\u001b[0m                                Traceback (most recent call last)",
      "\u001b[1;32m~\\AppData\\Local\\Temp\\ipykernel_11896\\671093175.py\u001b[0m in \u001b[0;36m<module>\u001b[1;34m\u001b[0m\n\u001b[0;32m      1\u001b[0m \u001b[0mst\u001b[0m \u001b[1;33m=\u001b[0m \u001b[1;34m\"abcde\"\u001b[0m\u001b[1;33m\u001b[0m\u001b[1;33m\u001b[0m\u001b[0m\n\u001b[1;32m----> 2\u001b[1;33m \u001b[0mprint\u001b[0m\u001b[1;33m(\u001b[0m\u001b[0mst\u001b[0m\u001b[1;33m[\u001b[0m\u001b[1;36m10\u001b[0m\u001b[1;33m]\u001b[0m\u001b[1;33m)\u001b[0m\u001b[1;33m\u001b[0m\u001b[1;33m\u001b[0m\u001b[0m\n\u001b[0m",
      "\u001b[1;31mIndexError\u001b[0m: string index out of range"
     ]
    }
   ],
   "source": [
    "st = \"abcde\"\n",
    "print(st[10])"
   ]
  },
  {
   "cell_type": "markdown",
   "metadata": {},
   "source": [
    "**_index must be in integer:_**"
   ]
  },
  {
   "cell_type": "code",
   "execution_count": 20,
   "metadata": {},
   "outputs": [
    {
     "ename": "TypeError",
     "evalue": "string indices must be integers",
     "output_type": "error",
     "traceback": [
      "\u001b[1;31m---------------------------------------------------------------------------\u001b[0m",
      "\u001b[1;31mTypeError\u001b[0m                                 Traceback (most recent call last)",
      "\u001b[1;32m~\\AppData\\Local\\Temp\\ipykernel_11896\\1130565095.py\u001b[0m in \u001b[0;36m<module>\u001b[1;34m\u001b[0m\n\u001b[1;32m----> 1\u001b[1;33m \u001b[0mprint\u001b[0m\u001b[1;33m(\u001b[0m\u001b[0mst\u001b[0m\u001b[1;33m[\u001b[0m\u001b[1;36m2.0\u001b[0m\u001b[1;33m]\u001b[0m\u001b[1;33m)\u001b[0m\u001b[1;33m\u001b[0m\u001b[1;33m\u001b[0m\u001b[0m\n\u001b[0m",
      "\u001b[1;31mTypeError\u001b[0m: string indices must be integers"
     ]
    }
   ],
   "source": [
    "print(st[2.0])"
   ]
  },
  {
   "cell_type": "markdown",
   "metadata": {},
   "source": [
    "## Number of characters\n",
    "\n",
    "*len(\"string\")* ; To learn number of characters in string"
   ]
  },
  {
   "cell_type": "markdown",
   "metadata": {},
   "source": [
    "**_Count the characters of \"CIVIL ENGINEER\":_**"
   ]
  },
  {
   "cell_type": "code",
   "execution_count": 22,
   "metadata": {},
   "outputs": [
    {
     "name": "stdout",
     "output_type": "stream",
     "text": [
      "CIVIL ENGINEER\n",
      "14\n"
     ]
    }
   ],
   "source": [
    "print(job)\n",
    "print(len(job))"
   ]
  },
  {
   "cell_type": "markdown",
   "metadata": {},
   "source": [
    "---\n",
    "\n",
    "## Reassigning Strings\n",
    "\n",
    "- **Strings are immutable** in Python.\n",
    "- The string object doesn't support item assignment (Elements of a string cannot be changed).\n",
    "- A string can only be replaced with new string since its content cannot be partially replaced. \n",
    "\n",
    "Consider the following example.\n",
    "\n",
    "<img src=\"./Figures/hulk.jpg\" align=\"left\"/>"
   ]
  },
  {
   "cell_type": "markdown",
   "metadata": {},
   "source": [
    "**_Reassigning the String:_**"
   ]
  },
  {
   "cell_type": "code",
   "execution_count": 23,
   "metadata": {},
   "outputs": [
    {
     "ename": "TypeError",
     "evalue": "'str' object does not support item assignment",
     "output_type": "error",
     "traceback": [
      "\u001b[1;31m---------------------------------------------------------------------------\u001b[0m",
      "\u001b[1;31mTypeError\u001b[0m                                 Traceback (most recent call last)",
      "\u001b[1;32m~\\AppData\\Local\\Temp\\ipykernel_11896\\3677239271.py\u001b[0m in \u001b[0;36m<module>\u001b[1;34m\u001b[0m\n\u001b[0;32m      1\u001b[0m \u001b[0mhero\u001b[0m \u001b[1;33m=\u001b[0m \u001b[1;34m\"hulk\"\u001b[0m\u001b[1;33m\u001b[0m\u001b[1;33m\u001b[0m\u001b[0m\n\u001b[1;32m----> 2\u001b[1;33m \u001b[0mhero\u001b[0m\u001b[1;33m[\u001b[0m\u001b[1;36m0\u001b[0m\u001b[1;33m]\u001b[0m \u001b[1;33m=\u001b[0m \u001b[1;34m\"H\"\u001b[0m\u001b[1;33m\u001b[0m\u001b[1;33m\u001b[0m\u001b[0m\n\u001b[0m\u001b[0;32m      3\u001b[0m \u001b[0mprint\u001b[0m\u001b[1;33m(\u001b[0m\u001b[0mhero\u001b[0m\u001b[1;33m)\u001b[0m\u001b[1;33m\u001b[0m\u001b[1;33m\u001b[0m\u001b[0m\n",
      "\u001b[1;31mTypeError\u001b[0m: 'str' object does not support item assignment"
     ]
    }
   ],
   "source": [
    "hero = \"hulk\"\n",
    "hero[0] = \"H\"\n",
    "print(hero)"
   ]
  },
  {
   "cell_type": "markdown",
   "metadata": {},
   "source": [
    "**_Creating a new variable using the first string:_**"
   ]
  },
  {
   "cell_type": "code",
   "execution_count": 26,
   "metadata": {},
   "outputs": [
    {
     "name": "stdout",
     "output_type": "stream",
     "text": [
      "hulk\n",
      "Hulk\n"
     ]
    }
   ],
   "source": [
    "hero = \"hulk\"\n",
    "print(hero)\n",
    "hero = \"Hulk\"\n",
    "print(hero)"
   ]
  },
  {
   "cell_type": "markdown",
   "metadata": {},
   "source": [
    "**Reassigning string is only possible in print() function**\n",
    "\n",
    "_**.replace()** method in print() function:_"
   ]
  },
  {
   "cell_type": "code",
   "execution_count": 28,
   "metadata": {},
   "outputs": [
    {
     "name": "stdout",
     "output_type": "stream",
     "text": [
      "I love summer, summer is not coming\n",
      "I love summer, summer is coming\n"
     ]
    }
   ],
   "source": [
    "mtn = \"I love summer, summer is coming\"\n",
    "print(mtn.replace(\"is\", \"is not\"))\n",
    "print(mtn)"
   ]
  },
  {
   "cell_type": "code",
   "execution_count": 29,
   "metadata": {},
   "outputs": [
    {
     "name": "stdout",
     "output_type": "stream",
     "text": [
      "I love winter, winter is coming\n"
     ]
    }
   ],
   "source": [
    "print(mtn.replace(\"summer\", \"winter\", 2))"
   ]
  },
  {
   "cell_type": "markdown",
   "metadata": {},
   "source": [
    "**_replace a word more then one location:_**"
   ]
  },
  {
   "cell_type": "code",
   "execution_count": null,
   "metadata": {},
   "outputs": [],
   "source": []
  },
  {
   "cell_type": "markdown",
   "metadata": {},
   "source": [
    "---\n",
    "\n",
    "## Deleting the String\n",
    "\n",
    "As we know that strings are immutable. We cannot delete or remove the characters from the string.  But we can delete the entire string using the del keyword."
   ]
  },
  {
   "cell_type": "markdown",
   "metadata": {},
   "source": [
    "**_Delete 2nd charecter of the string, NOT POSSIBLE!:_**"
   ]
  },
  {
   "cell_type": "code",
   "execution_count": 32,
   "metadata": {},
   "outputs": [
    {
     "name": "stdout",
     "output_type": "stream",
     "text": [
      "SAU\n"
     ]
    },
    {
     "ename": "TypeError",
     "evalue": "'str' object doesn't support item deletion",
     "output_type": "error",
     "traceback": [
      "\u001b[1;31m---------------------------------------------------------------------------\u001b[0m",
      "\u001b[1;31mTypeError\u001b[0m                                 Traceback (most recent call last)",
      "\u001b[1;32m~\\AppData\\Local\\Temp\\ipykernel_11896\\109817419.py\u001b[0m in \u001b[0;36m<module>\u001b[1;34m\u001b[0m\n\u001b[0;32m      1\u001b[0m \u001b[0muniv\u001b[0m \u001b[1;33m=\u001b[0m \u001b[1;34m\"SAU\"\u001b[0m\u001b[1;33m\u001b[0m\u001b[1;33m\u001b[0m\u001b[0m\n\u001b[0;32m      2\u001b[0m \u001b[0mprint\u001b[0m\u001b[1;33m(\u001b[0m\u001b[0muniv\u001b[0m\u001b[1;33m)\u001b[0m\u001b[1;33m\u001b[0m\u001b[1;33m\u001b[0m\u001b[0m\n\u001b[1;32m----> 3\u001b[1;33m \u001b[1;32mdel\u001b[0m \u001b[0muniv\u001b[0m\u001b[1;33m[\u001b[0m\u001b[1;36m0\u001b[0m\u001b[1;33m]\u001b[0m\u001b[1;33m\u001b[0m\u001b[1;33m\u001b[0m\u001b[0m\n\u001b[0m\u001b[0;32m      4\u001b[0m \u001b[0mprint\u001b[0m\u001b[1;33m(\u001b[0m\u001b[0muniv\u001b[0m\u001b[1;33m)\u001b[0m\u001b[1;33m\u001b[0m\u001b[1;33m\u001b[0m\u001b[0m\n",
      "\u001b[1;31mTypeError\u001b[0m: 'str' object doesn't support item deletion"
     ]
    }
   ],
   "source": [
    "univ = \"SAU\"\n",
    "print(univ)\n",
    "del univ[0]\n",
    "print(univ)"
   ]
  },
  {
   "cell_type": "markdown",
   "metadata": {},
   "source": [
    "**_Delete entire string:_**"
   ]
  },
  {
   "cell_type": "code",
   "execution_count": null,
   "metadata": {},
   "outputs": [],
   "source": []
  },
  {
   "cell_type": "code",
   "execution_count": null,
   "metadata": {},
   "outputs": [],
   "source": []
  },
  {
   "cell_type": "markdown",
   "metadata": {},
   "source": [
    "## String concatenation\n",
    "\n",
    "A string can be a join of two or more strings which is called concantenation.\n",
    "\n",
    "' + ' operator can be used joining while ' * ' operator can be used to repeat the string with a given numbers. \n"
   ]
  },
  {
   "cell_type": "markdown",
   "metadata": {},
   "source": [
    "**_Join two string:_**"
   ]
  },
  {
   "cell_type": "code",
   "execution_count": 33,
   "metadata": {},
   "outputs": [
    {
     "name": "stdout",
     "output_type": "stream",
     "text": [
      "SakaryaUniversity\n"
     ]
    }
   ],
   "source": [
    "name1 = \"Sakarya\"\n",
    "name2 = \"University\"\n",
    "print(name1+name2)"
   ]
  },
  {
   "cell_type": "markdown",
   "metadata": {},
   "source": [
    "**_Repeat string:_**"
   ]
  },
  {
   "cell_type": "code",
   "execution_count": 34,
   "metadata": {},
   "outputs": [
    {
     "name": "stdout",
     "output_type": "stream",
     "text": [
      "SakaryaSakaryaSakaryaSakaryaSakarya\n"
     ]
    }
   ],
   "source": [
    "print(name1*5)"
   ]
  },
  {
   "cell_type": "markdown",
   "metadata": {},
   "source": [
    "## Escape Sequence\n",
    "\n",
    "Let's suppose we need to write the text as - They said, \"Hello what's going on?\"- the given statement can be written in single quotes or double quotes but it will raise the SyntaxError as it contains both single and double-quotes.\n",
    "\n",
    "Example\n",
    "Consider the following example to understand the real use of Python operators.\n",
    "\n",
    "**_Syntax Error:_**"
   ]
  },
  {
   "cell_type": "code",
   "execution_count": 36,
   "metadata": {},
   "outputs": [
    {
     "name": "stdout",
     "output_type": "stream",
     "text": [
      "Ahmet dedi ki: \"yarin ders yok\" \n"
     ]
    }
   ],
   "source": [
    "mtn = 'Ahmet dedi ki: \"yarin ders yok\" '\n",
    "print(mtn)"
   ]
  },
  {
   "cell_type": "code",
   "execution_count": 38,
   "metadata": {},
   "outputs": [
    {
     "name": "stdout",
     "output_type": "stream",
     "text": [
      "Ankara'dan dün geldim\n"
     ]
    }
   ],
   "source": [
    "mtn = \"Ankara'dan dün geldim\"\n",
    "print(mtn)"
   ]
  },
  {
   "cell_type": "markdown",
   "metadata": {},
   "source": [
    "_**Solution 1**: Use different quototation marks._"
   ]
  },
  {
   "cell_type": "code",
   "execution_count": null,
   "metadata": {},
   "outputs": [],
   "source": [
    "mtn = \"Ankara'dan dün geldim\"\n",
    "print(mtn)"
   ]
  },
  {
   "cell_type": "markdown",
   "metadata": {},
   "source": [
    "_**Solution 2**: Python provides the escape sequence._\n",
    "\n",
    "The **backslash; ' \\ '** symbol denotes the escape sequence. The backslash can be followed by a special character and it interpreted differently."
   ]
  },
  {
   "cell_type": "code",
   "execution_count": 40,
   "metadata": {},
   "outputs": [
    {
     "name": "stdout",
     "output_type": "stream",
     "text": [
      "Ayşe dedi: \"Ankara'dan dün geldim\" \n"
     ]
    }
   ],
   "source": [
    "mtn = 'Ayşe dedi: \\\"Ankara\\'dan dün geldim\\\" '\n",
    "print(mtn)"
   ]
  },
  {
   "cell_type": "markdown",
   "metadata": {},
   "source": [
    "## Splitting long codes\n",
    "*\\ newline*\n",
    "\n",
    "*Triple quotes ''' '''*\n",
    "\n",
    "**Ductility** is a measure of a material's ability to undergo significant plastic deformation before rupture or breaking, which may be expressed as percent elongation or percent area reduction from a tensile test.\n"
   ]
  },
  {
   "cell_type": "markdown",
   "metadata": {},
   "source": [
    "- **\\ : continue to write in a newline**"
   ]
  },
  {
   "cell_type": "code",
   "execution_count": 45,
   "metadata": {},
   "outputs": [
    {
     "name": "stdout",
     "output_type": "stream",
     "text": [
      "It is a measure of a material's ability to undergo significant plastic deformation before rupture or breaking, which may be expressed as percent elongation or percent area reduction from a tensile test.\n"
     ]
    }
   ],
   "source": [
    "Ductility = \"It is a measure of a material's ability to undergo significant \\\n",
    "plastic deformation before rupture or breaking, which may be expressed as \\\n",
    "percent elongation or percent area reduction from a tensile test.\"\n",
    "print(Ductility)"
   ]
  },
  {
   "cell_type": "markdown",
   "metadata": {},
   "source": [
    "- **Triple quotes ''' ''':**"
   ]
  },
  {
   "cell_type": "code",
   "execution_count": 42,
   "metadata": {},
   "outputs": [
    {
     "name": "stdout",
     "output_type": "stream",
     "text": [
      "It is a measure of a material's ability to undergo significant \n",
      "plastic deformation before rupture or breaking, which may be expressed as \n",
      "percent elongation or percent area reduction from a tensile test.\n"
     ]
    }
   ],
   "source": [
    "Ductility = \"\"\"It is a measure of a material's ability to undergo significant \n",
    "plastic deformation before rupture or breaking, which may be expressed as \n",
    "percent elongation or percent area reduction from a tensile test.\"\"\"\n",
    "print(Ductility)"
   ]
  },
  {
   "cell_type": "markdown",
   "metadata": {},
   "source": [
    "- Lines can be seperated **\\n** by **backslash with symbol \"n\"'** in print() function: \\n means newline"
   ]
  },
  {
   "cell_type": "code",
   "execution_count": 48,
   "metadata": {},
   "outputs": [
    {
     "name": "stdout",
     "output_type": "stream",
     "text": [
      "It is a measure of a material's ability to undergo \n",
      "\n",
      "\n",
      "significant plastic deformation before rupture or breaking, which may \n",
      "be expressed as percent elongation or percent area reduction from a tensile test.\n"
     ]
    }
   ],
   "source": [
    "Ductility = \"It is a measure of a material's ability to undergo \\n\\n\\nsignificant plastic deformation before rupture or breaking, which may \\nbe expressed as percent elongation or percent area reduction from a tensile test.\"\n",
    "print(Ductility)"
   ]
  },
  {
   "cell_type": "markdown",
   "metadata": {},
   "source": [
    "- **Use ' r ' before the quote not to use \\n:**"
   ]
  },
  {
   "cell_type": "code",
   "execution_count": 51,
   "metadata": {},
   "outputs": [
    {
     "name": "stdout",
     "output_type": "stream",
     "text": [
      "MyData\n",
      "otes\\INM439\n"
     ]
    }
   ],
   "source": [
    "print('MyData\\notes\\INM439')"
   ]
  },
  {
   "cell_type": "code",
   "execution_count": 52,
   "metadata": {},
   "outputs": [
    {
     "name": "stdout",
     "output_type": "stream",
     "text": [
      "MyData\\notes\\INM439\n"
     ]
    }
   ],
   "source": [
    "print(r'MyData\\notes\\INM439')"
   ]
  },
  {
   "cell_type": "markdown",
   "metadata": {},
   "source": [
    "## Finding index number\n",
    "\n",
    "To find the initial index of first usage of a given item:\n",
    "\n",
    "> Var_Name.index(\"item\")\n",
    "\n",
    "> Var_Name.find(\"item\")\n",
    "\n",
    "To find the initial index of last usage of a given item:\n",
    "\n",
    "> Var_Name.rfind(\"item\")"
   ]
  },
  {
   "cell_type": "markdown",
   "metadata": {},
   "source": [
    "**_To find the initial index of first usage of a given item:_**"
   ]
  },
  {
   "cell_type": "code",
   "execution_count": 54,
   "metadata": {},
   "outputs": [
    {
     "name": "stdout",
     "output_type": "stream",
     "text": [
      "5\n"
     ]
    }
   ],
   "source": [
    "sehir = \"Sakarya\"\n",
    "print(sehir.index(\"y\"))"
   ]
  },
  {
   "cell_type": "code",
   "execution_count": 55,
   "metadata": {},
   "outputs": [
    {
     "name": "stdout",
     "output_type": "stream",
     "text": [
      "5\n"
     ]
    }
   ],
   "source": [
    "x = sehir.index(\"y\")\n",
    "print(x)"
   ]
  },
  {
   "cell_type": "markdown",
   "metadata": {},
   "source": [
    "**_OR:_**"
   ]
  },
  {
   "cell_type": "code",
   "execution_count": 57,
   "metadata": {},
   "outputs": [
    {
     "name": "stdout",
     "output_type": "stream",
     "text": [
      "1\n"
     ]
    }
   ],
   "source": [
    "print(sehir.find(\"a\"))"
   ]
  },
  {
   "cell_type": "markdown",
   "metadata": {},
   "source": [
    "**_To find the initial index of last usage of a given item:_**"
   ]
  },
  {
   "cell_type": "code",
   "execution_count": 58,
   "metadata": {},
   "outputs": [
    {
     "name": "stdout",
     "output_type": "stream",
     "text": [
      "6\n"
     ]
    }
   ],
   "source": [
    "print(sehir.rfind(\"a\"))"
   ]
  },
  {
   "cell_type": "markdown",
   "metadata": {},
   "source": [
    "## index-character pairs\n",
    "\n",
    "*Syntax:* list(enumerate(\"string\",))"
   ]
  },
  {
   "cell_type": "markdown",
   "metadata": {},
   "source": [
    "**_Contains all items as pairs:_**"
   ]
  },
  {
   "cell_type": "code",
   "execution_count": 60,
   "metadata": {},
   "outputs": [
    {
     "data": {
      "text/plain": [
       "[(0, 'S'), (1, 'a'), (2, 'k'), (3, 'a'), (4, 'r'), (5, 'y'), (6, 'a')]"
      ]
     },
     "execution_count": 60,
     "metadata": {},
     "output_type": "execute_result"
    }
   ],
   "source": [
    "list(enumerate(sehir,))"
   ]
  },
  {
   "cell_type": "markdown",
   "metadata": {},
   "source": [
    "## To count number of items in string\n",
    "\n",
    "*Var_Name.count(\"item\")* : letter case sensitive"
   ]
  },
  {
   "cell_type": "markdown",
   "metadata": {},
   "source": [
    "**_To count number of items in string:_**"
   ]
  },
  {
   "cell_type": "code",
   "execution_count": 61,
   "metadata": {},
   "outputs": [
    {
     "name": "stdout",
     "output_type": "stream",
     "text": [
      "3\n"
     ]
    }
   ],
   "source": [
    "print(sehir.count(\"a\"))"
   ]
  },
  {
   "cell_type": "markdown",
   "metadata": {},
   "source": [
    "**_OR:_**"
   ]
  },
  {
   "cell_type": "code",
   "execution_count": 62,
   "metadata": {},
   "outputs": [
    {
     "name": "stdout",
     "output_type": "stream",
     "text": [
      "2\n"
     ]
    }
   ],
   "source": [
    "print(\"Sakarya University\".count(\"i\"))"
   ]
  },
  {
   "cell_type": "markdown",
   "metadata": {},
   "source": [
    "## Upper and Lower Case letters"
   ]
  },
  {
   "cell_type": "markdown",
   "metadata": {},
   "source": [
    "_**.upper()** method_"
   ]
  },
  {
   "cell_type": "code",
   "execution_count": 65,
   "metadata": {},
   "outputs": [
    {
     "name": "stdout",
     "output_type": "stream",
     "text": [
      "CIVIL ENGINEERING\n"
     ]
    }
   ],
   "source": [
    "bolum = \"Civil Engineering\"\n",
    "print(bolum.upper())"
   ]
  },
  {
   "cell_type": "markdown",
   "metadata": {},
   "source": [
    "_**.lower()** method_"
   ]
  },
  {
   "cell_type": "code",
   "execution_count": 66,
   "metadata": {},
   "outputs": [
    {
     "name": "stdout",
     "output_type": "stream",
     "text": [
      "civil engineering\n"
     ]
    }
   ],
   "source": [
    "print(bolum.lower())"
   ]
  },
  {
   "cell_type": "markdown",
   "metadata": {},
   "source": [
    "--- \n",
    "## Example :\n",
    "\n",
    "<img src=\"./Figures/Examples/duzceeq.png\" align=\"left\"/>"
   ]
  },
  {
   "cell_type": "markdown",
   "metadata": {},
   "source": [
    "PEER NGA STRONG MOTION DATABASE RECORD\n",
    "\n",
    "Duzce Turkey, 11/12/1999, Bolu, 0\n",
    "\n",
    "ACCELERATION TIME SERIES IN UNITS OF G\n",
    "\n",
    "NPTS=5590, DT=.0100 SEC,  -5 POLE @      .05000 HZ,   0 POLE @      .00000\n",
    "\n",
    "\n",
    "- **Question: Find the values of \"DT\" and \"NPTS\" from the text**"
   ]
  },
  {
   "cell_type": "code",
   "execution_count": 68,
   "metadata": {},
   "outputs": [
    {
     "name": "stdout",
     "output_type": "stream",
     "text": [
      "\n",
      "PEER NGA STRONG MOTION DATABASE RECORD\n",
      "Duzce Turkey, 11/12/1999, Bolu, 0\n",
      "ACCELERATION TIME SERIES IN UNITS OF G\n",
      "NPTS=5590, DT=.0100 SEC,  -5 POLE @      .05000 HZ,   0 POLE @      .00000\n",
      "\n"
     ]
    }
   ],
   "source": [
    "deprem = \"\"\"\n",
    "PEER NGA STRONG MOTION DATABASE RECORD\n",
    "Duzce Turkey, 11/12/1999, Bolu, 0\n",
    "ACCELERATION TIME SERIES IN UNITS OF G\n",
    "NPTS=5590, DT=.0100 SEC,  -5 POLE @      .05000 HZ,   0 POLE @      .00000\n",
    "\"\"\"\n",
    "print(deprem)"
   ]
  },
  {
   "cell_type": "markdown",
   "metadata": {},
   "source": [
    "**_Find the initial index of \"DT\":_**"
   ]
  },
  {
   "cell_type": "code",
   "execution_count": 69,
   "metadata": {},
   "outputs": [
    {
     "name": "stdout",
     "output_type": "stream",
     "text": [
      "124\n"
     ]
    }
   ],
   "source": [
    "dtindex = deprem.find(\"DT\")\n",
    "print(dtindex)"
   ]
  },
  {
   "cell_type": "markdown",
   "metadata": {},
   "source": [
    "**_Find the index range of value of \"DT\":_**"
   ]
  },
  {
   "cell_type": "code",
   "execution_count": 70,
   "metadata": {},
   "outputs": [
    {
     "name": "stdout",
     "output_type": "stream",
     "text": [
      ".0100\n"
     ]
    }
   ],
   "source": [
    "dt = deprem[dtindex+3:dtindex+8]\n",
    "print(dt)"
   ]
  },
  {
   "cell_type": "markdown",
   "metadata": {},
   "source": [
    "**_Find the initial index of \"NPTS\":_**"
   ]
  },
  {
   "cell_type": "code",
   "execution_count": 71,
   "metadata": {},
   "outputs": [
    {
     "name": "stdout",
     "output_type": "stream",
     "text": [
      "113\n"
     ]
    }
   ],
   "source": [
    "nptsindex = deprem.find(\"NPTS\")\n",
    "print(nptsindex)"
   ]
  },
  {
   "cell_type": "markdown",
   "metadata": {},
   "source": [
    "**_Find the index range of value of \"NPTS\":_**"
   ]
  },
  {
   "cell_type": "code",
   "execution_count": 72,
   "metadata": {},
   "outputs": [
    {
     "name": "stdout",
     "output_type": "stream",
     "text": [
      "5590\n"
     ]
    }
   ],
   "source": [
    "npts = deprem[nptsindex+5:nptsindex+9]\n",
    "print(npts)"
   ]
  },
  {
   "cell_type": "code",
   "execution_count": null,
   "metadata": {},
   "outputs": [],
   "source": []
  }
 ],
 "metadata": {
  "hide_input": false,
  "kernelspec": {
   "display_name": "Python 3 (ipykernel)",
   "language": "python",
   "name": "python3"
  },
  "language_info": {
   "codemirror_mode": {
    "name": "ipython",
    "version": 3
   },
   "file_extension": ".py",
   "mimetype": "text/x-python",
   "name": "python",
   "nbconvert_exporter": "python",
   "pygments_lexer": "ipython3",
   "version": "3.9.13"
  },
  "varInspector": {
   "cols": {
    "lenName": 16,
    "lenType": 16,
    "lenVar": 40
   },
   "kernels_config": {
    "python": {
     "delete_cmd_postfix": "",
     "delete_cmd_prefix": "del ",
     "library": "var_list.py",
     "varRefreshCmd": "print(var_dic_list())"
    },
    "r": {
     "delete_cmd_postfix": ") ",
     "delete_cmd_prefix": "rm(",
     "library": "var_list.r",
     "varRefreshCmd": "cat(var_dic_list()) "
    }
   },
   "types_to_exclude": [
    "module",
    "function",
    "builtin_function_or_method",
    "instance",
    "_Feature"
   ],
   "window_display": false
  }
 },
 "nbformat": 4,
 "nbformat_minor": 4
}
