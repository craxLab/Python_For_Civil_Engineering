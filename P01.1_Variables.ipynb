{
 "cells": [
  {
   "cell_type": "markdown",
   "metadata": {},
   "source": [
    "## Computer Programming with Python\n",
    "\n",
    "#### Instructor : Dr. Aydin Demir\n",
    "\n",
    "aydindemir@sakarya.edu.tr | www.aydindemir.com | GitHub & Instagram: @craxLab | Web: www.craxLab.com\n",
    "\n",
    "---"
   ]
  },
  {
   "cell_type": "markdown",
   "metadata": {},
   "source": [
    "## VARIABLES\n",
    "\n",
    "Variable is a name that is used to refer to memory location. Python variable is also known as an identifier and used to hold value.\n",
    "\n",
    "* Variables are the example of identifiers.\n",
    "\n",
    "* Variables can be used to store data of different data types such as integers, floating-point numbers, strings, lists, dictionaries, etc.\n",
    "\n",
    "#### To define variables:\n",
    "\n",
    "The equal (=) operator is used to assign value to a variable.\n",
    "\n",
    "*variable_name = expression (data)*\n",
    "\n",
    "#### To print variables on to the screen:\n",
    "*print(variable_name)*\n",
    "\n",
    "or\n",
    "\n",
    "*variable_name*   -----> # Only in Jupiter\n",
    "\n",
    "#### To print multiple variables on to the screen:\n",
    "\n",
    "*print(variable_name1, variable_name2, variable_name3, ...)*\n",
    "\n",
    "or\n",
    "\n",
    "*variable_name1, variable_name2, variable_name3, ...*   -----> # Only in Jupiter\n"
   ]
  },
  {
   "cell_type": "markdown",
   "metadata": {},
   "source": [
    "**_Create a variable with an integer:_**\n",
    "\n",
    "![](./Figures/variables1.png)\n",
    "\n",
    "The following code declares a variable _a_ and assigns the value 50 to it. "
   ]
  },
  {
   "cell_type": "code",
   "execution_count": null,
   "metadata": {},
   "outputs": [],
   "source": [
    "a = 50\n",
    "print(a)"
   ]
  },
  {
   "cell_type": "markdown",
   "metadata": {},
   "source": [
    "**_Create a variable with string:_**\n",
    "\n",
    "![](./Figures/aziz_sancar.jpg)\n",
    "\n",
    "Source: https://www.hurriyet.com.tr/gundem/aziz-sancar-kimdir-nerelidir-40890746"
   ]
  },
  {
   "cell_type": "code",
   "execution_count": null,
   "metadata": {},
   "outputs": [],
   "source": [
    "biliminsani = \"Aziz Sancar\"\n",
    "print(biliminsani)"
   ]
  },
  {
   "cell_type": "markdown",
   "metadata": {},
   "source": [
    "**_Variables having same value:_**\n",
    "\n",
    "![](./Figures/variables2.png)"
   ]
  },
  {
   "cell_type": "code",
   "execution_count": null,
   "metadata": {},
   "outputs": [],
   "source": [
    "a = 50\n",
    "b = 50\n",
    "print(a)\n",
    "print(b)"
   ]
  },
  {
   "cell_type": "markdown",
   "metadata": {},
   "source": [
    "**_Variables having different values:_**\n",
    "\n",
    "![](./Figures/variables3.png)"
   ]
  },
  {
   "cell_type": "code",
   "execution_count": 2,
   "metadata": {},
   "outputs": [
    {
     "name": "stdout",
     "output_type": "stream",
     "text": [
      "150\n"
     ]
    }
   ],
   "source": [
    "a = 50\n",
    "b = 100\n",
    "c = a + b\n",
    "print(c)"
   ]
  },
  {
   "cell_type": "markdown",
   "metadata": {},
   "source": [
    "--- \n",
    "## Object Identity\n",
    "\n",
    "In Python, every created object identifies uniquely in Python. Python provides the guaranteed that no two objects will have the same identifier. \n",
    "\n",
    "The built-in **id()** function, is used to identify the object identifier."
   ]
  },
  {
   "cell_type": "code",
   "execution_count": 3,
   "metadata": {},
   "outputs": [
    {
     "name": "stdout",
     "output_type": "stream",
     "text": [
      "2110200835920\n"
     ]
    }
   ],
   "source": [
    "print(id(a))"
   ]
  },
  {
   "cell_type": "code",
   "execution_count": 4,
   "metadata": {},
   "outputs": [
    {
     "name": "stdout",
     "output_type": "stream",
     "text": [
      "2110201027600\n"
     ]
    }
   ],
   "source": [
    "print(id(c))"
   ]
  },
  {
   "cell_type": "markdown",
   "metadata": {},
   "source": [
    "## Multiple Assignment\n",
    "Python allows us to assign a value to multiple variables in a single statement, which is also known as multiple assignments.\n",
    "\n",
    "We can apply multiple assignments in two ways, either by assigning a single value to multiple variables or assigning multiple values to multiple variables. Consider the following example.\n",
    "\n",
    "**Assigning single value to multiple variables:**"
   ]
  },
  {
   "cell_type": "code",
   "execution_count": 6,
   "metadata": {},
   "outputs": [
    {
     "name": "stdout",
     "output_type": "stream",
     "text": [
      "50 50 50\n"
     ]
    }
   ],
   "source": [
    "x = 50\n",
    "y = 50\n",
    "z = 50\n",
    "print(x, y, z)"
   ]
  },
  {
   "cell_type": "code",
   "execution_count": 7,
   "metadata": {},
   "outputs": [
    {
     "name": "stdout",
     "output_type": "stream",
     "text": [
      "50 50 50\n"
     ]
    }
   ],
   "source": [
    "x = y = z = 50\n",
    "print(x, y, z)"
   ]
  },
  {
   "cell_type": "markdown",
   "metadata": {},
   "source": [
    "**Assigning multiple values to multiple variables:**"
   ]
  },
  {
   "cell_type": "code",
   "execution_count": 8,
   "metadata": {},
   "outputs": [
    {
     "name": "stdout",
     "output_type": "stream",
     "text": [
      "50 60 80\n"
     ]
    }
   ],
   "source": [
    "x = 50\n",
    "y = 60\n",
    "z = 80\n",
    "print(x, y, z)"
   ]
  },
  {
   "cell_type": "code",
   "execution_count": 9,
   "metadata": {},
   "outputs": [
    {
     "name": "stdout",
     "output_type": "stream",
     "text": [
      "50 60 80\n"
     ]
    }
   ],
   "source": [
    "x, y, z = 50, 60, 80\n",
    "print(x, y, z)"
   ]
  },
  {
   "cell_type": "markdown",
   "metadata": {},
   "source": [
    "---\n",
    "\n",
    "## Variable Naming\n",
    "Variable names can be a group of both the letters and digits. The rules to name an identifier are given below.\n",
    "\n",
    "- The first character of the variable must be an alphabet or underscore ( _ ).\n",
    "\n",
    "- All the characters except the first character may be an alphabet of lower-case(a-z), upper-case (A-Z), underscore, or digit (0-9).\n",
    "\n",
    "- Identifier name must not contain any white-space, or special character (!, @, #, %, ^, &, *).\n",
    "\n",
    "- Identifier name must not be similar to any keyword defined in the language.\n",
    "\n",
    "- Identifier names are case sensitive; for example, **myname**, and **Myname** is not the same.\n",
    "\n",
    "- I suggest not using unique TURKISH letters: **ı, ş, ü, ğ, ç, ö**\n",
    "\n",
    "**_Examples of valid identifiers:_**"
   ]
  },
  {
   "cell_type": "code",
   "execution_count": 10,
   "metadata": {},
   "outputs": [
    {
     "name": "stdout",
     "output_type": "stream",
     "text": [
      "Ali\n"
     ]
    }
   ],
   "source": [
    "isim = \"Ali\"\n",
    "print(isim)"
   ]
  },
  {
   "cell_type": "code",
   "execution_count": 11,
   "metadata": {},
   "outputs": [
    {
     "name": "stdout",
     "output_type": "stream",
     "text": [
      "100\n"
     ]
    }
   ],
   "source": [
    "a5 = 100\n",
    "print(a5)"
   ]
  },
  {
   "cell_type": "code",
   "execution_count": 12,
   "metadata": {},
   "outputs": [
    {
     "name": "stdout",
     "output_type": "stream",
     "text": [
      "Sakarya\n"
     ]
    }
   ],
   "source": [
    "_sehir = \"Sakarya\"\n",
    "print(_sehir)"
   ]
  },
  {
   "cell_type": "code",
   "execution_count": 14,
   "metadata": {},
   "outputs": [
    {
     "name": "stdout",
     "output_type": "stream",
     "text": [
      "Sakarya\n"
     ]
    }
   ],
   "source": [
    "sehrin_adi = \"Sakarya\"\n",
    "print(sehrin_adi)"
   ]
  },
  {
   "cell_type": "markdown",
   "metadata": {},
   "source": [
    "**_Examples of invalid identifiers:_**"
   ]
  },
  {
   "cell_type": "code",
   "execution_count": 15,
   "metadata": {},
   "outputs": [
    {
     "ename": "SyntaxError",
     "evalue": "invalid syntax (524868900.py, line 1)",
     "output_type": "error",
     "traceback": [
      "\u001b[1;36m  File \u001b[1;32m\"C:\\Users\\drayd\\AppData\\Local\\Temp\\ipykernel_28332\\524868900.py\"\u001b[1;36m, line \u001b[1;32m1\u001b[0m\n\u001b[1;33m    8no = 87\u001b[0m\n\u001b[1;37m     ^\u001b[0m\n\u001b[1;31mSyntaxError\u001b[0m\u001b[1;31m:\u001b[0m invalid syntax\n"
     ]
    }
   ],
   "source": [
    "8no = 87"
   ]
  },
  {
   "cell_type": "code",
   "execution_count": 16,
   "metadata": {},
   "outputs": [
    {
     "ename": "SyntaxError",
     "evalue": "cannot assign to operator (3519354837.py, line 1)",
     "output_type": "error",
     "traceback": [
      "\u001b[1;36m  File \u001b[1;32m\"C:\\Users\\drayd\\AppData\\Local\\Temp\\ipykernel_28332\\3519354837.py\"\u001b[1;36m, line \u001b[1;32m1\u001b[0m\n\u001b[1;33m    k@l = \"Sau\"\u001b[0m\n\u001b[1;37m    ^\u001b[0m\n\u001b[1;31mSyntaxError\u001b[0m\u001b[1;31m:\u001b[0m cannot assign to operator\n"
     ]
    }
   ],
   "source": [
    "k@l = \"Sau\""
   ]
  },
  {
   "cell_type": "code",
   "execution_count": 17,
   "metadata": {},
   "outputs": [
    {
     "ename": "SyntaxError",
     "evalue": "invalid syntax (3402109672.py, line 1)",
     "output_type": "error",
     "traceback": [
      "\u001b[1;36m  File \u001b[1;32m\"C:\\Users\\drayd\\AppData\\Local\\Temp\\ipykernel_28332\\3402109672.py\"\u001b[1;36m, line \u001b[1;32m1\u001b[0m\n\u001b[1;33m    sehir adi = \"Sakarya\"\u001b[0m\n\u001b[1;37m          ^\u001b[0m\n\u001b[1;31mSyntaxError\u001b[0m\u001b[1;31m:\u001b[0m invalid syntax\n"
     ]
    }
   ],
   "source": [
    "sehir adi = \"Sakarya\""
   ]
  },
  {
   "cell_type": "markdown",
   "metadata": {},
   "source": [
    "**_Identifier names are case sensitive:_**"
   ]
  },
  {
   "cell_type": "code",
   "execution_count": 18,
   "metadata": {},
   "outputs": [
    {
     "name": "stdout",
     "output_type": "stream",
     "text": [
      "Veli Ayşe\n"
     ]
    }
   ],
   "source": [
    "ad  = \"Veli\"\n",
    "Ad = \"Ayşe\"\n",
    "print(ad, Ad)"
   ]
  },
  {
   "cell_type": "markdown",
   "metadata": {},
   "source": [
    "---\n",
    "## whos \n",
    "\n",
    "a function listing objects"
   ]
  },
  {
   "cell_type": "code",
   "execution_count": 19,
   "metadata": {},
   "outputs": [
    {
     "name": "stdout",
     "output_type": "stream",
     "text": [
      "Variable          Type                          Data/Info\n",
      "---------------------------------------------------------\n",
      "Ad                str                           Ayşe\n",
      "NamespaceMagics   MetaHasTraits                 <class 'IPython.core.magi<...>mespace.NamespaceMagics'>\n",
      "a                 int                           50\n",
      "a5                int                           100\n",
      "ad                str                           Veli\n",
      "b                 int                           100\n",
      "c                 int                           150\n",
      "get_ipython       function                      <function get_ipython at 0x000001EB54ED1D30>\n",
      "getsizeof         builtin_function_or_method    <built-in function getsizeof>\n",
      "isim              str                           Ali\n",
      "json              module                        <module 'json' from 'C:\\\\<...>\\lib\\\\json\\\\__init__.py'>\n",
      "np                module                        <module 'numpy' from 'C:\\<...>ges\\\\numpy\\\\__init__.py'>\n",
      "sehrin_adi        str                           Sakarya\n",
      "var_dic_list      function                      <function var_dic_list at 0x000001EB5826C310>\n",
      "x                 int                           50\n",
      "y                 int                           60\n",
      "z                 int                           80\n"
     ]
    }
   ],
   "source": [
    "%whos"
   ]
  },
  {
   "cell_type": "markdown",
   "metadata": {},
   "source": [
    "---\n",
    "## Example Homework\n",
    "\n",
    "- Write your first code that calculates your monthly budget for transportation. \n",
    " \n",
    " a ) Assume you are using a bus and paying 10 Turkish liras for one way. \n",
    " \n",
    " b ) Assume that you are traveling by your own car and the gasoline costs 2 Turkish liras per kilometer.\n",
    " \n",
    " c ) Calculate the differance between traveling by car and by bus.\n",
    " \n",
    " PS: Please use your home location and SAU Civil Engineering Department building locations for distance calculations."
   ]
  },
  {
   "cell_type": "markdown",
   "metadata": {},
   "source": [
    "---"
   ]
  }
 ],
 "metadata": {
  "hide_input": false,
  "kernelspec": {
   "display_name": "Python 3 (ipykernel)",
   "language": "python",
   "name": "python3"
  },
  "language_info": {
   "codemirror_mode": {
    "name": "ipython",
    "version": 3
   },
   "file_extension": ".py",
   "mimetype": "text/x-python",
   "name": "python",
   "nbconvert_exporter": "python",
   "pygments_lexer": "ipython3",
   "version": "3.9.13"
  },
  "varInspector": {
   "cols": {
    "lenName": 16,
    "lenType": 16,
    "lenVar": 40
   },
   "kernels_config": {
    "python": {
     "delete_cmd_postfix": "",
     "delete_cmd_prefix": "del ",
     "library": "var_list.py",
     "varRefreshCmd": "print(var_dic_list())"
    },
    "r": {
     "delete_cmd_postfix": ") ",
     "delete_cmd_prefix": "rm(",
     "library": "var_list.r",
     "varRefreshCmd": "cat(var_dic_list()) "
    }
   },
   "types_to_exclude": [
    "module",
    "function",
    "builtin_function_or_method",
    "instance",
    "_Feature"
   ],
   "window_display": false
  }
 },
 "nbformat": 4,
 "nbformat_minor": 4
}
