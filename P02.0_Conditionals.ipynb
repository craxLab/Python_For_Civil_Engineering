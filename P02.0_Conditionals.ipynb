{
 "cells": [
  {
   "cell_type": "markdown",
   "metadata": {},
   "source": [
    "## Computer Programming with Python\n",
    "\n",
    "#### Instructor : Dr. Aydin Demir\n",
    "\n",
    "www.aydindemir.com | GitHub & Instagram: @craxLab | Web: www.craxLab.com\n",
    "\n",
    "---"
   ]
  },
  {
   "cell_type": "markdown",
   "metadata": {},
   "source": [
    "### _The topics of the week !_\n",
    "\n",
    "- Conditionals\n",
    "\n",
    "    - The **_\" if \"_** statement\n",
    "    - The **_\" if else / elif\"_** statement"
   ]
  },
  {
   "cell_type": "markdown",
   "metadata": {},
   "source": [
    "---\n",
    "In programming world, such as in real world, sometimes we need to make decisions to move with next step. In Python, when we make a decision, we can execute the next step of the code. This week we will learn to use decision making statements in Python programming language. \n",
    "\n",
    "In the code we use _conditionals_ to execute different lines of the code, as a way to repeat something, especially to say if its True or not. If the conditional is True, the loop will be infine, otherwise, if the code starts with False, means it will never run.\n",
    "\n",
    "\n",
    "### The **_\" if \"_** statement\n",
    "\n",
    "\" if \" statement is one of the most simple decision making statement. It is used to decide whether a certain statement is True or False. \n",
    "\n",
    "<img src=\"./Figures/if-statement.png\" align=\"left\"/>"
   ]
  },
  {
   "cell_type": "markdown",
   "metadata": {},
   "source": [
    "Lets remember that Python supports the logical conditions listed below;\n",
    "\n",
    "\n",
    "    Equal: a == b\n",
    "    Not Equal: a != b\n",
    "    Less than: a < b\n",
    "    Less than or equal to: a <= b\n",
    "    Greater than: a > b\n",
    "    Greater than or equal to: a >= b\n",
    "\n",
    "\n",
    "* The colon (:) is required to seprarate the condition from the body. \n",
    "* The line after the colon is also required and it stands for four spaces for indenting."
   ]
  },
  {
   "cell_type": "markdown",
   "metadata": {},
   "source": [
    "#### The syntax of the if-statement is given below.\n",
    "\n",
    "if expression:\n",
    ">statement "
   ]
  },
  {
   "cell_type": "markdown",
   "metadata": {},
   "source": [
    "---\n",
    "**Horizontal Elastic Design Spectrum of TSCB-2019**\n",
    "\n",
    "<img src=\"./Figures/Examples/Design_SpectrumHor2.png\" align=\"left\"/>"
   ]
  },
  {
   "cell_type": "markdown",
   "metadata": {},
   "source": [
    "_Write your first \"if\" statement:_\n",
    "\n",
    "This code will skip the print line as long as condition is False."
   ]
  },
  {
   "cell_type": "code",
   "execution_count": 2,
   "metadata": {},
   "outputs": [
    {
     "name": "stdout",
     "output_type": "stream",
     "text": [
      "T büyüktür Ta\n"
     ]
    }
   ],
   "source": [
    "T = 2\n",
    "Ta = 1.5\n",
    "\n",
    "if T > Ta:\n",
    "    print(\"T büyüktür Ta\")"
   ]
  },
  {
   "cell_type": "markdown",
   "metadata": {},
   "source": [
    "Make a decision about if T is bigger or smaller than Ta:"
   ]
  },
  {
   "cell_type": "code",
   "execution_count": 4,
   "metadata": {},
   "outputs": [
    {
     "name": "stdout",
     "output_type": "stream",
     "text": [
      "T küçüktür Ta\n"
     ]
    }
   ],
   "source": [
    "T = 1\n",
    "Ta = 1.5\n",
    "\n",
    "if T > Ta:\n",
    "    print(\"T büyüktür Ta\")\n",
    "    \n",
    "if T < Ta:\n",
    "    print(\"T küçüktür Ta\")"
   ]
  },
  {
   "cell_type": "markdown",
   "metadata": {},
   "source": [
    "---\n",
    "\n",
    "### The **_\" if - else \"_** statement\n",
    "\n",
    "\" if else\" statement is stands for a decision with two possible conclusion. If the statement is True follow 1st path, else follow the 2nd path. \n",
    "\n",
    "<img src=\"./Figures/if-else-statement.png\" align=\"left\"/>"
   ]
  },
  {
   "cell_type": "markdown",
   "metadata": {},
   "source": [
    "#### The syntax of the if-else statement is given below.\n",
    "\n",
    "if condition:  \n",
    ">block of statements\n",
    "\n",
    "else:   \n",
    ">another block of statements (else-block)  "
   ]
  },
  {
   "cell_type": "markdown",
   "metadata": {},
   "source": [
    "Lets write a very basic if else statement;"
   ]
  },
  {
   "cell_type": "code",
   "execution_count": 8,
   "metadata": {},
   "outputs": [
    {
     "name": "stdout",
     "output_type": "stream",
     "text": [
      "T küçüktür Ta\n"
     ]
    }
   ],
   "source": [
    "T = 1.5\n",
    "Ta = 1.5\n",
    "\n",
    "if T > Ta:\n",
    "    print(\"T büyüktür Ta\")\n",
    "    \n",
    "else:\n",
    "    print(\"T küçüktür Ta\")"
   ]
  },
  {
   "cell_type": "markdown",
   "metadata": {},
   "source": [
    "---\n",
    "### The **_\" if else / elif \"_** statement\n",
    "\n",
    "\n",
    "In order to chain conditions to each other to simplify/solve more complex logics \"elif\" can be used as a concentration version of else and if. \n",
    "If the _\" if \"_ statement condition is False, then the code will check the _\" elif \"_ condition on the next block, and so on. Even all of them are False, _\" else \"_ will be executed.\n",
    "\n",
    "<img src=\"./Figures/elif-else-statement.png\" align=\"left\"/>\n",
    "\n",
    "Source: https://www.javatpoint.com/"
   ]
  },
  {
   "cell_type": "markdown",
   "metadata": {},
   "source": [
    "#### The syntax of the elif statement is given below.\n",
    "\n",
    "if expression 1:   \n",
    ">block of statements   \n",
    "  \n",
    "elif expression 2:   \n",
    ">block of statements   \n",
    "  \n",
    "elif expression 3:   \n",
    ">block of statements   \n",
    "  \n",
    "else:   \n",
    ">block of statements  "
   ]
  },
  {
   "cell_type": "markdown",
   "metadata": {},
   "source": [
    "Example: "
   ]
  },
  {
   "cell_type": "code",
   "execution_count": 11,
   "metadata": {},
   "outputs": [
    {
     "name": "stdout",
     "output_type": "stream",
     "text": [
      "T küçüktür Ta\n"
     ]
    }
   ],
   "source": [
    "T = 2.5\n",
    "Ta = 5.5\n",
    "\n",
    "if T > Ta:\n",
    "    print(\"T büyüktür Ta\")\n",
    "    \n",
    "elif T == Ta:\n",
    "    print(\"T eşittir Ta\")\n",
    "\n",
    "else:\n",
    "    print(\"T küçüktür Ta\")"
   ]
  },
  {
   "cell_type": "markdown",
   "metadata": {},
   "source": [
    "OR:"
   ]
  },
  {
   "cell_type": "code",
   "execution_count": 12,
   "metadata": {},
   "outputs": [
    {
     "name": "stdout",
     "output_type": "stream",
     "text": [
      "T küçüktür Ta\n"
     ]
    }
   ],
   "source": [
    "T = 2.5\n",
    "Ta = 5.5\n",
    "\n",
    "if T > Ta:\n",
    "    print(\"T büyüktür Ta\")\n",
    "    \n",
    "elif T == Ta:\n",
    "    print(\"T eşittir Ta\")\n",
    "\n",
    "elif T < Ta:\n",
    "    print(\"T küçüktür Ta\")"
   ]
  },
  {
   "cell_type": "markdown",
   "metadata": {},
   "source": [
    "---\n",
    "\n",
    "### Membership Operator: in | not in\n",
    "\n",
    "“in” operator: It is used to check whether an element is present in the passed list or not. Returns true if the element is present in the list otherwise returns false.\n",
    "\n",
    "“not in” operator: It is used to check whether an element is not present in the passed list or not. Returns true if the element is not present in the list otherwise returns false. \n",
    "\n",
    "Let’s take a look at the example to understand it better.\n",
    "\n",
    "![](./Figures/inopr.jpg)\n",
    "\n",
    "source: https://www.scaler.com/topics/membership-operator-in-python"
   ]
  },
  {
   "cell_type": "code",
   "execution_count": 18,
   "metadata": {},
   "outputs": [
    {
     "name": "stdout",
     "output_type": "stream",
     "text": [
      "['S', 'a', 'k', 'a', 'r', 'y', 'a']\n",
      "a harfi sakarya kelimesinde yoktur\n",
      "k harfi sakarya kelimesinde mevcuttur\n"
     ]
    }
   ],
   "source": [
    "sehir = \"Sakarya\"\n",
    "city = list(sehir)\n",
    "print(city)\n",
    "\n",
    "if \"z\" in city:\n",
    "    print(\"a harfi sakarya kelimesinde mevcuttur\")\n",
    "else:\n",
    "    print(\"a harfi sakarya kelimesinde yoktur\")\n",
    "    \n",
    "if \"k\" not in city:\n",
    "    print(\"k harfi sakarya kelimesinde yoktur\")\n",
    "else:\n",
    "    print(\"k harfi sakarya kelimesinde mevcuttur\")    "
   ]
  },
  {
   "cell_type": "markdown",
   "metadata": {},
   "source": [
    "---\n",
    "\n",
    "### Logical Operators: and | or | not\n",
    "\n",
    "![](./Figures/booleanOperators.png)\n",
    "\n",
    "source: https://nicholls.libguides.com/engl310/boolean\n",
    "\n",
    "![](./Figures/logoper.jpg)\n",
    "\n",
    "source: https://designprotechs.com/operators-python/#iLightbox[dbfa3cd5b5f879d252b]/0"
   ]
  },
  {
   "cell_type": "markdown",
   "metadata": {},
   "source": [
    "**Logical \"and\" Operator**\n",
    "\n",
    "The and keyword is a logical operator, and is used to combine conditional statements:\n",
    "\n",
    "![](./Figures/xandy.jpg)\n",
    "\n",
    "source:https://www.datainsightonline.com/post/python-logical-operators"
   ]
  },
  {
   "cell_type": "code",
   "execution_count": 21,
   "metadata": {},
   "outputs": [
    {
     "name": "stdout",
     "output_type": "stream",
     "text": [
      "T küçüktür Ta\n"
     ]
    }
   ],
   "source": [
    "T = 0.5\n",
    "Ta = 1.2\n",
    "Tb = 2\n",
    "\n",
    "if T < Ta:\n",
    "    print(\"T küçüktür Ta\")\n",
    "elif T >= Ta and T <= Tb:\n",
    "    print(\"T değeri Ta ile Tb arasındadır\")\n",
    "else:\n",
    "    print(\"T büyüktür Tb\")"
   ]
  },
  {
   "cell_type": "markdown",
   "metadata": {},
   "source": [
    "**Logical \"or\" Operator**\n",
    "\n",
    "The or keyword is a logical operator, and is used to combine conditional statements:\n",
    "\n",
    "![](./Figures/xory.jpg)\n",
    "\n",
    "source:https://www.datainsightonline.com/post/python-logical-operators"
   ]
  },
  {
   "cell_type": "code",
   "execution_count": 26,
   "metadata": {},
   "outputs": [
    {
     "name": "stdout",
     "output_type": "stream",
     "text": [
      "T hatalıdır\n"
     ]
    }
   ],
   "source": [
    "T = 105.5\n",
    "Ta = 1.2\n",
    "Tb = 2\n",
    "\n",
    "if T < Ta and T>0:\n",
    "    print(\"T küçüktür Ta\")\n",
    "elif T >= Ta and T <= Tb:\n",
    "    print(\"T değeri Ta ile Tb arasındadır\")\n",
    "elif T > Tb and T <10:\n",
    "    print (\"T değeri Tb den büyüktür ve 10 sn den küçüktür\")\n",
    "else:\n",
    "    print(\"T hatalıdır\")"
   ]
  },
  {
   "cell_type": "code",
   "execution_count": 29,
   "metadata": {},
   "outputs": [
    {
     "name": "stdout",
     "output_type": "stream",
     "text": [
      "T değeri hatalıdır\n"
     ]
    }
   ],
   "source": [
    "T = -5.5\n",
    "Ta = 1.2\n",
    "Tb = 2\n",
    "\n",
    "if T < Ta and T>0:\n",
    "    print(\"T küçüktür Ta\")\n",
    "elif T >= Ta and T <= Tb:\n",
    "    print(\"T değeri Ta ile Tb arasındadır\")\n",
    "elif T > 10 or T <= 0:\n",
    "    print (\"T değeri hatalıdır\")\n",
    "else:\n",
    "    print(\"T değeri Tb den büyüktür\")"
   ]
  },
  {
   "cell_type": "markdown",
   "metadata": {},
   "source": [
    "**Logical \"not\" Operator**\n",
    "\n",
    "Logical not operator work with the single Boolean value. If the Boolean value is True it returns False and vice-versa. The following figure shows the flow of events in a NOT operator.\n",
    "\n",
    "![](./Figures/xnot.jpg)\n",
    "\n",
    "source: https://www.datainsightonline.com/post/python-logical-operators"
   ]
  },
  {
   "cell_type": "markdown",
   "metadata": {},
   "source": [
    "***if not with Boolean:***\n",
    "\n",
    "We will use Python not logical operator in the boolean expression of Python IF."
   ]
  },
  {
   "cell_type": "code",
   "execution_count": 30,
   "metadata": {},
   "outputs": [
    {
     "name": "stdout",
     "output_type": "stream",
     "text": [
      "a false\n"
     ]
    }
   ],
   "source": [
    "a = False\n",
    "\n",
    "if not a:\n",
    "    print(\"a false\")"
   ]
  },
  {
   "cell_type": "markdown",
   "metadata": {},
   "source": [
    "***if not with String:***\n",
    "\n",
    "We will use Python if not expression to print the string only if the string is not empty."
   ]
  },
  {
   "cell_type": "code",
   "execution_count": 32,
   "metadata": {},
   "outputs": [
    {
     "name": "stdout",
     "output_type": "stream",
     "text": [
      "metin boş\n"
     ]
    }
   ],
   "source": [
    "metin = \"\"\n",
    "\n",
    "if not metin:\n",
    "    print(\"metin boş\")\n",
    "else:\n",
    "    print(metin)"
   ]
  },
  {
   "cell_type": "markdown",
   "metadata": {},
   "source": [
    "***if not with List:***\n",
    "\n",
    "We will use Python if not expression to print the list only if the list is not empty."
   ]
  },
  {
   "cell_type": "code",
   "execution_count": 34,
   "metadata": {},
   "outputs": [
    {
     "name": "stdout",
     "output_type": "stream",
     "text": [
      "liste boş\n"
     ]
    }
   ],
   "source": [
    "a = []\n",
    "\n",
    "if not a:\n",
    "    print(\"liste boş\")\n",
    "else:\n",
    "    print(a)"
   ]
  },
  {
   "cell_type": "markdown",
   "metadata": {},
   "source": [
    "----\n",
    "\n",
    "### Identify Operator: is | is not\n",
    "\n",
    "It checks, if the two operands are present in the same memory location or not. These are :\n",
    "\n",
    "![](./Figures/isopr.jpg)\n",
    "\n",
    "source: https://designprotechs.com/operators-python"
   ]
  },
  {
   "cell_type": "code",
   "execution_count": 39,
   "metadata": {},
   "outputs": [
    {
     "name": "stdout",
     "output_type": "stream",
     "text": [
      "x eşit değildir y\n"
     ]
    }
   ],
   "source": [
    "x = 5\n",
    "y = 3\n",
    "\n",
    "if x == y:\n",
    "    print(\"x eşittir y\")\n",
    "elif x != y:\n",
    "    print(\"x eşit değildir y\")"
   ]
  },
  {
   "cell_type": "code",
   "execution_count": 40,
   "metadata": {},
   "outputs": [
    {
     "name": "stdout",
     "output_type": "stream",
     "text": [
      "x eşit değildir y\n"
     ]
    }
   ],
   "source": [
    "x = 5\n",
    "y = 3\n",
    "\n",
    "if x is y:\n",
    "    print(\"x eşittir y\")\n",
    "elif x is not y:\n",
    "    print(\"x eşit değildir y\")"
   ]
  },
  {
   "cell_type": "markdown",
   "metadata": {},
   "source": [
    "## Nested If\n",
    "\n",
    "You can have if statements inside if statements, this is called nested if statements."
   ]
  },
  {
   "cell_type": "code",
   "execution_count": 44,
   "metadata": {},
   "outputs": [
    {
     "name": "stdout",
     "output_type": "stream",
     "text": [
      "x 10 dan büyüktür\n",
      "ayrıca x 20 den büyüktür\n"
     ]
    }
   ],
   "source": [
    "x = 25\n",
    "\n",
    "if x > 10:\n",
    "    print(\"x 10 dan büyüktür\")\n",
    "    if x > 20:\n",
    "        print(\"ayrıca x 20 den büyüktür\")\n",
    "    else:\n",
    "        print(\"ayrıca x 20 den küçüktür\")"
   ]
  },
  {
   "cell_type": "markdown",
   "metadata": {},
   "source": [
    "## The \"pass\" Statement\n",
    "\n",
    "if statements cannot be empty, but if you for some reason have an if statement with no content, put in the pass statement to avoid getting an error."
   ]
  },
  {
   "cell_type": "code",
   "execution_count": 48,
   "metadata": {},
   "outputs": [],
   "source": [
    "x = 25\n",
    "\n",
    "if x > 10:\n",
    "    pass\n",
    "    if x > 20:\n",
    "        pass\n",
    "    else:\n",
    "        pass"
   ]
  },
  {
   "cell_type": "code",
   "execution_count": null,
   "metadata": {},
   "outputs": [],
   "source": []
  },
  {
   "cell_type": "markdown",
   "metadata": {},
   "source": [
    "---\n",
    "## Short hand statements"
   ]
  },
  {
   "cell_type": "markdown",
   "metadata": {},
   "source": [
    "**Example 1:**"
   ]
  },
  {
   "cell_type": "code",
   "execution_count": 49,
   "metadata": {},
   "outputs": [
    {
     "name": "stdout",
     "output_type": "stream",
     "text": [
      "a büyüktür b\n"
     ]
    }
   ],
   "source": [
    "a = 100\n",
    "b = 50\n",
    "\n",
    "if a > b:\n",
    "    print(\"a büyüktür b\")"
   ]
  },
  {
   "cell_type": "markdown",
   "metadata": {},
   "source": [
    "short hand:"
   ]
  },
  {
   "cell_type": "code",
   "execution_count": 50,
   "metadata": {},
   "outputs": [
    {
     "name": "stdout",
     "output_type": "stream",
     "text": [
      "a büyüktür b\n"
     ]
    }
   ],
   "source": [
    "a = 100\n",
    "b = 50\n",
    "\n",
    "if a > b: print(\"a büyüktür b\")"
   ]
  },
  {
   "cell_type": "markdown",
   "metadata": {},
   "source": [
    "**Example 2:**"
   ]
  },
  {
   "cell_type": "code",
   "execution_count": null,
   "metadata": {},
   "outputs": [],
   "source": [
    "a = 100\n",
    "b = 50\n",
    "\n",
    "if a > b:\n",
    "    print(\"a büyüktür b\")\n",
    "else:\n",
    "    print(\"a küçüktür b\")"
   ]
  },
  {
   "cell_type": "markdown",
   "metadata": {},
   "source": [
    "short hand:"
   ]
  },
  {
   "cell_type": "code",
   "execution_count": 52,
   "metadata": {},
   "outputs": [
    {
     "name": "stdout",
     "output_type": "stream",
     "text": [
      "a küçüktür b\n"
     ]
    }
   ],
   "source": [
    "a = 100\n",
    "b = 150\n",
    "\n",
    "print(\"a büyüktür b\") if a > b else print(\"a küçüktür b\")"
   ]
  },
  {
   "cell_type": "markdown",
   "metadata": {},
   "source": [
    "**Example 3:**"
   ]
  },
  {
   "cell_type": "code",
   "execution_count": 54,
   "metadata": {},
   "outputs": [
    {
     "name": "stdout",
     "output_type": "stream",
     "text": [
      "a eşittir b\n"
     ]
    }
   ],
   "source": [
    "a = 50\n",
    "b = 50\n",
    "\n",
    "if a > b:\n",
    "    print(\"a büyüktür b\")\n",
    "elif a is b:\n",
    "    print(\"a eşittir b\")\n",
    "else:\n",
    "    print(\"a küçüktür b\")"
   ]
  },
  {
   "cell_type": "markdown",
   "metadata": {},
   "source": [
    "short hand:"
   ]
  },
  {
   "cell_type": "code",
   "execution_count": 59,
   "metadata": {},
   "outputs": [
    {
     "name": "stdout",
     "output_type": "stream",
     "text": [
      "a eşittir b\n"
     ]
    }
   ],
   "source": [
    "a = 50 ; b = 50\n",
    "\n",
    "print(\"a büyüktür b\") if a > b else print(\"a eşittir b\") if a == b else print(\"a küçüktür b\")"
   ]
  }
 ],
 "metadata": {
  "hide_input": false,
  "kernelspec": {
   "display_name": "Python 3 (ipykernel)",
   "language": "python",
   "name": "python3"
  },
  "language_info": {
   "codemirror_mode": {
    "name": "ipython",
    "version": 3
   },
   "file_extension": ".py",
   "mimetype": "text/x-python",
   "name": "python",
   "nbconvert_exporter": "python",
   "pygments_lexer": "ipython3",
   "version": "3.9.13"
  },
  "varInspector": {
   "cols": {
    "lenName": 16,
    "lenType": 16,
    "lenVar": 40
   },
   "kernels_config": {
    "python": {
     "delete_cmd_postfix": "",
     "delete_cmd_prefix": "del ",
     "library": "var_list.py",
     "varRefreshCmd": "print(var_dic_list())"
    },
    "r": {
     "delete_cmd_postfix": ") ",
     "delete_cmd_prefix": "rm(",
     "library": "var_list.r",
     "varRefreshCmd": "cat(var_dic_list()) "
    }
   },
   "types_to_exclude": [
    "module",
    "function",
    "builtin_function_or_method",
    "instance",
    "_Feature"
   ],
   "window_display": false
  }
 },
 "nbformat": 4,
 "nbformat_minor": 4
}
