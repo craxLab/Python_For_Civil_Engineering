{
 "cells": [
  {
   "cell_type": "markdown",
   "metadata": {},
   "source": [
    "<img src=\"./Figures/SAUyatay2logo1.jpg\" align=\"left\"/> <br> \n",
    "<br> \n",
    "\n",
    "# Department of Civil Engineering | Faculty of Engineering\n",
    "\n",
    "## INM 210 - Numerical Analysis and Computer Programming\n",
    "\n",
    "### Instructor : Dr. Aydin DEMİR\n",
    "\n",
    "www.aydindemir.com\n",
    "\n",
    "---"
   ]
  },
  {
   "cell_type": "markdown",
   "metadata": {},
   "source": [
    "### Course objective:\n",
    "This lecture aims to teach basics of the Python programming language for Civil Engineering undergraduate students. The course content includes solved examples based on specific Structural Engineering problems.\n",
    "\n",
    "#### What you will learn:\n",
    "- a new computer programming language\n",
    "- basics of the Python programming language,\n",
    "- to solve some fundemental civil engineering problems in Python.\n",
    "\n",
    "#### What you will NOT learn: Advanced Topics!...\n",
    "- simulation or drawing in civil engineering programs such as SAP2000, AutoCAD\n",
    "- to create graphic user interfaces (GUI),\n",
    "- to create games,\n",
    "- artificial intelligence, machine learning, data mining, etc.\n",
    "\n",
    "\n",
    "#### GitHub Page of the course:\n",
    "\n",
    "GitHub: @craxLab   | https://github.com/CraxLab\n",
    "\n",
    "Instagram: @craxLab  | https://instagram.com/CraxLab\n",
    "\n",
    "---"
   ]
  },
  {
   "cell_type": "markdown",
   "metadata": {},
   "source": [
    "## Grading, Attendance and Syllabus\n",
    "\n",
    "https://ebs.sabis.sakarya.edu.tr/Ders/Detay/574102"
   ]
  },
  {
   "cell_type": "markdown",
   "metadata": {},
   "source": [
    "### Textbooks :\n",
    "![](./Figures/TextBooks.png)\n",
    "\n",
    "**Resources and References:** The course content have been prepared by using following references.\n",
    "\n",
    "https://pythonnumericalmethods.berkeley.edu/notebooks/Index.html\n",
    "\n",
    "https://github.com/gtuinsaat/CE103_Python-in-Civil-Engineering\n",
    "\n",
    "https://www.w3schools.com/python\n",
    "\n",
    "https://www.javatpoint.com/python-tutorial\n",
    "\n",
    "https://docs.python.org/3/tutorial/index.html\n",
    "\n",
    "https://docs.python.org/3/reference/index.html"
   ]
  },
  {
   "cell_type": "markdown",
   "metadata": {},
   "source": [
    "---\n",
    "\n",
    "## Introduction to Python\n",
    "\n",
    "Python is a open source general-purpose programming language. It is available across many platforms including Windows, Linux and Mac OS.\n",
    "\n",
    "The history of the Python programming language dates back to the late 1980s and its implementation was started in December 1989 by Guido van Rossum. \n",
    "\n",
    "The version of Python (i.e., Python 1.0) was introduced in 1991 and its eveluation has reached up to Version 3.x (till 2020).\n",
    "\n",
    "https://www.python.org/\n",
    "\n",
    "![](./Figures/guido.png)\n",
    "\n",
    "Figure: Photograph of Guido van Rossum—Creator. (Image courtesy of Wikipedia.org).\n",
    "\n",
    "### Most Popular Programming Languages 1965 - 2022\n",
    "https://www.youtube.com/watch?v=G-0kiQImaV8\n",
    "\n",
    "### Scientific Tools of Python:\n",
    "\n",
    "The Python ecosystem consists of these core scientific tools which are essential for analysing and simulating complex systems, these packages are SciPy, NumPy, Sympy and Matplotlib. \n",
    "\n",
    "**SciPy** library is mainly used for numerical integration and optimization. \n",
    "\n",
    "**NumPy** provides N-dimensional array objects which can be used to perform linear algebra, Fourier transform and other mathematical operations. \n",
    "\n",
    "**Matplotlib** is the oldest and most popular plotting library available for Python. These tools are usefull for solving scientific problems.\n",
    "\n",
    "**Pandas** is a fast, powerful, flexible and easy to use open source data analysis and manipulation tool."
   ]
  },
  {
   "cell_type": "markdown",
   "metadata": {},
   "source": [
    "---\n",
    "\n",
    "### What is ChatGPT?\n",
    "\n",
    "\n",
    "\n",
    "<img src=\"./Figures/chat-gpt.jpg\" align=\"left\"/> <br>\n",
    "  https://chat.openai.com/chat"
   ]
  },
  {
   "cell_type": "markdown",
   "metadata": {},
   "source": [
    "---\n",
    "## Launching Python \n",
    "\n",
    "There are several interfaces that allows us to use Python interactively. IPython, Jupyter, Anaconda spyder are among some of them. \n",
    "\n",
    "We will use **Jupyter** in this class.\n",
    "\n",
    "<img src=\"./Figures/jupyter.png\" width=\"200\" height=\"200\" align=\"left\"/> <br> \n",
    "https://jupyter.org/\n",
    "<br> \n",
    "\n",
    "---\n",
    "Jupyter is an open source web application that uses a browserbased interface and it is one of the many possible ways to interact with Python and the scientific libraries. \n",
    "\n",
    "You can :\n",
    "\n",
    "• create and share documents,\n",
    "\n",
    "• write and execute Python code,\n",
    "\n",
    "• include tables, figures, equation, visualizations, etc. with Jupyter which is fast processor in the scientific computing algorithms.\n",
    "\n",
    "https://www.youtube.com/watch?v=3C9E2yPBw7s\n",
    "\n",
    "\n",
    "### Installing Jupyter:\n",
    "<img src=\"./Figures/anaconda.png\" width=\"240\" height=\"130\" align=\"left\"/> \n",
    "\n",
    "https://www.anaconda.com/\n",
    "\n",
    "https://www.youtube.com/watch?v=5mDYijMfSzs"
   ]
  },
  {
   "cell_type": "markdown",
   "metadata": {},
   "source": [
    "---\n",
    "\n",
    "## Basic reference tools for Python and Jupyter\n",
    "\n",
    "### Writting codes\n",
    "The codes are written in cells in Jupyter."
   ]
  },
  {
   "cell_type": "code",
   "execution_count": 2,
   "metadata": {},
   "outputs": [
    {
     "ename": "NameError",
     "evalue": "name 'kdfdkfjdkfdkfmvmdk' is not defined",
     "output_type": "error",
     "traceback": [
      "\u001b[1;31m---------------------------------------------------------------------------\u001b[0m",
      "\u001b[1;31mNameError\u001b[0m                                 Traceback (most recent call last)",
      "\u001b[1;32m~\\AppData\\Local\\Temp\\ipykernel_14276\\2596751063.py\u001b[0m in \u001b[0;36m<module>\u001b[1;34m\u001b[0m\n\u001b[1;32m----> 1\u001b[1;33m \u001b[0mkdfdkfjdkfdkfmvmdk\u001b[0m\u001b[1;33m\u001b[0m\u001b[1;33m\u001b[0m\u001b[0m\n\u001b[0m\u001b[0;32m      2\u001b[0m \u001b[0mfkgkfgk\u001b[0m\u001b[1;33m\u001b[0m\u001b[1;33m\u001b[0m\u001b[0m\n\u001b[0;32m      3\u001b[0m \u001b[1;33m\u001b[0m\u001b[0m\n\u001b[0;32m      4\u001b[0m \u001b[0mfgkfkgfk\u001b[0m\u001b[1;33m\u001b[0m\u001b[1;33m\u001b[0m\u001b[0m\n\u001b[0;32m      5\u001b[0m \u001b[1;33m\u001b[0m\u001b[0m\n",
      "\u001b[1;31mNameError\u001b[0m: name 'kdfdkfjdkfdkfmvmdk' is not defined"
     ]
    }
   ],
   "source": [
    "kdfdkfjdkfdkfmvmdk\n",
    "fkgkfgk\n",
    "\n",
    "fgkfkgfk\n",
    "\n",
    "\n",
    "fgkfgkfkg"
   ]
  },
  {
   "cell_type": "code",
   "execution_count": null,
   "metadata": {},
   "outputs": [],
   "source": []
  },
  {
   "cell_type": "markdown",
   "metadata": {},
   "source": [
    "### Execution of the codes\n",
    "\n",
    "if you are using Jupyter interface,\n",
    "\n",
    "_**<font color=orange>Shift + Enter</font>**_ --> execute cell and jump to the next one\n",
    "\n",
    "_**<font color=orange>Ctrl + Enter</font>**_ --> execute cell and don't jump to the next cell\n",
    "\n",
    "### To write outputs in to the screen;\n",
    "\n",
    "<img src=\"./Figures/lebron_james.jpg\" width=\"400\" height=\"200\" align=\"left\"/> "
   ]
  },
  {
   "cell_type": "markdown",
   "metadata": {},
   "source": [
    "_Let's print \"LeBron James\" on the screen_ : LeBron James"
   ]
  },
  {
   "cell_type": "code",
   "execution_count": 3,
   "metadata": {},
   "outputs": [
    {
     "ename": "SyntaxError",
     "evalue": "invalid syntax (3902554258.py, line 1)",
     "output_type": "error",
     "traceback": [
      "\u001b[1;36m  File \u001b[1;32m\"C:\\Users\\drayd\\AppData\\Local\\Temp\\ipykernel_14276\\3902554258.py\"\u001b[1;36m, line \u001b[1;32m1\u001b[0m\n\u001b[1;33m    LeBron James\u001b[0m\n\u001b[1;37m           ^\u001b[0m\n\u001b[1;31mSyntaxError\u001b[0m\u001b[1;31m:\u001b[0m invalid syntax\n"
     ]
    }
   ],
   "source": [
    "LeBron James"
   ]
  },
  {
   "cell_type": "markdown",
   "metadata": {},
   "source": [
    "_Correct syntax:_ print(\"Lebron james\")"
   ]
  },
  {
   "cell_type": "code",
   "execution_count": 4,
   "metadata": {},
   "outputs": [
    {
     "name": "stdout",
     "output_type": "stream",
     "text": [
      "LeBron James\n"
     ]
    }
   ],
   "source": [
    "print(\"LeBron James\")"
   ]
  },
  {
   "cell_type": "markdown",
   "metadata": {},
   "source": [
    "## Comments\n",
    "\n",
    "\"#\" after this sign, comments can be written. The program doesn't execute succesive codes."
   ]
  },
  {
   "cell_type": "code",
   "execution_count": 6,
   "metadata": {},
   "outputs": [],
   "source": [
    "# print(\"LeBron James\")"
   ]
  },
  {
   "cell_type": "markdown",
   "metadata": {},
   "source": [
    "*Comment out multiple cells in Jupyter: The keyboard shortcuts \"Ctrl\" + \"/\" on Microsoft Windows*"
   ]
  },
  {
   "cell_type": "code",
   "execution_count": null,
   "metadata": {},
   "outputs": [],
   "source": []
  },
  {
   "cell_type": "markdown",
   "metadata": {},
   "source": [
    "---\n",
    "## Programming Algorithm\n",
    "\n",
    "Algorithms tell the programmers how to code the program. It is important editting to a strong algorithm than coding a program. Flowchart represents a diagram that graphically depicts the steps in a program. An algorithm steps basically be like as below.\n",
    "\n",
    "![](./Figures/algorithm.png) \n",
    "\n",
    "Figure 1 : Flowchart diagram of basic programming seps. Ovals are terminal symbols, Parallelograms are input and output symbols, Rectangles are processing symbols, Symbols are connected by arrows that represent the flow of the program. Statements in a program execute in the order that they appear\n",
    "\n",
    "\n",
    "### Typical steps of programming:\n",
    "\n",
    ">Design the program\n",
    ">>Write the code\n",
    ">>>Correct syntax errors\n",
    ">>>>Test the program\n",
    ">>>>>Correct logic errors"
   ]
  },
  {
   "cell_type": "markdown",
   "metadata": {},
   "source": [
    "---\n",
    "## Python Programming Fundamentals\n",
    "\n",
    "<img src=\"./Figures/basics.jpg\" align=\"left\"/> \n",
    "\n",
    "Source: https://www.shutterstock.com/tr/image-photo/basics-word-made-building-blocks-584253658"
   ]
  },
  {
   "cell_type": "markdown",
   "metadata": {},
   "source": [
    "Lets discuss the *fundamental parameters* of Python Programming language that we need to know to start writing basic Python codes. \n",
    "\n",
    "These are **identifiers**, **keywords**, and **operators**.\n",
    "\n",
    "## Identifiers:\n",
    "An identifier is a **user-defined \"name\"** given to a variable, function, class or module. Here are the rules that we should know to set an identifier:\n",
    "\n",
    "• Can begin with an alphabet (A – Z and a – z and _) and be a combination of lowercase or uppercase or digits.\n",
    "\n",
    "• Do not start with a digit but can used in anywhere else such as legend1 can allow but 1legend is invalid.\n",
    "\n",
    "• Keywords cannot be used as identifiers.\n",
    "\n",
    "• Do not use spaces and special symbols like !, @, #, $, % etc. as identifiers.\n",
    "\n",
    "• Identifier can be of any length.\n",
    "\n",
    "## Keywords:\n",
    "\n",
    "Keywords are a list of reserved words (names) that have predefined meaning in PYTHON. They are special vocabulary and  should not be use as an identifier name which will cause an error.\n",
    "\n",
    "<img src=\"./Figures/keywords.png\" align=\"left\"/> "
   ]
  },
  {
   "cell_type": "code",
   "execution_count": null,
   "metadata": {},
   "outputs": [],
   "source": [
    "sakarya"
   ]
  },
  {
   "cell_type": "markdown",
   "metadata": {},
   "source": [
    "*Keywords are shown in different colors*"
   ]
  },
  {
   "cell_type": "code",
   "execution_count": null,
   "metadata": {},
   "outputs": [],
   "source": [
    "and"
   ]
  },
  {
   "cell_type": "markdown",
   "metadata": {},
   "source": [
    "---\n",
    "## Operators:\n",
    "\n",
    "Operators are symbols, such as +, –, =, >, and <. Python allows you to perform mathematical or logical operations to manipulate data values and produce a result based on some rules. Python language supports a wide range of operators. \n",
    "\n",
    "### 1. Arithmetic Operators\n",
    "\n",
    "Arithmetic operators are used to execute arithmetic operations such as addition, subtraction, division, multiplication etc.\n",
    "\n",
    "![](./Figures/operators_arithmetic.png) "
   ]
  },
  {
   "cell_type": "markdown",
   "metadata": {},
   "source": [
    "_Addition:_"
   ]
  },
  {
   "cell_type": "code",
   "execution_count": 7,
   "metadata": {},
   "outputs": [
    {
     "data": {
      "text/plain": [
       "7"
      ]
     },
     "execution_count": 7,
     "metadata": {},
     "output_type": "execute_result"
    }
   ],
   "source": [
    "3 + 4"
   ]
  },
  {
   "cell_type": "markdown",
   "metadata": {},
   "source": [
    "_Exponent:_ 5^3"
   ]
  },
  {
   "cell_type": "code",
   "execution_count": 8,
   "metadata": {},
   "outputs": [
    {
     "data": {
      "text/plain": [
       "125"
      ]
     },
     "execution_count": 8,
     "metadata": {},
     "output_type": "execute_result"
    }
   ],
   "source": [
    "5**3"
   ]
  },
  {
   "cell_type": "markdown",
   "metadata": {},
   "source": [
    "### 2. Assignment Operators\n",
    "\n",
    "Assignment operators are used for assigning the values to a variable."
   ]
  },
  {
   "cell_type": "code",
   "execution_count": null,
   "metadata": {},
   "outputs": [],
   "source": [
    "a = 5\n",
    "b = -6"
   ]
  },
  {
   "cell_type": "markdown",
   "metadata": {},
   "source": [
    "<img src=\"./Figures/oparetors_assignment.png\" align=\"left\"/> "
   ]
  },
  {
   "cell_type": "markdown",
   "metadata": {},
   "source": [
    "_run the operator below and recognize how x change in each run_"
   ]
  },
  {
   "cell_type": "code",
   "execution_count": null,
   "metadata": {},
   "outputs": [],
   "source": []
  },
  {
   "cell_type": "markdown",
   "metadata": {},
   "source": [
    "### 3. Comparison Operators\n",
    "\n",
    "They are used to compare the values of two operands and output is always a Boolean value, either True or False\n",
    "\n",
    "<img src=\"./Figures/Operators_Comparison.png\" align=\"left\"/> "
   ]
  },
  {
   "cell_type": "markdown",
   "metadata": {},
   "source": [
    "_Equal to:_"
   ]
  },
  {
   "cell_type": "code",
   "execution_count": 10,
   "metadata": {},
   "outputs": [
    {
     "data": {
      "text/plain": [
       "True"
      ]
     },
     "execution_count": 10,
     "metadata": {},
     "output_type": "execute_result"
    }
   ],
   "source": [
    "1 == 1"
   ]
  },
  {
   "cell_type": "code",
   "execution_count": 12,
   "metadata": {},
   "outputs": [
    {
     "data": {
      "text/plain": [
       "True"
      ]
     },
     "execution_count": 12,
     "metadata": {},
     "output_type": "execute_result"
    }
   ],
   "source": [
    "\"ali\" == \"ali\""
   ]
  },
  {
   "cell_type": "code",
   "execution_count": 13,
   "metadata": {},
   "outputs": [
    {
     "data": {
      "text/plain": [
       "False"
      ]
     },
     "execution_count": 13,
     "metadata": {},
     "output_type": "execute_result"
    }
   ],
   "source": [
    "\"ali\" == \"Ali\""
   ]
  },
  {
   "cell_type": "markdown",
   "metadata": {},
   "source": [
    "_Lesser than:_"
   ]
  },
  {
   "cell_type": "code",
   "execution_count": 15,
   "metadata": {},
   "outputs": [
    {
     "data": {
      "text/plain": [
       "False"
      ]
     },
     "execution_count": 15,
     "metadata": {},
     "output_type": "execute_result"
    }
   ],
   "source": [
    "3 > 6"
   ]
  },
  {
   "cell_type": "markdown",
   "metadata": {},
   "source": [
    "_Greater than or equal to:_ "
   ]
  },
  {
   "cell_type": "code",
   "execution_count": 17,
   "metadata": {},
   "outputs": [
    {
     "data": {
      "text/plain": [
       "False"
      ]
     },
     "execution_count": 17,
     "metadata": {},
     "output_type": "execute_result"
    }
   ],
   "source": [
    "3 >= 5"
   ]
  }
 ],
 "metadata": {
  "hide_input": false,
  "kernelspec": {
   "display_name": "Python 3 (ipykernel)",
   "language": "python",
   "name": "python3"
  },
  "language_info": {
   "codemirror_mode": {
    "name": "ipython",
    "version": 3
   },
   "file_extension": ".py",
   "mimetype": "text/x-python",
   "name": "python",
   "nbconvert_exporter": "python",
   "pygments_lexer": "ipython3",
   "version": "3.9.13"
  },
  "varInspector": {
   "cols": {
    "lenName": 16,
    "lenType": 16,
    "lenVar": 40
   },
   "kernels_config": {
    "python": {
     "delete_cmd_postfix": "",
     "delete_cmd_prefix": "del ",
     "library": "var_list.py",
     "varRefreshCmd": "print(var_dic_list())"
    },
    "r": {
     "delete_cmd_postfix": ") ",
     "delete_cmd_prefix": "rm(",
     "library": "var_list.r",
     "varRefreshCmd": "cat(var_dic_list()) "
    }
   },
   "types_to_exclude": [
    "module",
    "function",
    "builtin_function_or_method",
    "instance",
    "_Feature"
   ],
   "window_display": false
  }
 },
 "nbformat": 4,
 "nbformat_minor": 4
}
