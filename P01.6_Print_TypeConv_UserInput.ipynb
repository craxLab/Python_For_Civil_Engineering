{
 "cells": [
  {
   "cell_type": "markdown",
   "metadata": {},
   "source": [
    "## Computer Programming with Python\n",
    "---"
   ]
  },
  {
   "cell_type": "markdown",
   "metadata": {},
   "source": [
    "### _The topics of the week !_\n",
    "\n",
    "### Python Data Types\n",
    "- Python Collections:\n",
    "    - Dictionaries -->  Unordered, changeable, indexed and single members collection.\n",
    "    \n",
    "- User Input"
   ]
  },
  {
   "cell_type": "markdown",
   "metadata": {},
   "source": [
    "----\n",
    "\n",
    "# print() function\n",
    "\n",
    "\n",
    "film = \"3 Idiots\"  ; star = \"Aamir Khan\" ; year = 2009\n",
    "\n",
    "<img src=\"./Figures/3idiots.jpg\" align=\"left\"/>"
   ]
  },
  {
   "cell_type": "code",
   "execution_count": 7,
   "metadata": {},
   "outputs": [],
   "source": [
    "film = \"sefiller\"\n",
    "star = \"Hakan\"\n",
    "year = 2025"
   ]
  },
  {
   "cell_type": "markdown",
   "metadata": {},
   "source": [
    "**_print on the screen:_**"
   ]
  },
  {
   "cell_type": "code",
   "execution_count": 8,
   "metadata": {},
   "outputs": [
    {
     "name": "stdout",
     "output_type": "stream",
     "text": [
      "Filmin adı: 3 idiots, filmin başrol oyuncusu:Aamir Khan, yapım yılı: 2009\n"
     ]
    }
   ],
   "source": [
    "print(\"Filmin adı: sefiller, filmin başrol oyuncusu:Aamir Khan, yapım yılı: 2009\")"
   ]
  },
  {
   "cell_type": "markdown",
   "metadata": {},
   "source": [
    "**_print on the screen with a seperator (,):_**"
   ]
  },
  {
   "cell_type": "code",
   "execution_count": 9,
   "metadata": {},
   "outputs": [
    {
     "name": "stdout",
     "output_type": "stream",
     "text": [
      "Filmin adı: sefiller filmin başrol oyuncusu: Hakan yapım yılı: 2025\n"
     ]
    }
   ],
   "source": [
    "print(\"Filmin adı:\", film, \"filmin başrol oyuncusu:\", star, \"yapım yılı:\", year)"
   ]
  },
  {
   "cell_type": "markdown",
   "metadata": {},
   "source": [
    "**_print on the screen a building period (T):_**"
   ]
  },
  {
   "cell_type": "code",
   "execution_count": 14,
   "metadata": {},
   "outputs": [
    {
     "name": "stdout",
     "output_type": "stream",
     "text": [
      "Bina periyodu: 2.5 sn\n"
     ]
    }
   ],
   "source": [
    "period = 2.5\n",
    "print(\"Bina periyodu:\", period, \"sn\")"
   ]
  },
  {
   "cell_type": "markdown",
   "metadata": {},
   "source": [
    "### Define a seperator between items: sep = \" \"\n",
    "\n",
    "**_Create a print() function:_**"
   ]
  },
  {
   "cell_type": "code",
   "execution_count": 15,
   "metadata": {},
   "outputs": [
    {
     "name": "stdout",
     "output_type": "stream",
     "text": [
      "1 2 3 4\n"
     ]
    }
   ],
   "source": [
    "print(1, 2, 3, 4)"
   ]
  },
  {
   "cell_type": "markdown",
   "metadata": {},
   "source": [
    "**_Regular way to use a seperator:_**"
   ]
  },
  {
   "cell_type": "code",
   "execution_count": 16,
   "metadata": {},
   "outputs": [
    {
     "name": "stdout",
     "output_type": "stream",
     "text": [
      "1 - 2 - 3 - 4\n"
     ]
    }
   ],
   "source": [
    "print(1, \"-\", 2, \"-\", 3, \"-\",4)"
   ]
  },
  {
   "cell_type": "markdown",
   "metadata": {},
   "source": [
    "_**sep = \" \"** parameter:_"
   ]
  },
  {
   "cell_type": "code",
   "execution_count": 18,
   "metadata": {},
   "outputs": [
    {
     "name": "stdout",
     "output_type": "stream",
     "text": [
      "1 - 2 - 3 - 4\n"
     ]
    }
   ],
   "source": [
    "print(1, 2, 3, 4, sep=\" - \")"
   ]
  },
  {
   "cell_type": "markdown",
   "metadata": {},
   "source": [
    "_**end = \" \"** parameter:_"
   ]
  },
  {
   "cell_type": "code",
   "execution_count": 20,
   "metadata": {},
   "outputs": [
    {
     "name": "stdout",
     "output_type": "stream",
     "text": [
      "1 - 2 - 3 - 4@"
     ]
    }
   ],
   "source": [
    "print(1, 2, 3, 4, sep=\" - \", end=\"@\")"
   ]
  },
  {
   "cell_type": "markdown",
   "metadata": {},
   "source": [
    "## The format() method\n",
    "The format() method is the most flexible and useful method in formatting strings. The curly braces {} are used as the placeholder in the string and replaced by the format() method argument. Let's have a look at the given an example:\n",
    "\n",
    "#### 1) Using curly braces"
   ]
  },
  {
   "cell_type": "code",
   "execution_count": 21,
   "metadata": {},
   "outputs": [
    {
     "name": "stdout",
     "output_type": "stream",
     "text": [
      "Bina periyodu: 2 sn\n",
      "Bina periyodu: 2 sn\n"
     ]
    }
   ],
   "source": [
    "T = 2\n",
    "print(\"Bina periyodu:\", T, \"sn\")\n",
    "print(\"Bina periyodu: {} sn\".format(T))"
   ]
  },
  {
   "cell_type": "markdown",
   "metadata": {},
   "source": [
    "**_Example from structural dynamics:_**"
   ]
  },
  {
   "cell_type": "code",
   "execution_count": 25,
   "metadata": {},
   "outputs": [
    {
     "name": "stdout",
     "output_type": "stream",
     "text": [
      "Bina periyodu: 20 sn, Frekans: 0.05 Hz, Açısal frekans: 0.31400000000000006 rad/s\n"
     ]
    }
   ],
   "source": [
    "T = 20        # period\n",
    "f = 1/T      # frekans\n",
    "w = 2*3.14*f # frekans\n",
    "\n",
    "print(\"Bina periyodu: {} sn, Frekans: {} Hz, Açısal frekans: {} rad/s\".format(T,f,w))"
   ]
  },
  {
   "cell_type": "markdown",
   "metadata": {},
   "source": [
    "#### 2) Positional Argument {number}"
   ]
  },
  {
   "cell_type": "code",
   "execution_count": null,
   "metadata": {},
   "outputs": [],
   "source": []
  },
  {
   "cell_type": "markdown",
   "metadata": {},
   "source": [
    "#### 3) Keyword Argument {keyword}"
   ]
  },
  {
   "cell_type": "code",
   "execution_count": null,
   "metadata": {},
   "outputs": [],
   "source": []
  },
  {
   "cell_type": "markdown",
   "metadata": {},
   "source": [
    "####  4) Variable argument {var}"
   ]
  },
  {
   "cell_type": "code",
   "execution_count": 26,
   "metadata": {},
   "outputs": [
    {
     "name": "stdout",
     "output_type": "stream",
     "text": [
      "Bina periyodu: 20 sn, Frekans: 0.05 Hz, Açısal frekans: 0.31400000000000006 rad/s\n"
     ]
    }
   ],
   "source": [
    "T = 20        # period\n",
    "f = 1/T      # frekans\n",
    "w = 2*3.14*f # frekans\n",
    "\n",
    "print(f\"Bina periyodu: {T} sn, Frekans: {f} Hz, Açısal frekans: {w} rad/s\")"
   ]
  },
  {
   "cell_type": "markdown",
   "metadata": {},
   "source": [
    "https://pyformat.info/\n",
    "\n",
    "<img src=\"./Figures/PyFormat.jpg\" align=\"left\"/>"
   ]
  },
  {
   "cell_type": "markdown",
   "metadata": {},
   "source": [
    "---\n",
    "\n",
    "# Type Conversion\n",
    "\n",
    "Python allows you to convert your data from one type to another.\n",
    "\n",
    "*int()* ; *float()* ; *str()*"
   ]
  },
  {
   "cell_type": "markdown",
   "metadata": {},
   "source": [
    "***Float to integer conversion***"
   ]
  },
  {
   "cell_type": "code",
   "execution_count": 29,
   "metadata": {},
   "outputs": [
    {
     "data": {
      "text/plain": [
       "int"
      ]
     },
     "execution_count": 29,
     "metadata": {},
     "output_type": "execute_result"
    }
   ],
   "source": [
    "int(15.2)\n",
    "type(int(15.2))"
   ]
  },
  {
   "cell_type": "markdown",
   "metadata": {},
   "source": [
    "***Integer to float conversion***"
   ]
  },
  {
   "cell_type": "code",
   "execution_count": 30,
   "metadata": {},
   "outputs": [
    {
     "data": {
      "text/plain": [
       "3.0"
      ]
     },
     "execution_count": 30,
     "metadata": {},
     "output_type": "execute_result"
    }
   ],
   "source": [
    "float(3)"
   ]
  },
  {
   "cell_type": "markdown",
   "metadata": {},
   "source": [
    "***Integer to string conversion***"
   ]
  },
  {
   "cell_type": "code",
   "execution_count": 31,
   "metadata": {},
   "outputs": [
    {
     "data": {
      "text/plain": [
       "'100'"
      ]
     },
     "execution_count": 31,
     "metadata": {},
     "output_type": "execute_result"
    }
   ],
   "source": [
    "str(100)"
   ]
  },
  {
   "cell_type": "code",
   "execution_count": 32,
   "metadata": {},
   "outputs": [
    {
     "data": {
      "text/plain": [
       "int"
      ]
     },
     "execution_count": 32,
     "metadata": {},
     "output_type": "execute_result"
    }
   ],
   "source": [
    "type(100)"
   ]
  },
  {
   "cell_type": "code",
   "execution_count": 33,
   "metadata": {},
   "outputs": [
    {
     "data": {
      "text/plain": [
       "str"
      ]
     },
     "execution_count": 33,
     "metadata": {},
     "output_type": "execute_result"
    }
   ],
   "source": [
    "type(str(100))"
   ]
  },
  {
   "cell_type": "markdown",
   "metadata": {},
   "source": [
    "***float to string conversion***"
   ]
  },
  {
   "cell_type": "code",
   "execution_count": 34,
   "metadata": {},
   "outputs": [
    {
     "data": {
      "text/plain": [
       "'9.81'"
      ]
     },
     "execution_count": 34,
     "metadata": {},
     "output_type": "execute_result"
    }
   ],
   "source": [
    "str(9.81)"
   ]
  },
  {
   "cell_type": "markdown",
   "metadata": {},
   "source": [
    "***String to integer conversion***"
   ]
  },
  {
   "cell_type": "code",
   "execution_count": 35,
   "metadata": {},
   "outputs": [
    {
     "data": {
      "text/plain": [
       "85"
      ]
     },
     "execution_count": 35,
     "metadata": {},
     "output_type": "execute_result"
    }
   ],
   "source": [
    "int(\"85\")"
   ]
  },
  {
   "cell_type": "markdown",
   "metadata": {},
   "source": [
    "***String to float conversion***"
   ]
  },
  {
   "cell_type": "code",
   "execution_count": 36,
   "metadata": {},
   "outputs": [
    {
     "data": {
      "text/plain": [
       "48.75"
      ]
     },
     "execution_count": 36,
     "metadata": {},
     "output_type": "execute_result"
    }
   ],
   "source": [
    "float(\"48.75\")"
   ]
  },
  {
   "cell_type": "markdown",
   "metadata": {},
   "source": [
    "***int() Syntax error*** "
   ]
  },
  {
   "cell_type": "code",
   "execution_count": 37,
   "metadata": {},
   "outputs": [
    {
     "ename": "ValueError",
     "evalue": "could not convert string to float: 'a48.75'",
     "output_type": "error",
     "traceback": [
      "\u001b[1;31m---------------------------------------------------------------------------\u001b[0m",
      "\u001b[1;31mValueError\u001b[0m                                Traceback (most recent call last)",
      "\u001b[1;32m~\\AppData\\Local\\Temp\\ipykernel_19624\\3990773204.py\u001b[0m in \u001b[0;36m<module>\u001b[1;34m\u001b[0m\n\u001b[1;32m----> 1\u001b[1;33m \u001b[0mfloat\u001b[0m\u001b[1;33m(\u001b[0m\u001b[1;34m\"a48.75\"\u001b[0m\u001b[1;33m)\u001b[0m\u001b[1;33m\u001b[0m\u001b[1;33m\u001b[0m\u001b[0m\n\u001b[0m",
      "\u001b[1;31mValueError\u001b[0m: could not convert string to float: 'a48.75'"
     ]
    }
   ],
   "source": [
    "float(\"a48.75\")"
   ]
  },
  {
   "cell_type": "code",
   "execution_count": 40,
   "metadata": {},
   "outputs": [
    {
     "data": {
      "text/plain": [
       "-48.25"
      ]
     },
     "execution_count": 40,
     "metadata": {},
     "output_type": "execute_result"
    }
   ],
   "source": [
    "float(\"-48.25\")"
   ]
  },
  {
   "cell_type": "markdown",
   "metadata": {},
   "source": [
    "***float() Syntax error***"
   ]
  },
  {
   "cell_type": "code",
   "execution_count": null,
   "metadata": {},
   "outputs": [],
   "source": []
  },
  {
   "cell_type": "markdown",
   "metadata": {},
   "source": [
    "---\n",
    "\n",
    "# User Input\n",
    "\n",
    "Read a line of text from standard **_input_** comes from the keyboard\n",
    "\n",
    "Python defines user input as **string**, therefore type() conversion is needed\n"
   ]
  },
  {
   "cell_type": "markdown",
   "metadata": {},
   "source": [
    "ask the user to enter text input"
   ]
  },
  {
   "cell_type": "code",
   "execution_count": 41,
   "metadata": {},
   "outputs": [
    {
     "name": "stdout",
     "output_type": "stream",
     "text": [
      "25kdkfdkfjdkfd\n"
     ]
    },
    {
     "data": {
      "text/plain": [
       "'25kdkfdkfjdkfd'"
      ]
     },
     "execution_count": 41,
     "metadata": {},
     "output_type": "execute_result"
    }
   ],
   "source": [
    "input()"
   ]
  },
  {
   "cell_type": "code",
   "execution_count": 44,
   "metadata": {},
   "outputs": [
    {
     "name": "stdout",
     "output_type": "stream",
     "text": [
      "bina periyodu: 3 sn\n"
     ]
    }
   ],
   "source": [
    "T = 3\n",
    "print(f\"bina periyodu: {T} sn\")"
   ]
  },
  {
   "cell_type": "code",
   "execution_count": 49,
   "metadata": {},
   "outputs": [
    {
     "name": "stdout",
     "output_type": "stream",
     "text": [
      "Bina periyodunu giriniz:8.2\n",
      "bina periyodu: 8.2 sn\n"
     ]
    }
   ],
   "source": [
    "T = input(\"Bina periyodunu giriniz:\")\n",
    "print(f\"bina periyodu: {T} sn\")"
   ]
  },
  {
   "cell_type": "markdown",
   "metadata": {},
   "source": [
    "**User Input type error and type conversion:**"
   ]
  },
  {
   "cell_type": "code",
   "execution_count": 54,
   "metadata": {},
   "outputs": [
    {
     "name": "stdout",
     "output_type": "stream",
     "text": [
      "Bir sayı giriniz:2.5\n",
      "<class 'str'>\n",
      "Girilen sayının iki katı = 2.52.5\n"
     ]
    }
   ],
   "source": [
    "x = input(\"Bir sayı giriniz:\")\n",
    "print(type(x))\n",
    "y = 2*x\n",
    "print(f\"Girilen sayının iki katı = {y}\")"
   ]
  },
  {
   "cell_type": "code",
   "execution_count": 55,
   "metadata": {},
   "outputs": [
    {
     "name": "stdout",
     "output_type": "stream",
     "text": [
      "Bir sayı giriniz:2.5\n",
      "<class 'float'>\n",
      "Girilen sayının iki katı = 5.0\n"
     ]
    }
   ],
   "source": [
    "x = float(input(\"Bir sayı giriniz:\"))\n",
    "print(type(x))\n",
    "y = 2*x\n",
    "print(f\"Girilen sayının iki katı = {y}\")"
   ]
  },
  {
   "cell_type": "markdown",
   "metadata": {},
   "source": [
    "### Example:\n",
    "\n",
    "Let's write a code to calculate the Frequency (f) and Angular Frequency (w) of a given Period (T) and print the results on the screen. The period should be defined as user input."
   ]
  },
  {
   "cell_type": "code",
   "execution_count": 57,
   "metadata": {},
   "outputs": [
    {
     "name": "stdout",
     "output_type": "stream",
     "text": [
      "Bina periyodu: 12 sn, Frekans: 0.08333333333333333 Hz, Açısal frekans: 0.5233333333333333 rad/s\n"
     ]
    }
   ],
   "source": [
    "T = 12        # period\n",
    "f = 1/T      # frekans\n",
    "w = 2*3.14*f # açisal frekans\n",
    "\n",
    "print(f\"Bina periyodu: {T} sn, Frekans: {f} Hz, Açısal frekans: {w} rad/s\")"
   ]
  },
  {
   "cell_type": "code",
   "execution_count": 60,
   "metadata": {},
   "outputs": [
    {
     "name": "stdout",
     "output_type": "stream",
     "text": [
      "Bina periyodunu giriniz:15\n",
      "Bina periyodu: 15.0 sn, Frekans: 0.06666666666666667 Hz, Açısal frekans: 0.4186666666666667 rad/s\n"
     ]
    }
   ],
   "source": [
    "T = float(input(\"Bina periyodunu giriniz:\"))        # period\n",
    "f = 1/T      # frekans\n",
    "w = 2*3.14*f # açisal frekans\n",
    "\n",
    "print(f\"Bina periyodu: {T} sn, Frekans: {f} Hz, Açısal frekans: {w} rad/s\")"
   ]
  },
  {
   "cell_type": "markdown",
   "metadata": {},
   "source": [
    "**ChatGPT**\n",
    "\n",
    "Please write a code in python to calculate the Frequency (f) and Angular Frequency (w) of a given Period (T) and print the results on the screen. The period should be defined as user input. Then translate it into Turkish."
   ]
  },
  {
   "cell_type": "code",
   "execution_count": 61,
   "metadata": {},
   "outputs": [
    {
     "name": "stdout",
     "output_type": "stream",
     "text": [
      "Lütfen periyot değerini girin: 15\n",
      "Frekans:  0.06666666666666667\n",
      "Açısal frekans:  0.41887902047863906\n"
     ]
    }
   ],
   "source": [
    "period = float(input(\"Lütfen periyot değerini girin: \"))\n",
    "\n",
    "frequency = 1 / period\n",
    "angular_frequency = 2 * 3.14 * frequency\n",
    "\n",
    "print(\"Frekans: \", frequency)\n",
    "print(\"Açısal frekans: \", angular_frequency)"
   ]
  }
 ],
 "metadata": {
  "hide_input": false,
  "kernelspec": {
   "display_name": "Python 3 (ipykernel)",
   "language": "python",
   "name": "python3"
  },
  "language_info": {
   "codemirror_mode": {
    "name": "ipython",
    "version": 3
   },
   "file_extension": ".py",
   "mimetype": "text/x-python",
   "name": "python",
   "nbconvert_exporter": "python",
   "pygments_lexer": "ipython3",
   "version": "3.9.13"
  },
  "varInspector": {
   "cols": {
    "lenName": 16,
    "lenType": 16,
    "lenVar": 40
   },
   "kernels_config": {
    "python": {
     "delete_cmd_postfix": "",
     "delete_cmd_prefix": "del ",
     "library": "var_list.py",
     "varRefreshCmd": "print(var_dic_list())"
    },
    "r": {
     "delete_cmd_postfix": ") ",
     "delete_cmd_prefix": "rm(",
     "library": "var_list.r",
     "varRefreshCmd": "cat(var_dic_list()) "
    }
   },
   "types_to_exclude": [
    "module",
    "function",
    "builtin_function_or_method",
    "instance",
    "_Feature"
   ],
   "window_display": false
  }
 },
 "nbformat": 4,
 "nbformat_minor": 4
}
